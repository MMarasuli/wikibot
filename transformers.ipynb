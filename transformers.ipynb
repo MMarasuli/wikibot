{
  "nbformat": 4,
  "nbformat_minor": 0,
  "metadata": {
    "colab": {
      "name": "transformers.ipynb",
      "provenance": [],
      "authorship_tag": "ABX9TyMAchV91hBKfEJg4BElcA4/",
      "include_colab_link": true
    },
    "kernelspec": {
      "name": "python3",
      "display_name": "Python 3"
    },
    "language_info": {
      "name": "python"
    },
    "accelerator": "GPU"
  },
  "cells": [
    {
      "cell_type": "markdown",
      "metadata": {
        "id": "view-in-github",
        "colab_type": "text"
      },
      "source": [
        "<a href=\"https://colab.research.google.com/github/tohpedo/wikibot/blob/main/transformers.ipynb\" target=\"_parent\"><img src=\"https://colab.research.google.com/assets/colab-badge.svg\" alt=\"Open In Colab\"/></a>"
      ]
    },
    {
      "cell_type": "code",
      "metadata": {
        "colab": {
          "base_uri": "https://localhost:8080/"
        },
        "id": "Um8QlCBEdM7R",
        "outputId": "3b82e1f7-ae9c-444f-9320-bd7275c5b779"
      },
      "source": [
        "#install depedencies hugging face\n",
        "!pip install pytorch-pretrained-bert pytorch-nlp pytorch_transformers\n",
        "!pip install folium\n"
      ],
      "execution_count": 4,
      "outputs": [
        {
          "output_type": "stream",
          "name": "stdout",
          "text": [
            "Requirement already satisfied: pytorch-pretrained-bert in /usr/local/lib/python3.7/dist-packages (0.6.2)\n",
            "Requirement already satisfied: pytorch-nlp in /usr/local/lib/python3.7/dist-packages (0.5.0)\n",
            "Requirement already satisfied: pytorch_transformers in /usr/local/lib/python3.7/dist-packages (1.2.0)\n",
            "Requirement already satisfied: regex in /usr/local/lib/python3.7/dist-packages (from pytorch-pretrained-bert) (2019.12.20)\n",
            "Requirement already satisfied: requests in /usr/local/lib/python3.7/dist-packages (from pytorch-pretrained-bert) (2.23.0)\n",
            "Requirement already satisfied: boto3 in /usr/local/lib/python3.7/dist-packages (from pytorch-pretrained-bert) (1.19.7)\n",
            "Requirement already satisfied: tqdm in /usr/local/lib/python3.7/dist-packages (from pytorch-pretrained-bert) (4.62.3)\n",
            "Requirement already satisfied: torch>=0.4.1 in /usr/local/lib/python3.7/dist-packages (from pytorch-pretrained-bert) (1.9.0+cu111)\n",
            "Requirement already satisfied: numpy in /usr/local/lib/python3.7/dist-packages (from pytorch-pretrained-bert) (1.19.5)\n",
            "Requirement already satisfied: typing-extensions in /usr/local/lib/python3.7/dist-packages (from torch>=0.4.1->pytorch-pretrained-bert) (3.7.4.3)\n",
            "Requirement already satisfied: sentencepiece in /usr/local/lib/python3.7/dist-packages (from pytorch_transformers) (0.1.96)\n",
            "Requirement already satisfied: sacremoses in /usr/local/lib/python3.7/dist-packages (from pytorch_transformers) (0.0.46)\n",
            "Requirement already satisfied: botocore<1.23.0,>=1.22.7 in /usr/local/lib/python3.7/dist-packages (from boto3->pytorch-pretrained-bert) (1.22.7)\n",
            "Requirement already satisfied: s3transfer<0.6.0,>=0.5.0 in /usr/local/lib/python3.7/dist-packages (from boto3->pytorch-pretrained-bert) (0.5.0)\n",
            "Requirement already satisfied: jmespath<1.0.0,>=0.7.1 in /usr/local/lib/python3.7/dist-packages (from boto3->pytorch-pretrained-bert) (0.10.0)\n",
            "Requirement already satisfied: urllib3<1.27,>=1.25.4 in /usr/local/lib/python3.7/dist-packages (from botocore<1.23.0,>=1.22.7->boto3->pytorch-pretrained-bert) (1.25.11)\n",
            "Requirement already satisfied: python-dateutil<3.0.0,>=2.1 in /usr/local/lib/python3.7/dist-packages (from botocore<1.23.0,>=1.22.7->boto3->pytorch-pretrained-bert) (2.8.2)\n",
            "Requirement already satisfied: six>=1.5 in /usr/local/lib/python3.7/dist-packages (from python-dateutil<3.0.0,>=2.1->botocore<1.23.0,>=1.22.7->boto3->pytorch-pretrained-bert) (1.15.0)\n",
            "Requirement already satisfied: idna<3,>=2.5 in /usr/local/lib/python3.7/dist-packages (from requests->pytorch-pretrained-bert) (2.10)\n",
            "Requirement already satisfied: chardet<4,>=3.0.2 in /usr/local/lib/python3.7/dist-packages (from requests->pytorch-pretrained-bert) (3.0.4)\n",
            "Requirement already satisfied: certifi>=2017.4.17 in /usr/local/lib/python3.7/dist-packages (from requests->pytorch-pretrained-bert) (2021.5.30)\n",
            "Requirement already satisfied: joblib in /usr/local/lib/python3.7/dist-packages (from sacremoses->pytorch_transformers) (1.0.1)\n",
            "Requirement already satisfied: click in /usr/local/lib/python3.7/dist-packages (from sacremoses->pytorch_transformers) (7.1.2)\n",
            "Requirement already satisfied: folium in /usr/local/lib/python3.7/dist-packages (0.8.3)\n",
            "Requirement already satisfied: requests in /usr/local/lib/python3.7/dist-packages (from folium) (2.23.0)\n",
            "Requirement already satisfied: jinja2 in /usr/local/lib/python3.7/dist-packages (from folium) (2.11.3)\n",
            "Requirement already satisfied: numpy in /usr/local/lib/python3.7/dist-packages (from folium) (1.19.5)\n",
            "Requirement already satisfied: branca>=0.3.0 in /usr/local/lib/python3.7/dist-packages (from folium) (0.4.2)\n",
            "Requirement already satisfied: six in /usr/local/lib/python3.7/dist-packages (from folium) (1.15.0)\n",
            "Requirement already satisfied: MarkupSafe>=0.23 in /usr/local/lib/python3.7/dist-packages (from jinja2->folium) (2.0.1)\n",
            "Requirement already satisfied: certifi>=2017.4.17 in /usr/local/lib/python3.7/dist-packages (from requests->folium) (2021.5.30)\n",
            "Requirement already satisfied: urllib3!=1.25.0,!=1.25.1,<1.26,>=1.21.1 in /usr/local/lib/python3.7/dist-packages (from requests->folium) (1.25.11)\n",
            "Requirement already satisfied: chardet<4,>=3.0.2 in /usr/local/lib/python3.7/dist-packages (from requests->folium) (3.0.4)\n",
            "Requirement already satisfied: idna<3,>=2.5 in /usr/local/lib/python3.7/dist-packages (from requests->folium) (2.10)\n"
          ]
        }
      ]
    },
    {
      "cell_type": "code",
      "metadata": {
        "colab": {
          "base_uri": "https://localhost:8080/"
        },
        "id": "Js5IXEqvPNG6",
        "outputId": "23132427-85a9-4aec-b244-498820795766"
      },
      "source": [
        "import tensorflow as tf\n",
        "device_name = tf.test.gpu_device_name()\n",
        "if device_name != '/device:GPU:0':\n",
        "  raise SystemError('GPU device not found')\n",
        "print('Found GPU at: {}'.format(device_name))"
      ],
      "execution_count": 5,
      "outputs": [
        {
          "output_type": "stream",
          "name": "stdout",
          "text": [
            "Found GPU at: /device:GPU:0\n"
          ]
        }
      ]
    },
    {
      "cell_type": "code",
      "metadata": {
        "id": "DpCR9bYes0GT"
      },
      "source": [
        "\n",
        "import tensorflow as tf\n",
        "import torch\n",
        "from torch.utils.data import TensorDataset, DataLoader, RandomSampler, SequentialSampler\n",
        "from keras.preprocessing.sequence import pad_sequences\n",
        "from sklearn.model_selection import train_test_split\n",
        "from pytorch_transformers import BertTokenizer, BertConfig, BertModel\n",
        "from pytorch_transformers import AdamW, BertForQuestionAnswering\n",
        "from tqdm import tqdm, trange\n",
        "import pandas as pd\n",
        "import io\n",
        "import os\n",
        "import numpy as np\n",
        "import matplotlib.pyplot as plt\n",
        "%matplotlib inline\n"
      ],
      "execution_count": 6,
      "outputs": []
    },
    {
      "cell_type": "code",
      "metadata": {
        "colab": {
          "base_uri": "https://localhost:8080/"
        },
        "id": "ZeH3svQun4Gn",
        "outputId": "679d6b6b-bf64-4b5d-a57e-58d22b8bbb6a"
      },
      "source": [
        "!wget 'https://raw.githubusercontent.com/nlpyang/pytorch-transformers/master/examples/utils_squad.py'\n",
        "!wget 'https://raw.githubusercontent.com/nlpyang/pytorch-transformers/master/examples/utils_squad_evaluate.py'\n",
        "\n",
        "from utils_squad import (read_squad_examples, convert_examples_to_features,\n",
        "                         RawResult, write_predictions,\n",
        "                         RawResultExtended, write_predictions_extended)\n",
        "from utils_squad_evaluate import EVAL_OPTS, main as evaluate_on_squad, plot_pr_curve"
      ],
      "execution_count": 7,
      "outputs": [
        {
          "output_type": "stream",
          "name": "stdout",
          "text": [
            "--2021-11-01 18:42:57--  https://raw.githubusercontent.com/nlpyang/pytorch-transformers/master/examples/utils_squad.py\n",
            "Resolving raw.githubusercontent.com (raw.githubusercontent.com)... 185.199.108.133, 185.199.109.133, 185.199.110.133, ...\n",
            "Connecting to raw.githubusercontent.com (raw.githubusercontent.com)|185.199.108.133|:443... connected.\n",
            "HTTP request sent, awaiting response... 200 OK\n",
            "Length: 41529 (41K) [text/plain]\n",
            "Saving to: ‘utils_squad.py.2’\n",
            "\n",
            "utils_squad.py.2    100%[===================>]  40.56K  --.-KB/s    in 0.004s  \n",
            "\n",
            "2021-11-01 18:42:57 (11.1 MB/s) - ‘utils_squad.py.2’ saved [41529/41529]\n",
            "\n",
            "--2021-11-01 18:42:57--  https://raw.githubusercontent.com/nlpyang/pytorch-transformers/master/examples/utils_squad_evaluate.py\n",
            "Resolving raw.githubusercontent.com (raw.githubusercontent.com)... 185.199.108.133, 185.199.109.133, 185.199.110.133, ...\n",
            "Connecting to raw.githubusercontent.com (raw.githubusercontent.com)|185.199.108.133|:443... connected.\n",
            "HTTP request sent, awaiting response... 200 OK\n",
            "Length: 12493 (12K) [text/plain]\n",
            "Saving to: ‘utils_squad_evaluate.py.2’\n",
            "\n",
            "utils_squad_evaluat 100%[===================>]  12.20K  --.-KB/s    in 0s      \n",
            "\n",
            "2021-11-01 18:42:58 (64.9 MB/s) - ‘utils_squad_evaluate.py.2’ saved [12493/12493]\n",
            "\n"
          ]
        }
      ]
    },
    {
      "cell_type": "code",
      "metadata": {
        "colab": {
          "base_uri": "https://localhost:8080/"
        },
        "id": "_vvVL19xd_12",
        "outputId": "9314b648-772d-4b45-bdba-6bcccec9baca"
      },
      "source": [
        "from google.colab import drive\n",
        "drive.mount('/content/drive/')\n",
        "!ls"
      ],
      "execution_count": 34,
      "outputs": [
        {
          "output_type": "stream",
          "name": "stdout",
          "text": [
            "Drive already mounted at /content/drive/; to attempt to forcibly remount, call drive.mount(\"/content/drive/\", force_remount=True).\n",
            "content      utils_squad_evaluate.py\tutils_squad.py.1\n",
            "drive\t     utils_squad_evaluate.py.1\tutils_squad.py.2\n",
            "__pycache__  utils_squad_evaluate.py.2\n",
            "sample_data  utils_squad.py\n"
          ]
        }
      ]
    },
    {
      "cell_type": "code",
      "metadata": {
        "id": "qC07r8fooQAn"
      },
      "source": [
        "input_file = '/content/drive/My Drive/train-v2.0.json'\n",
        "examples = read_squad_examples(input_file=input_file,\n",
        "                                is_training=True,\n",
        "                                version_2_with_negative=True)"
      ],
      "execution_count": 9,
      "outputs": []
    },
    {
      "cell_type": "code",
      "metadata": {
        "id": "jj-ZnqHRmUHP"
      },
      "source": [
        "examples = examples[:1000]"
      ],
      "execution_count": 10,
      "outputs": []
    },
    {
      "cell_type": "code",
      "metadata": {
        "colab": {
          "base_uri": "https://localhost:8080/",
          "height": 204
        },
        "id": "yLxWgeJKnBIq",
        "outputId": "6a9956a2-b57d-4bd5-9285-257f03108b7f"
      },
      "source": [
        "train_data = pd.DataFrame.from_records([vars(example) for example in examples])\n",
        "train_data.head()"
      ],
      "execution_count": 11,
      "outputs": [
        {
          "output_type": "execute_result",
          "data": {
            "text/html": [
              "<div>\n",
              "<style scoped>\n",
              "    .dataframe tbody tr th:only-of-type {\n",
              "        vertical-align: middle;\n",
              "    }\n",
              "\n",
              "    .dataframe tbody tr th {\n",
              "        vertical-align: top;\n",
              "    }\n",
              "\n",
              "    .dataframe thead th {\n",
              "        text-align: right;\n",
              "    }\n",
              "</style>\n",
              "<table border=\"1\" class=\"dataframe\">\n",
              "  <thead>\n",
              "    <tr style=\"text-align: right;\">\n",
              "      <th></th>\n",
              "      <th>qas_id</th>\n",
              "      <th>question_text</th>\n",
              "      <th>doc_tokens</th>\n",
              "      <th>orig_answer_text</th>\n",
              "      <th>start_position</th>\n",
              "      <th>end_position</th>\n",
              "      <th>is_impossible</th>\n",
              "    </tr>\n",
              "  </thead>\n",
              "  <tbody>\n",
              "    <tr>\n",
              "      <th>0</th>\n",
              "      <td>56be85543aeaaa14008c9063</td>\n",
              "      <td>When did Beyonce start becoming popular?</td>\n",
              "      <td>[Beyoncé, Giselle, Knowles-Carter, (/biːˈjɒnse...</td>\n",
              "      <td>in the late 1990s</td>\n",
              "      <td>39</td>\n",
              "      <td>42</td>\n",
              "      <td>False</td>\n",
              "    </tr>\n",
              "    <tr>\n",
              "      <th>1</th>\n",
              "      <td>56be85543aeaaa14008c9065</td>\n",
              "      <td>What areas did Beyonce compete in when she was...</td>\n",
              "      <td>[Beyoncé, Giselle, Knowles-Carter, (/biːˈjɒnse...</td>\n",
              "      <td>singing and dancing</td>\n",
              "      <td>28</td>\n",
              "      <td>30</td>\n",
              "      <td>False</td>\n",
              "    </tr>\n",
              "    <tr>\n",
              "      <th>2</th>\n",
              "      <td>56be85543aeaaa14008c9066</td>\n",
              "      <td>When did Beyonce leave Destiny's Child and bec...</td>\n",
              "      <td>[Beyoncé, Giselle, Knowles-Carter, (/biːˈjɒnse...</td>\n",
              "      <td>2003</td>\n",
              "      <td>82</td>\n",
              "      <td>82</td>\n",
              "      <td>False</td>\n",
              "    </tr>\n",
              "    <tr>\n",
              "      <th>3</th>\n",
              "      <td>56bf6b0f3aeaaa14008c9601</td>\n",
              "      <td>In what city and state did Beyonce  grow up?</td>\n",
              "      <td>[Beyoncé, Giselle, Knowles-Carter, (/biːˈjɒnse...</td>\n",
              "      <td>Houston, Texas</td>\n",
              "      <td>22</td>\n",
              "      <td>23</td>\n",
              "      <td>False</td>\n",
              "    </tr>\n",
              "    <tr>\n",
              "      <th>4</th>\n",
              "      <td>56bf6b0f3aeaaa14008c9602</td>\n",
              "      <td>In which decade did Beyonce become famous?</td>\n",
              "      <td>[Beyoncé, Giselle, Knowles-Carter, (/biːˈjɒnse...</td>\n",
              "      <td>late 1990s</td>\n",
              "      <td>41</td>\n",
              "      <td>42</td>\n",
              "      <td>False</td>\n",
              "    </tr>\n",
              "  </tbody>\n",
              "</table>\n",
              "</div>"
            ],
            "text/plain": [
              "                     qas_id  ... is_impossible\n",
              "0  56be85543aeaaa14008c9063  ...         False\n",
              "1  56be85543aeaaa14008c9065  ...         False\n",
              "2  56be85543aeaaa14008c9066  ...         False\n",
              "3  56bf6b0f3aeaaa14008c9601  ...         False\n",
              "4  56bf6b0f3aeaaa14008c9602  ...         False\n",
              "\n",
              "[5 rows x 7 columns]"
            ]
          },
          "metadata": {},
          "execution_count": 11
        }
      ]
    },
    {
      "cell_type": "code",
      "metadata": {
        "colab": {
          "base_uri": "https://localhost:8080/",
          "height": 588
        },
        "id": "B1kSkvUbiFy2",
        "outputId": "5bf76026-ca6d-4816-f42f-6e569e687279"
      },
      "source": [
        "#get all questions from one article\n",
        "sample = train_data.sample(frac=1).head(1)\n",
        "print(sample)\n",
        "context = sample.doc_tokens.values\n",
        "print(context)\n",
        "train_data[train_data.doc_tokens.values==context]\n"
      ],
      "execution_count": 12,
      "outputs": [
        {
          "output_type": "stream",
          "name": "stdout",
          "text": [
            "                       qas_id  ... is_impossible\n",
            "178  56bf97aba10cfb140055119e  ...         False\n",
            "\n",
            "[1 rows x 7 columns]\n",
            "[list(['On', 'April', '4,', '2008,', 'Beyoncé', 'married', 'Jay', 'Z.', 'She', 'publicly', 'revealed', 'their', 'marriage', 'in', 'a', 'video', 'montage', 'at', 'the', 'listening', 'party', 'for', 'her', 'third', 'studio', 'album,', 'I', 'Am...', 'Sasha', 'Fierce,', 'in', \"Manhattan's\", 'Sony', 'Club', 'on', 'October', '22,', '2008.', 'I', 'Am...', 'Sasha', 'Fierce', 'was', 'released', 'on', 'November', '18,', '2008', 'in', 'the', 'United', 'States.', 'The', 'album', 'formally', 'introduces', \"Beyoncé's\", 'alter', 'ego', 'Sasha', 'Fierce,', 'conceived', 'during', 'the', 'making', 'of', 'her', '2003', 'single', '\"Crazy', 'in', 'Love\",', 'selling', '482,000', 'copies', 'in', 'its', 'first', 'week,', 'debuting', 'atop', 'the', 'Billboard', '200,', 'and', 'giving', 'Beyoncé', 'her', 'third', 'consecutive', 'number-one', 'album', 'in', 'the', 'US.', 'The', 'album', 'featured', 'the', 'number-one', 'song', '\"Single', 'Ladies', '(Put', 'a', 'Ring', 'on', 'It)\"', 'and', 'the', 'top-five', 'songs', '\"If', 'I', 'Were', 'a', 'Boy\"', 'and', '\"Halo\".', 'Achieving', 'the', 'accomplishment', 'of', 'becoming', 'her', 'longest-running', 'Hot', '100', 'single', 'in', 'her', 'career,', '\"Halo\"\\'s', 'success', 'in', 'the', 'US', 'helped', 'Beyoncé', 'attain', 'more', 'top-ten', 'singles', 'on', 'the', 'list', 'than', 'any', 'other', 'woman', 'during', 'the', '2000s.', 'It', 'also', 'included', 'the', 'successful', '\"Sweet', 'Dreams\",', 'and', 'singles', '\"Diva\",', '\"Ego\",', '\"Broken-Hearted', 'Girl\"', 'and', '\"Video', 'Phone\".', 'The', 'music', 'video', 'for', '\"Single', 'Ladies\"', 'has', 'been', 'parodied', 'and', 'imitated', 'around', 'the', 'world,', 'spawning', 'the', '\"first', 'major', 'dance', 'craze\"', 'of', 'the', 'Internet', 'age', 'according', 'to', 'the', 'Toronto', 'Star.', 'The', 'video', 'has', 'won', 'several', 'awards,', 'including', 'Best', 'Video', 'at', 'the', '2009', 'MTV', 'Europe', 'Music', 'Awards,', 'the', '2009', 'Scottish', 'MOBO', 'Awards,', 'and', 'the', '2009', 'BET', 'Awards.', 'At', 'the', '2009', 'MTV', 'Video', 'Music', 'Awards,', 'the', 'video', 'was', 'nominated', 'for', 'nine', 'awards,', 'ultimately', 'winning', 'three', 'including', 'Video', 'of', 'the', 'Year.', 'Its', 'failure', 'to', 'win', 'the', 'Best', 'Female', 'Video', 'category,', 'which', 'went', 'to', 'American', 'country', 'pop', 'singer', 'Taylor', \"Swift's\", '\"You', 'Belong', 'with', 'Me\",', 'led', 'to', 'Kanye', 'West', 'interrupting', 'the', 'ceremony', 'and', 'Beyoncé', 'improvising', 'a', 're-presentation', 'of', \"Swift's\", 'award', 'during', 'her', 'own', 'acceptance', 'speech.', 'In', 'March', '2009,', 'Beyoncé', 'embarked', 'on', 'the', 'I', 'Am...', 'World', 'Tour,', 'her', 'second', 'headlining', 'worldwide', 'concert', 'tour,', 'consisting', 'of', '108', 'shows,', 'grossing', '$119.5', 'million.'])]\n"
          ]
        },
        {
          "output_type": "execute_result",
          "data": {
            "text/html": [
              "<div>\n",
              "<style scoped>\n",
              "    .dataframe tbody tr th:only-of-type {\n",
              "        vertical-align: middle;\n",
              "    }\n",
              "\n",
              "    .dataframe tbody tr th {\n",
              "        vertical-align: top;\n",
              "    }\n",
              "\n",
              "    .dataframe thead th {\n",
              "        text-align: right;\n",
              "    }\n",
              "</style>\n",
              "<table border=\"1\" class=\"dataframe\">\n",
              "  <thead>\n",
              "    <tr style=\"text-align: right;\">\n",
              "      <th></th>\n",
              "      <th>qas_id</th>\n",
              "      <th>question_text</th>\n",
              "      <th>doc_tokens</th>\n",
              "      <th>orig_answer_text</th>\n",
              "      <th>start_position</th>\n",
              "      <th>end_position</th>\n",
              "      <th>is_impossible</th>\n",
              "    </tr>\n",
              "  </thead>\n",
              "  <tbody>\n",
              "    <tr>\n",
              "      <th>173</th>\n",
              "      <td>56be95823aeaaa14008c910c</td>\n",
              "      <td>Beyonce got married in 2008 to whom?</td>\n",
              "      <td>[On, April, 4,, 2008,, Beyoncé, married, Jay, ...</td>\n",
              "      <td>Jay Z</td>\n",
              "      <td>6</td>\n",
              "      <td>7</td>\n",
              "      <td>False</td>\n",
              "    </tr>\n",
              "    <tr>\n",
              "      <th>174</th>\n",
              "      <td>56be95823aeaaa14008c910d</td>\n",
              "      <td>Her third album, \"I am...Sasha Fierce\" was rel...</td>\n",
              "      <td>[On, April, 4,, 2008,, Beyoncé, married, Jay, ...</td>\n",
              "      <td>November 18, 2008</td>\n",
              "      <td>45</td>\n",
              "      <td>47</td>\n",
              "      <td>False</td>\n",
              "    </tr>\n",
              "    <tr>\n",
              "      <th>175</th>\n",
              "      <td>56be95823aeaaa14008c910e</td>\n",
              "      <td>For which decade, did Beyonce have more top te...</td>\n",
              "      <td>[On, April, 4,, 2008,, Beyoncé, married, Jay, ...</td>\n",
              "      <td>2000s</td>\n",
              "      <td>152</td>\n",
              "      <td>152</td>\n",
              "      <td>False</td>\n",
              "    </tr>\n",
              "    <tr>\n",
              "      <th>176</th>\n",
              "      <td>56be95823aeaaa14008c910f</td>\n",
              "      <td>Which singer beat out Beyonce for best video p...</td>\n",
              "      <td>[On, April, 4,, 2008,, Beyoncé, married, Jay, ...</td>\n",
              "      <td>Taylor Swift</td>\n",
              "      <td>262</td>\n",
              "      <td>263</td>\n",
              "      <td>False</td>\n",
              "    </tr>\n",
              "    <tr>\n",
              "      <th>177</th>\n",
              "      <td>56be95823aeaaa14008c9110</td>\n",
              "      <td>In 2009, Beyonce started her second world tour...</td>\n",
              "      <td>[On, April, 4,, 2008,, Beyoncé, married, Jay, ...</td>\n",
              "      <td>119.5 million</td>\n",
              "      <td>310</td>\n",
              "      <td>311</td>\n",
              "      <td>False</td>\n",
              "    </tr>\n",
              "    <tr>\n",
              "      <th>178</th>\n",
              "      <td>56bf97aba10cfb140055119e</td>\n",
              "      <td>How did she reveal the marriage?</td>\n",
              "      <td>[On, April, 4,, 2008,, Beyoncé, married, Jay, ...</td>\n",
              "      <td>in a video montage</td>\n",
              "      <td>13</td>\n",
              "      <td>16</td>\n",
              "      <td>False</td>\n",
              "    </tr>\n",
              "    <tr>\n",
              "      <th>179</th>\n",
              "      <td>56bf97aba10cfb140055119f</td>\n",
              "      <td>When did Beyonce begin her second world tour?</td>\n",
              "      <td>[On, April, 4,, 2008,, Beyoncé, married, Jay, ...</td>\n",
              "      <td>March 2009</td>\n",
              "      <td>289</td>\n",
              "      <td>290</td>\n",
              "      <td>False</td>\n",
              "    </tr>\n",
              "    <tr>\n",
              "      <th>180</th>\n",
              "      <td>56bf97aba10cfb14005511a0</td>\n",
              "      <td>Who beat out Beyonce for Best Female Video ?</td>\n",
              "      <td>[On, April, 4,, 2008,, Beyoncé, married, Jay, ...</td>\n",
              "      <td>Taylor Swift</td>\n",
              "      <td>262</td>\n",
              "      <td>263</td>\n",
              "      <td>False</td>\n",
              "    </tr>\n",
              "    <tr>\n",
              "      <th>181</th>\n",
              "      <td>56bf97aba10cfb14005511a1</td>\n",
              "      <td>How much did the second world tour make in dol...</td>\n",
              "      <td>[On, April, 4,, 2008,, Beyoncé, married, Jay, ...</td>\n",
              "      <td>119.5 million</td>\n",
              "      <td>310</td>\n",
              "      <td>311</td>\n",
              "      <td>False</td>\n",
              "    </tr>\n",
              "    <tr>\n",
              "      <th>182</th>\n",
              "      <td>56d4bf242ccc5a1400d831be</td>\n",
              "      <td>When did Beyoncé get married?</td>\n",
              "      <td>[On, April, 4,, 2008,, Beyoncé, married, Jay, ...</td>\n",
              "      <td>April 4, 2008</td>\n",
              "      <td>1</td>\n",
              "      <td>3</td>\n",
              "      <td>False</td>\n",
              "    </tr>\n",
              "    <tr>\n",
              "      <th>183</th>\n",
              "      <td>56d4bf242ccc5a1400d831bf</td>\n",
              "      <td>Who did Beyoncé marry?</td>\n",
              "      <td>[On, April, 4,, 2008,, Beyoncé, married, Jay, ...</td>\n",
              "      <td>Jay Z.</td>\n",
              "      <td>6</td>\n",
              "      <td>7</td>\n",
              "      <td>False</td>\n",
              "    </tr>\n",
              "    <tr>\n",
              "      <th>184</th>\n",
              "      <td>56d4bf242ccc5a1400d831c0</td>\n",
              "      <td>Who is Beyoncé's alter ego?</td>\n",
              "      <td>[On, April, 4,, 2008,, Beyoncé, married, Jay, ...</td>\n",
              "      <td>Sasha Fierce</td>\n",
              "      <td>28</td>\n",
              "      <td>29</td>\n",
              "      <td>False</td>\n",
              "    </tr>\n",
              "    <tr>\n",
              "      <th>185</th>\n",
              "      <td>56d4bf242ccc5a1400d831c1</td>\n",
              "      <td>The video for what song won Beyoncé the 2009 M...</td>\n",
              "      <td>[On, April, 4,, 2008,, Beyoncé, married, Jay, ...</td>\n",
              "      <td>Single Ladies</td>\n",
              "      <td>101</td>\n",
              "      <td>102</td>\n",
              "      <td>False</td>\n",
              "    </tr>\n",
              "    <tr>\n",
              "      <th>186</th>\n",
              "      <td>56d4bf242ccc5a1400d831c2</td>\n",
              "      <td>Which prominent star felt the 2009 Female Vide...</td>\n",
              "      <td>[On, April, 4,, 2008,, Beyoncé, married, Jay, ...</td>\n",
              "      <td>Kanye West</td>\n",
              "      <td>270</td>\n",
              "      <td>271</td>\n",
              "      <td>False</td>\n",
              "    </tr>\n",
              "  </tbody>\n",
              "</table>\n",
              "</div>"
            ],
            "text/plain": [
              "                       qas_id  ... is_impossible\n",
              "173  56be95823aeaaa14008c910c  ...         False\n",
              "174  56be95823aeaaa14008c910d  ...         False\n",
              "175  56be95823aeaaa14008c910e  ...         False\n",
              "176  56be95823aeaaa14008c910f  ...         False\n",
              "177  56be95823aeaaa14008c9110  ...         False\n",
              "178  56bf97aba10cfb140055119e  ...         False\n",
              "179  56bf97aba10cfb140055119f  ...         False\n",
              "180  56bf97aba10cfb14005511a0  ...         False\n",
              "181  56bf97aba10cfb14005511a1  ...         False\n",
              "182  56d4bf242ccc5a1400d831be  ...         False\n",
              "183  56d4bf242ccc5a1400d831bf  ...         False\n",
              "184  56d4bf242ccc5a1400d831c0  ...         False\n",
              "185  56d4bf242ccc5a1400d831c1  ...         False\n",
              "186  56d4bf242ccc5a1400d831c2  ...         False\n",
              "\n",
              "[14 rows x 7 columns]"
            ]
          },
          "metadata": {},
          "execution_count": 12
        }
      ]
    },
    {
      "cell_type": "code",
      "metadata": {
        "id": "JBwIujI1dW8W"
      },
      "source": [
        "import random\n",
        "def print_squad_sample(train_data, line_length=14, separator_length=120):\n",
        "  sample = train_data.sample(frac=1).head(1)\n",
        "  context = sample.doc_tokens.values\n",
        "  print('='*separator_length)\n",
        "  print('CONTEXT: ')\n",
        "  print('='*separator_length)\n",
        "  lines = [' '.join(context[0][idx:idx+line_length]) for idx in range(0, len(context[0]), line_length)]\n",
        "  for l in lines:\n",
        "      print(l)\n",
        "  print('='*separator_length)\n",
        "  questions = train_data[train_data.doc_tokens.values==context]\n",
        "  print('QUESTION:', ' '*(3*separator_length//4), 'ANSWER:')\n",
        "  for idx, row in questions.iterrows():\n",
        "    question = row.question_text\n",
        "    answer = row.orig_answer_text\n",
        "    print(question, ' '*(3*separator_length//4-len(question)+9), (answer if answer else 'No awnser found'))"
      ],
      "execution_count": 13,
      "outputs": []
    },
    {
      "cell_type": "code",
      "metadata": {
        "colab": {
          "base_uri": "https://localhost:8080/"
        },
        "id": "ZB6kMto2f8lL",
        "outputId": "6bf5b455-ba04-49df-d210-1931ef0c2b94"
      },
      "source": [
        "print_squad_sample(train_data)"
      ],
      "execution_count": 14,
      "outputs": [
        {
          "output_type": "stream",
          "name": "stdout",
          "text": [
            "========================================================================================================================\n",
            "CONTEXT: \n",
            "========================================================================================================================\n",
            "All of Chopin's compositions include the piano. Most are for solo piano, though he\n",
            "also wrote two piano concertos, a few chamber pieces, and some songs to Polish\n",
            "lyrics. His keyboard style is highly individual and often technically demanding; his own performances\n",
            "were noted for their nuance and sensitivity. Chopin invented the concept of instrumental ballade.\n",
            "His major piano works also include mazurkas, waltzes, nocturnes, polonaises, études, impromptus, scherzos, preludes\n",
            "and sonatas, some published only after his death. Influences on his compositional style include\n",
            "Polish folk music, the classical tradition of J. S. Bach, Mozart and Schubert, the\n",
            "music of all of whom he admired, as well as the Paris salons where\n",
            "he was a frequent guest. His innovations in style, musical form, and harmony, and\n",
            "his association of music with nationalism, were influential throughout and after the late Romantic\n",
            "period.\n",
            "========================================================================================================================\n",
            "QUESTION:                                                                                            ANSWER:\n",
            "What instrument did every composition by Frédéric include?                                           piano\n",
            "What concept was Frédéric credited with creating?                                                    instrumental ballade\n",
            "Whose music did Frédéric admire the most and thus provide influence on his work?                     J. S. Bach, Mozart and Schubert\n",
            "What features marked Frédéric's performance style and made them unique?                              nuance and sensitivity\n",
            "What establishments did Frédéric frequently visit in Paris that influenced his career?               Paris salons\n",
            "Which instrument do every one of his compositions include?                                           piano\n",
            "What concept did Chopin create?                                                                      instrumental ballade\n",
            "What are two things Chopin's performances were known for?                                            nuance and sensitivity\n",
            "What three composers influenced Chopin's work?                                                       J. S. Bach, Mozart and Schubert\n",
            "Chopin wrote some music to lyrics, what language were the lyrics?                                    Polish\n",
            "What instrument is involved in all of Chopin's work?                                                 piano\n",
            "Chopin composed several songs to lyrics of what language?                                            Polish\n",
            "Chopin's performances were known for what?                                                           nuance and sensitivity\n",
            "What three composers did Chopin take inspiration from?                                               J. S. Bach, Mozart and Schubert\n",
            "What instrument was all of Chopin's compositions written for?                                        piano\n",
            "What language were some songs written in that Chopin wrote music for?                                Polish\n",
            "Of what venue was Chopin an often invited guest?                                                     Paris salons\n"
          ]
        }
      ]
    },
    {
      "cell_type": "code",
      "metadata": {
        "colab": {
          "base_uri": "https://localhost:8080/",
          "height": 204
        },
        "id": "fmwvEsGt1QCJ",
        "outputId": "33b1206e-2bae-4ecf-b9c6-03444c19e020"
      },
      "source": [
        "train_data['paragraph_len'] = train_data['doc_tokens'].apply(len)\n",
        "train_data['question_len'] = train_data['question_text'].apply(len)\n",
        "train_data.sample(frac=1).head(5)"
      ],
      "execution_count": 15,
      "outputs": [
        {
          "output_type": "execute_result",
          "data": {
            "text/html": [
              "<div>\n",
              "<style scoped>\n",
              "    .dataframe tbody tr th:only-of-type {\n",
              "        vertical-align: middle;\n",
              "    }\n",
              "\n",
              "    .dataframe tbody tr th {\n",
              "        vertical-align: top;\n",
              "    }\n",
              "\n",
              "    .dataframe thead th {\n",
              "        text-align: right;\n",
              "    }\n",
              "</style>\n",
              "<table border=\"1\" class=\"dataframe\">\n",
              "  <thead>\n",
              "    <tr style=\"text-align: right;\">\n",
              "      <th></th>\n",
              "      <th>qas_id</th>\n",
              "      <th>question_text</th>\n",
              "      <th>doc_tokens</th>\n",
              "      <th>orig_answer_text</th>\n",
              "      <th>start_position</th>\n",
              "      <th>end_position</th>\n",
              "      <th>is_impossible</th>\n",
              "      <th>paragraph_len</th>\n",
              "      <th>question_len</th>\n",
              "    </tr>\n",
              "  </thead>\n",
              "  <tbody>\n",
              "    <tr>\n",
              "      <th>672</th>\n",
              "      <td>56d4efd92ccc5a1400d83379</td>\n",
              "      <td>When was the disagreement settled out of court?</td>\n",
              "      <td>[The, release, of, a, video-game, Starpower:, ...</td>\n",
              "      <td>June 2013</td>\n",
              "      <td>46</td>\n",
              "      <td>47</td>\n",
              "      <td>False</td>\n",
              "      <td>78</td>\n",
              "      <td>47</td>\n",
              "    </tr>\n",
              "    <tr>\n",
              "      <th>721</th>\n",
              "      <td>56d4f71e2ccc5a1400d833aa</td>\n",
              "      <td>What type of clothing does the British partner...</td>\n",
              "      <td>[In, October, 2014,, Beyoncé, signed, a, deal,...</td>\n",
              "      <td>activewear</td>\n",
              "      <td>10</td>\n",
              "      <td>10</td>\n",
              "      <td>False</td>\n",
              "      <td>50</td>\n",
              "      <td>69</td>\n",
              "    </tr>\n",
              "    <tr>\n",
              "      <th>346</th>\n",
              "      <td>56d4d18d2ccc5a1400d8325a</td>\n",
              "      <td>How many people watched the 2011 MTV Video Mus...</td>\n",
              "      <td>[In, August,, the, couple, attended, the, 2011...</td>\n",
              "      <td>12.4 million</td>\n",
              "      <td>91</td>\n",
              "      <td>92</td>\n",
              "      <td>False</td>\n",
              "      <td>133</td>\n",
              "      <td>56</td>\n",
              "    </tr>\n",
              "    <tr>\n",
              "      <th>178</th>\n",
              "      <td>56bf97aba10cfb140055119e</td>\n",
              "      <td>How did she reveal the marriage?</td>\n",
              "      <td>[On, April, 4,, 2008,, Beyoncé, married, Jay, ...</td>\n",
              "      <td>in a video montage</td>\n",
              "      <td>13</td>\n",
              "      <td>16</td>\n",
              "      <td>False</td>\n",
              "      <td>312</td>\n",
              "      <td>32</td>\n",
              "    </tr>\n",
              "    <tr>\n",
              "      <th>455</th>\n",
              "      <td>56beba293aeaaa14008c92f0</td>\n",
              "      <td>How old was Beyonce when she went to her first...</td>\n",
              "      <td>[Beyoncé, names, Michael, Jackson, as, her, ma...</td>\n",
              "      <td>five</td>\n",
              "      <td>10</td>\n",
              "      <td>10</td>\n",
              "      <td>False</td>\n",
              "      <td>127</td>\n",
              "      <td>80</td>\n",
              "    </tr>\n",
              "  </tbody>\n",
              "</table>\n",
              "</div>"
            ],
            "text/plain": [
              "                       qas_id  ... question_len\n",
              "672  56d4efd92ccc5a1400d83379  ...           47\n",
              "721  56d4f71e2ccc5a1400d833aa  ...           69\n",
              "346  56d4d18d2ccc5a1400d8325a  ...           56\n",
              "178  56bf97aba10cfb140055119e  ...           32\n",
              "455  56beba293aeaaa14008c92f0  ...           80\n",
              "\n",
              "[5 rows x 9 columns]"
            ]
          },
          "metadata": {},
          "execution_count": 15
        }
      ]
    },
    {
      "cell_type": "code",
      "metadata": {
        "colab": {
          "base_uri": "https://localhost:8080/"
        },
        "id": "ghQ9fRZC1T-w",
        "outputId": "6b616c25-3ad5-41a5-9144-5b6c545d9e19"
      },
      "source": [
        "max_seq_length = 256\n",
        "print(\"Percentage of context's less than max_seq_length = %s%%\" % (len([l for l in train_data['paragraph_len'] if l <= max_seq_length])/len(train_data) * 100))"
      ],
      "execution_count": 16,
      "outputs": [
        {
          "output_type": "stream",
          "name": "stdout",
          "text": [
            "Percentage of context's less than max_seq_length = 95.1%\n"
          ]
        }
      ]
    },
    {
      "cell_type": "code",
      "metadata": {
        "id": "vqRoHGMu2BXJ"
      },
      "source": [
        "tokenizer = BertTokenizer.from_pretrained('bert-base-uncased')"
      ],
      "execution_count": 17,
      "outputs": []
    },
    {
      "cell_type": "code",
      "metadata": {
        "id": "8mVlLJFa2GBG"
      },
      "source": [
        "doc_stride = 128\n",
        "max_seq_length = 256\n",
        "max_query_length = 64\n",
        "# batch size of 64 if RAM available.\n",
        "batch_size = 8\n"
      ],
      "execution_count": 18,
      "outputs": []
    },
    {
      "cell_type": "code",
      "metadata": {
        "id": "MfhICmuJ2nhF"
      },
      "source": [
        "\n",
        "cached_features_file = '/content/drive/My Drive/cache_train'\n",
        "\n",
        "if not os.path.exists(cached_features_file):\n",
        "  features = convert_examples_to_features(examples=examples,\n",
        "                                        tokenizer=tokenizer,\n",
        "                                        max_seq_length=max_seq_length,\n",
        "                                        doc_stride=doc_stride,\n",
        "                                        max_query_length=max_query_length,\n",
        "                                        is_training=True)\n",
        "  torch.save(features, cached_features_file)\n",
        "else:\n",
        "  features = torch.load(cached_features_file)"
      ],
      "execution_count": 19,
      "outputs": []
    },
    {
      "cell_type": "code",
      "metadata": {
        "id": "GZSL0OlP1Ro1"
      },
      "source": [
        ""
      ],
      "execution_count": null,
      "outputs": []
    },
    {
      "cell_type": "code",
      "metadata": {
        "id": "RTjmvqHOROE6"
      },
      "source": [
        ""
      ],
      "execution_count": 19,
      "outputs": []
    },
    {
      "cell_type": "code",
      "metadata": {
        "colab": {
          "base_uri": "https://localhost:8080/"
        },
        "id": "pD4FIh-wGv9Y",
        "outputId": "05afc97b-7c32-4c7b-f5fe-dc66327e7c62"
      },
      "source": [
        " #set seeds\n",
        "np.random.seed(1234)\n",
        "torch.manual_seed(1234)"
      ],
      "execution_count": 20,
      "outputs": [
        {
          "output_type": "execute_result",
          "data": {
            "text/plain": [
              "<torch._C.Generator at 0x7f94000a6ef0>"
            ]
          },
          "metadata": {},
          "execution_count": 20
        }
      ]
    },
    {
      "cell_type": "code",
      "metadata": {
        "id": "9Bfj1la5OMkn"
      },
      "source": [
        "# Convert to Tensors and build dataset\n",
        "all_input_ids = torch.tensor([f.input_ids for f in features], dtype=torch.long)\n",
        "all_input_mask = torch.tensor([f.input_mask for f in features], dtype=torch.long)\n",
        "all_segment_ids = torch.tensor([f.segment_ids for f in features], dtype=torch.long)\n",
        "all_cls_index = torch.tensor([f.cls_index for f in features], dtype=torch.long)\n",
        "all_p_mask = torch.tensor([f.p_mask for f in features], dtype=torch.float)\n",
        "\n",
        "all_start_positions = torch.tensor([f.start_position for f in features], dtype=torch.long)\n",
        "all_end_positions = torch.tensor([f.end_position for f in features], dtype=torch.long)\n",
        "dataset = TensorDataset(all_input_ids, all_input_mask, all_segment_ids,\n",
        "                        all_start_positions, all_end_positions,\n",
        "                        all_cls_index, all_p_mask)"
      ],
      "execution_count": 21,
      "outputs": []
    },
    {
      "cell_type": "code",
      "metadata": {
        "id": "RibrgRMwOQ5c"
      },
      "source": [
        "train_sampler = RandomSampler(dataset)\n",
        "train_dataloader = DataLoader(dataset, sampler=train_sampler, batch_size=batch_size, drop_last=True)"
      ],
      "execution_count": 22,
      "outputs": []
    },
    {
      "cell_type": "code",
      "metadata": {
        "id": "05OubYI-OiWt"
      },
      "source": [
        "def to_list(tensor):\n",
        "    return tensor.detach().cpu().tolist()"
      ],
      "execution_count": 23,
      "outputs": []
    },
    {
      "cell_type": "code",
      "metadata": {
        "id": "pfZm7Gz4OudV"
      },
      "source": [
        "import glob\n",
        "checkpoints = sorted(glob.glob('/content/drive/My Drive/checkpoint*-[0-9]*'))"
      ],
      "execution_count": 24,
      "outputs": []
    },
    {
      "cell_type": "code",
      "metadata": {
        "colab": {
          "base_uri": "https://localhost:8080/"
        },
        "id": "5G9lk05OOtYl",
        "outputId": "6f11936f-e716-450b-eccd-025673eddbed"
      },
      "source": [
        "if len(checkpoints) > 0:\n",
        "  global_step = checkpoints[-1].split('-')[-1]\n",
        "  ckpt_name = '/drive/My Drive/Medium/checkpoint-{}'.format(global_step)\n",
        "  print(\"Loading model from checkpoint %s\" % ckpt_name)\n",
        "  model = BertForQuestionAnswering.from_pretrained(ckpt_name)\n",
        "  train_loss_set_ckpt = torch.load(ckpt_name + '/training_loss.pt')\n",
        "  train_loss_set = to_list(train_loss_set_ckpt)\n",
        "  tr_loss = train_loss_set[-1]\n",
        "else:\n",
        "  global_step = 0\n",
        "  train_loss_set = []\n",
        "  tr_loss = 0.0\n",
        "  model = BertForQuestionAnswering.from_pretrained('bert-base-uncased')\n",
        "\n",
        "model.cuda()"
      ],
      "execution_count": 25,
      "outputs": [
        {
          "output_type": "execute_result",
          "data": {
            "text/plain": [
              "BertForQuestionAnswering(\n",
              "  (bert): BertModel(\n",
              "    (embeddings): BertEmbeddings(\n",
              "      (word_embeddings): Embedding(30522, 768, padding_idx=0)\n",
              "      (position_embeddings): Embedding(512, 768)\n",
              "      (token_type_embeddings): Embedding(2, 768)\n",
              "      (LayerNorm): LayerNorm((768,), eps=1e-12, elementwise_affine=True)\n",
              "      (dropout): Dropout(p=0.1, inplace=False)\n",
              "    )\n",
              "    (encoder): BertEncoder(\n",
              "      (layer): ModuleList(\n",
              "        (0): BertLayer(\n",
              "          (attention): BertAttention(\n",
              "            (self): BertSelfAttention(\n",
              "              (query): Linear(in_features=768, out_features=768, bias=True)\n",
              "              (key): Linear(in_features=768, out_features=768, bias=True)\n",
              "              (value): Linear(in_features=768, out_features=768, bias=True)\n",
              "              (dropout): Dropout(p=0.1, inplace=False)\n",
              "            )\n",
              "            (output): BertSelfOutput(\n",
              "              (dense): Linear(in_features=768, out_features=768, bias=True)\n",
              "              (LayerNorm): LayerNorm((768,), eps=1e-12, elementwise_affine=True)\n",
              "              (dropout): Dropout(p=0.1, inplace=False)\n",
              "            )\n",
              "          )\n",
              "          (intermediate): BertIntermediate(\n",
              "            (dense): Linear(in_features=768, out_features=3072, bias=True)\n",
              "          )\n",
              "          (output): BertOutput(\n",
              "            (dense): Linear(in_features=3072, out_features=768, bias=True)\n",
              "            (LayerNorm): LayerNorm((768,), eps=1e-12, elementwise_affine=True)\n",
              "            (dropout): Dropout(p=0.1, inplace=False)\n",
              "          )\n",
              "        )\n",
              "        (1): BertLayer(\n",
              "          (attention): BertAttention(\n",
              "            (self): BertSelfAttention(\n",
              "              (query): Linear(in_features=768, out_features=768, bias=True)\n",
              "              (key): Linear(in_features=768, out_features=768, bias=True)\n",
              "              (value): Linear(in_features=768, out_features=768, bias=True)\n",
              "              (dropout): Dropout(p=0.1, inplace=False)\n",
              "            )\n",
              "            (output): BertSelfOutput(\n",
              "              (dense): Linear(in_features=768, out_features=768, bias=True)\n",
              "              (LayerNorm): LayerNorm((768,), eps=1e-12, elementwise_affine=True)\n",
              "              (dropout): Dropout(p=0.1, inplace=False)\n",
              "            )\n",
              "          )\n",
              "          (intermediate): BertIntermediate(\n",
              "            (dense): Linear(in_features=768, out_features=3072, bias=True)\n",
              "          )\n",
              "          (output): BertOutput(\n",
              "            (dense): Linear(in_features=3072, out_features=768, bias=True)\n",
              "            (LayerNorm): LayerNorm((768,), eps=1e-12, elementwise_affine=True)\n",
              "            (dropout): Dropout(p=0.1, inplace=False)\n",
              "          )\n",
              "        )\n",
              "        (2): BertLayer(\n",
              "          (attention): BertAttention(\n",
              "            (self): BertSelfAttention(\n",
              "              (query): Linear(in_features=768, out_features=768, bias=True)\n",
              "              (key): Linear(in_features=768, out_features=768, bias=True)\n",
              "              (value): Linear(in_features=768, out_features=768, bias=True)\n",
              "              (dropout): Dropout(p=0.1, inplace=False)\n",
              "            )\n",
              "            (output): BertSelfOutput(\n",
              "              (dense): Linear(in_features=768, out_features=768, bias=True)\n",
              "              (LayerNorm): LayerNorm((768,), eps=1e-12, elementwise_affine=True)\n",
              "              (dropout): Dropout(p=0.1, inplace=False)\n",
              "            )\n",
              "          )\n",
              "          (intermediate): BertIntermediate(\n",
              "            (dense): Linear(in_features=768, out_features=3072, bias=True)\n",
              "          )\n",
              "          (output): BertOutput(\n",
              "            (dense): Linear(in_features=3072, out_features=768, bias=True)\n",
              "            (LayerNorm): LayerNorm((768,), eps=1e-12, elementwise_affine=True)\n",
              "            (dropout): Dropout(p=0.1, inplace=False)\n",
              "          )\n",
              "        )\n",
              "        (3): BertLayer(\n",
              "          (attention): BertAttention(\n",
              "            (self): BertSelfAttention(\n",
              "              (query): Linear(in_features=768, out_features=768, bias=True)\n",
              "              (key): Linear(in_features=768, out_features=768, bias=True)\n",
              "              (value): Linear(in_features=768, out_features=768, bias=True)\n",
              "              (dropout): Dropout(p=0.1, inplace=False)\n",
              "            )\n",
              "            (output): BertSelfOutput(\n",
              "              (dense): Linear(in_features=768, out_features=768, bias=True)\n",
              "              (LayerNorm): LayerNorm((768,), eps=1e-12, elementwise_affine=True)\n",
              "              (dropout): Dropout(p=0.1, inplace=False)\n",
              "            )\n",
              "          )\n",
              "          (intermediate): BertIntermediate(\n",
              "            (dense): Linear(in_features=768, out_features=3072, bias=True)\n",
              "          )\n",
              "          (output): BertOutput(\n",
              "            (dense): Linear(in_features=3072, out_features=768, bias=True)\n",
              "            (LayerNorm): LayerNorm((768,), eps=1e-12, elementwise_affine=True)\n",
              "            (dropout): Dropout(p=0.1, inplace=False)\n",
              "          )\n",
              "        )\n",
              "        (4): BertLayer(\n",
              "          (attention): BertAttention(\n",
              "            (self): BertSelfAttention(\n",
              "              (query): Linear(in_features=768, out_features=768, bias=True)\n",
              "              (key): Linear(in_features=768, out_features=768, bias=True)\n",
              "              (value): Linear(in_features=768, out_features=768, bias=True)\n",
              "              (dropout): Dropout(p=0.1, inplace=False)\n",
              "            )\n",
              "            (output): BertSelfOutput(\n",
              "              (dense): Linear(in_features=768, out_features=768, bias=True)\n",
              "              (LayerNorm): LayerNorm((768,), eps=1e-12, elementwise_affine=True)\n",
              "              (dropout): Dropout(p=0.1, inplace=False)\n",
              "            )\n",
              "          )\n",
              "          (intermediate): BertIntermediate(\n",
              "            (dense): Linear(in_features=768, out_features=3072, bias=True)\n",
              "          )\n",
              "          (output): BertOutput(\n",
              "            (dense): Linear(in_features=3072, out_features=768, bias=True)\n",
              "            (LayerNorm): LayerNorm((768,), eps=1e-12, elementwise_affine=True)\n",
              "            (dropout): Dropout(p=0.1, inplace=False)\n",
              "          )\n",
              "        )\n",
              "        (5): BertLayer(\n",
              "          (attention): BertAttention(\n",
              "            (self): BertSelfAttention(\n",
              "              (query): Linear(in_features=768, out_features=768, bias=True)\n",
              "              (key): Linear(in_features=768, out_features=768, bias=True)\n",
              "              (value): Linear(in_features=768, out_features=768, bias=True)\n",
              "              (dropout): Dropout(p=0.1, inplace=False)\n",
              "            )\n",
              "            (output): BertSelfOutput(\n",
              "              (dense): Linear(in_features=768, out_features=768, bias=True)\n",
              "              (LayerNorm): LayerNorm((768,), eps=1e-12, elementwise_affine=True)\n",
              "              (dropout): Dropout(p=0.1, inplace=False)\n",
              "            )\n",
              "          )\n",
              "          (intermediate): BertIntermediate(\n",
              "            (dense): Linear(in_features=768, out_features=3072, bias=True)\n",
              "          )\n",
              "          (output): BertOutput(\n",
              "            (dense): Linear(in_features=3072, out_features=768, bias=True)\n",
              "            (LayerNorm): LayerNorm((768,), eps=1e-12, elementwise_affine=True)\n",
              "            (dropout): Dropout(p=0.1, inplace=False)\n",
              "          )\n",
              "        )\n",
              "        (6): BertLayer(\n",
              "          (attention): BertAttention(\n",
              "            (self): BertSelfAttention(\n",
              "              (query): Linear(in_features=768, out_features=768, bias=True)\n",
              "              (key): Linear(in_features=768, out_features=768, bias=True)\n",
              "              (value): Linear(in_features=768, out_features=768, bias=True)\n",
              "              (dropout): Dropout(p=0.1, inplace=False)\n",
              "            )\n",
              "            (output): BertSelfOutput(\n",
              "              (dense): Linear(in_features=768, out_features=768, bias=True)\n",
              "              (LayerNorm): LayerNorm((768,), eps=1e-12, elementwise_affine=True)\n",
              "              (dropout): Dropout(p=0.1, inplace=False)\n",
              "            )\n",
              "          )\n",
              "          (intermediate): BertIntermediate(\n",
              "            (dense): Linear(in_features=768, out_features=3072, bias=True)\n",
              "          )\n",
              "          (output): BertOutput(\n",
              "            (dense): Linear(in_features=3072, out_features=768, bias=True)\n",
              "            (LayerNorm): LayerNorm((768,), eps=1e-12, elementwise_affine=True)\n",
              "            (dropout): Dropout(p=0.1, inplace=False)\n",
              "          )\n",
              "        )\n",
              "        (7): BertLayer(\n",
              "          (attention): BertAttention(\n",
              "            (self): BertSelfAttention(\n",
              "              (query): Linear(in_features=768, out_features=768, bias=True)\n",
              "              (key): Linear(in_features=768, out_features=768, bias=True)\n",
              "              (value): Linear(in_features=768, out_features=768, bias=True)\n",
              "              (dropout): Dropout(p=0.1, inplace=False)\n",
              "            )\n",
              "            (output): BertSelfOutput(\n",
              "              (dense): Linear(in_features=768, out_features=768, bias=True)\n",
              "              (LayerNorm): LayerNorm((768,), eps=1e-12, elementwise_affine=True)\n",
              "              (dropout): Dropout(p=0.1, inplace=False)\n",
              "            )\n",
              "          )\n",
              "          (intermediate): BertIntermediate(\n",
              "            (dense): Linear(in_features=768, out_features=3072, bias=True)\n",
              "          )\n",
              "          (output): BertOutput(\n",
              "            (dense): Linear(in_features=3072, out_features=768, bias=True)\n",
              "            (LayerNorm): LayerNorm((768,), eps=1e-12, elementwise_affine=True)\n",
              "            (dropout): Dropout(p=0.1, inplace=False)\n",
              "          )\n",
              "        )\n",
              "        (8): BertLayer(\n",
              "          (attention): BertAttention(\n",
              "            (self): BertSelfAttention(\n",
              "              (query): Linear(in_features=768, out_features=768, bias=True)\n",
              "              (key): Linear(in_features=768, out_features=768, bias=True)\n",
              "              (value): Linear(in_features=768, out_features=768, bias=True)\n",
              "              (dropout): Dropout(p=0.1, inplace=False)\n",
              "            )\n",
              "            (output): BertSelfOutput(\n",
              "              (dense): Linear(in_features=768, out_features=768, bias=True)\n",
              "              (LayerNorm): LayerNorm((768,), eps=1e-12, elementwise_affine=True)\n",
              "              (dropout): Dropout(p=0.1, inplace=False)\n",
              "            )\n",
              "          )\n",
              "          (intermediate): BertIntermediate(\n",
              "            (dense): Linear(in_features=768, out_features=3072, bias=True)\n",
              "          )\n",
              "          (output): BertOutput(\n",
              "            (dense): Linear(in_features=3072, out_features=768, bias=True)\n",
              "            (LayerNorm): LayerNorm((768,), eps=1e-12, elementwise_affine=True)\n",
              "            (dropout): Dropout(p=0.1, inplace=False)\n",
              "          )\n",
              "        )\n",
              "        (9): BertLayer(\n",
              "          (attention): BertAttention(\n",
              "            (self): BertSelfAttention(\n",
              "              (query): Linear(in_features=768, out_features=768, bias=True)\n",
              "              (key): Linear(in_features=768, out_features=768, bias=True)\n",
              "              (value): Linear(in_features=768, out_features=768, bias=True)\n",
              "              (dropout): Dropout(p=0.1, inplace=False)\n",
              "            )\n",
              "            (output): BertSelfOutput(\n",
              "              (dense): Linear(in_features=768, out_features=768, bias=True)\n",
              "              (LayerNorm): LayerNorm((768,), eps=1e-12, elementwise_affine=True)\n",
              "              (dropout): Dropout(p=0.1, inplace=False)\n",
              "            )\n",
              "          )\n",
              "          (intermediate): BertIntermediate(\n",
              "            (dense): Linear(in_features=768, out_features=3072, bias=True)\n",
              "          )\n",
              "          (output): BertOutput(\n",
              "            (dense): Linear(in_features=3072, out_features=768, bias=True)\n",
              "            (LayerNorm): LayerNorm((768,), eps=1e-12, elementwise_affine=True)\n",
              "            (dropout): Dropout(p=0.1, inplace=False)\n",
              "          )\n",
              "        )\n",
              "        (10): BertLayer(\n",
              "          (attention): BertAttention(\n",
              "            (self): BertSelfAttention(\n",
              "              (query): Linear(in_features=768, out_features=768, bias=True)\n",
              "              (key): Linear(in_features=768, out_features=768, bias=True)\n",
              "              (value): Linear(in_features=768, out_features=768, bias=True)\n",
              "              (dropout): Dropout(p=0.1, inplace=False)\n",
              "            )\n",
              "            (output): BertSelfOutput(\n",
              "              (dense): Linear(in_features=768, out_features=768, bias=True)\n",
              "              (LayerNorm): LayerNorm((768,), eps=1e-12, elementwise_affine=True)\n",
              "              (dropout): Dropout(p=0.1, inplace=False)\n",
              "            )\n",
              "          )\n",
              "          (intermediate): BertIntermediate(\n",
              "            (dense): Linear(in_features=768, out_features=3072, bias=True)\n",
              "          )\n",
              "          (output): BertOutput(\n",
              "            (dense): Linear(in_features=3072, out_features=768, bias=True)\n",
              "            (LayerNorm): LayerNorm((768,), eps=1e-12, elementwise_affine=True)\n",
              "            (dropout): Dropout(p=0.1, inplace=False)\n",
              "          )\n",
              "        )\n",
              "        (11): BertLayer(\n",
              "          (attention): BertAttention(\n",
              "            (self): BertSelfAttention(\n",
              "              (query): Linear(in_features=768, out_features=768, bias=True)\n",
              "              (key): Linear(in_features=768, out_features=768, bias=True)\n",
              "              (value): Linear(in_features=768, out_features=768, bias=True)\n",
              "              (dropout): Dropout(p=0.1, inplace=False)\n",
              "            )\n",
              "            (output): BertSelfOutput(\n",
              "              (dense): Linear(in_features=768, out_features=768, bias=True)\n",
              "              (LayerNorm): LayerNorm((768,), eps=1e-12, elementwise_affine=True)\n",
              "              (dropout): Dropout(p=0.1, inplace=False)\n",
              "            )\n",
              "          )\n",
              "          (intermediate): BertIntermediate(\n",
              "            (dense): Linear(in_features=768, out_features=3072, bias=True)\n",
              "          )\n",
              "          (output): BertOutput(\n",
              "            (dense): Linear(in_features=3072, out_features=768, bias=True)\n",
              "            (LayerNorm): LayerNorm((768,), eps=1e-12, elementwise_affine=True)\n",
              "            (dropout): Dropout(p=0.1, inplace=False)\n",
              "          )\n",
              "        )\n",
              "      )\n",
              "    )\n",
              "    (pooler): BertPooler(\n",
              "      (dense): Linear(in_features=768, out_features=768, bias=True)\n",
              "      (activation): Tanh()\n",
              "    )\n",
              "  )\n",
              "  (qa_outputs): Linear(in_features=768, out_features=2, bias=True)\n",
              ")"
            ]
          },
          "metadata": {},
          "execution_count": 25
        }
      ]
    },
    {
      "cell_type": "code",
      "metadata": {
        "colab": {
          "base_uri": "https://localhost:8080/"
        },
        "id": "3h5ODwBITjbS",
        "outputId": "89b73cd8-f477-463a-e12c-6aeb41c71504"
      },
      "source": [
        "param_optimizer = list(model.named_parameters())\n",
        "print(param_optimizer[-2])\n",
        "print(param_optimizer[-1])"
      ],
      "execution_count": 26,
      "outputs": [
        {
          "output_type": "stream",
          "name": "stdout",
          "text": [
            "('qa_outputs.weight', Parameter containing:\n",
            "tensor([[-0.0231, -0.0370, -0.0441,  ...,  0.0076, -0.0057,  0.0081],\n",
            "        [ 0.0022,  0.0065,  0.0223,  ..., -0.0018,  0.0032, -0.0065]],\n",
            "       device='cuda:0', requires_grad=True))\n",
            "('qa_outputs.bias', Parameter containing:\n",
            "tensor([0., 0.], device='cuda:0', requires_grad=True))\n"
          ]
        }
      ]
    },
    {
      "cell_type": "code",
      "metadata": {
        "id": "45TxvveCTru-"
      },
      "source": [
        "learning_rate = 5e-5\n",
        "adam_epsilon=1e-8\n",
        "no_decay = ['bias', 'LayerNorm.weight']\n",
        "optimizer_grouped_parameters = [\n",
        "    {'params': [p for n, p in model.named_parameters() if not any(nd in n for nd in no_decay)], 'weight_decay': 0.01},\n",
        "    {'params': [p for n, p in model.named_parameters() if any(nd in n for nd in no_decay)], 'weight_decay': 0.0}\n",
        "    ]\n",
        "optimizer = AdamW(optimizer_grouped_parameters, lr=learning_rate, eps=adam_epsilon)"
      ],
      "execution_count": 27,
      "outputs": []
    },
    {
      "cell_type": "code",
      "metadata": {
        "colab": {
          "base_uri": "https://localhost:8080/"
        },
        "id": "w4SmYblQTwgU",
        "outputId": "aedb74af-9582-4257-d24f-7ecc62366b6f"
      },
      "source": [
        "num_train_epochs = 1\n",
        "\n",
        "# specify GPU device\n",
        "device = torch.device(\"cuda\" if torch.cuda.is_available() else \"cpu\")\n",
        "n_gpu = torch.cuda.device_count()\n",
        "torch.cuda.get_device_name(0)\n",
        "\n",
        "print(\"***** Running training *****\")\n",
        "print(\"  Num examples = %d\" % len(dataset))\n",
        "print(\"  Num Epochs = %d\" % num_train_epochs)\n",
        "print(\"  Batch size = %d\" % batch_size)\n",
        "print(\"  Total optimization steps = %d\" % (len(train_dataloader) // num_train_epochs))\n",
        "\n",
        "model.zero_grad()\n",
        "train_iterator = trange(num_train_epochs, desc=\"Epoch\")\n",
        "\n",
        "for _ in train_iterator:\n",
        "    epoch_iterator = tqdm(train_dataloader, desc=\"Iteration\")\n",
        "    for step, batch in enumerate(epoch_iterator):\n",
        "      if step < global_step + 1:\n",
        "        continue\n",
        "\n",
        "      model.train()\n",
        "      batch = tuple(t.to(device) for t in batch)\n",
        "\n",
        "      inputs = {'input_ids':       batch[0],\n",
        "                'attention_mask':  batch[1], \n",
        "                'token_type_ids':  batch[2],  \n",
        "                'start_positions': batch[3], \n",
        "                'end_positions':   batch[4]}\n",
        "\n",
        "      outputs = model(**inputs)\n",
        "\n",
        "      loss = outputs[0]\n",
        "      train_loss_set.append(loss)\n",
        "      loss.backward()\n",
        "      torch.nn.utils.clip_grad_norm_(model.parameters(), 1.0)\n",
        "\n",
        "      tr_loss += loss.item()\n",
        "      optimizer.step()\n",
        "      model.zero_grad()\n",
        "      global_step += 1\n",
        "    \n",
        "      if global_step % 1000 == 0:\n",
        "        print(\"Train loss: {}\".format(tr_loss/global_step))\n",
        "        output_dir = '/drive/My Drive/Medium/checkpoint-{}'.format(global_step)\n",
        "        if not os.path.exists(output_dir):\n",
        "            os.makedirs(output_dir)\n",
        "        model_to_save = model.module if hasattr(model, 'module') else model  # Take care of distributed/parallel training\n",
        "        model_to_save.save_pretrained(output_dir)\n",
        "        torch.save(torch.tensor(train_loss_set), os.path.join(output_dir, 'training_loss.pt'))\n",
        "        print(\"Saving model checkpoint to %s\" % output_dir)"
      ],
      "execution_count": 28,
      "outputs": [
        {
          "output_type": "stream",
          "name": "stdout",
          "text": [
            "***** Running training *****\n",
            "  Num examples = 1202\n",
            "  Num Epochs = 1\n",
            "  Batch size = 8\n",
            "  Total optimization steps = 150\n"
          ]
        },
        {
          "output_type": "stream",
          "name": "stderr",
          "text": [
            "Epoch:   0%|          | 0/1 [00:00<?, ?it/s]\n",
            "Iteration:   0%|          | 0/150 [00:00<?, ?it/s]\u001b[A/usr/local/lib/python3.7/dist-packages/pytorch_transformers/optimization.py:166: UserWarning: This overload of add_ is deprecated:\n",
            "\tadd_(Number alpha, Tensor other)\n",
            "Consider using one of the following signatures instead:\n",
            "\tadd_(Tensor other, *, Number alpha) (Triggered internally at  /pytorch/torch/csrc/utils/python_arg_parser.cpp:1025.)\n",
            "  exp_avg.mul_(beta1).add_(1.0 - beta1, grad)\n",
            "\n",
            "Iteration:   1%|▏         | 2/150 [00:01<01:14,  1.98it/s]\u001b[A\n",
            "Iteration:   2%|▏         | 3/150 [00:01<01:36,  1.52it/s]\u001b[A\n",
            "Iteration:   3%|▎         | 4/150 [00:02<01:46,  1.37it/s]\u001b[A\n",
            "Iteration:   3%|▎         | 5/150 [00:03<01:53,  1.28it/s]\u001b[A\n",
            "Iteration:   4%|▍         | 6/150 [00:04<01:56,  1.23it/s]\u001b[A\n",
            "Iteration:   5%|▍         | 7/150 [00:05<01:58,  1.21it/s]\u001b[A\n",
            "Iteration:   5%|▌         | 8/150 [00:06<01:59,  1.19it/s]\u001b[A\n",
            "Iteration:   6%|▌         | 9/150 [00:07<01:59,  1.18it/s]\u001b[A\n",
            "Iteration:   7%|▋         | 10/150 [00:07<01:59,  1.17it/s]\u001b[A\n",
            "Iteration:   7%|▋         | 11/150 [00:08<01:59,  1.16it/s]\u001b[A\n",
            "Iteration:   8%|▊         | 12/150 [00:09<01:58,  1.16it/s]\u001b[A\n",
            "Iteration:   9%|▊         | 13/150 [00:10<01:58,  1.16it/s]\u001b[A\n",
            "Iteration:   9%|▉         | 14/150 [00:11<01:57,  1.16it/s]\u001b[A\n",
            "Iteration:  10%|█         | 15/150 [00:12<01:56,  1.16it/s]\u001b[A\n",
            "Iteration:  11%|█         | 16/150 [00:13<01:55,  1.16it/s]\u001b[A\n",
            "Iteration:  11%|█▏        | 17/150 [00:14<01:55,  1.15it/s]\u001b[A\n",
            "Iteration:  12%|█▏        | 18/150 [00:14<01:54,  1.15it/s]\u001b[A\n",
            "Iteration:  13%|█▎        | 19/150 [00:15<01:53,  1.15it/s]\u001b[A\n",
            "Iteration:  13%|█▎        | 20/150 [00:16<01:52,  1.15it/s]\u001b[A\n",
            "Iteration:  14%|█▍        | 21/150 [00:17<01:51,  1.16it/s]\u001b[A\n",
            "Iteration:  15%|█▍        | 22/150 [00:18<01:51,  1.15it/s]\u001b[A\n",
            "Iteration:  15%|█▌        | 23/150 [00:19<01:49,  1.16it/s]\u001b[A\n",
            "Iteration:  16%|█▌        | 24/150 [00:20<01:49,  1.15it/s]\u001b[A\n",
            "Iteration:  17%|█▋        | 25/150 [00:20<01:48,  1.15it/s]\u001b[A\n",
            "Iteration:  17%|█▋        | 26/150 [00:21<01:47,  1.15it/s]\u001b[A\n",
            "Iteration:  18%|█▊        | 27/150 [00:22<01:46,  1.16it/s]\u001b[A\n",
            "Iteration:  19%|█▊        | 28/150 [00:23<01:45,  1.15it/s]\u001b[A\n",
            "Iteration:  19%|█▉        | 29/150 [00:24<01:45,  1.15it/s]\u001b[A\n",
            "Iteration:  20%|██        | 30/150 [00:25<01:44,  1.15it/s]\u001b[A\n",
            "Iteration:  21%|██        | 31/150 [00:26<01:43,  1.15it/s]\u001b[A\n",
            "Iteration:  21%|██▏       | 32/150 [00:27<01:42,  1.15it/s]\u001b[A\n",
            "Iteration:  22%|██▏       | 33/150 [00:27<01:41,  1.15it/s]\u001b[A\n",
            "Iteration:  23%|██▎       | 34/150 [00:28<01:40,  1.15it/s]\u001b[A\n",
            "Iteration:  23%|██▎       | 35/150 [00:29<01:39,  1.15it/s]\u001b[A\n",
            "Iteration:  24%|██▍       | 36/150 [00:30<01:38,  1.15it/s]\u001b[A\n",
            "Iteration:  25%|██▍       | 37/150 [00:31<01:37,  1.15it/s]\u001b[A\n",
            "Iteration:  25%|██▌       | 38/150 [00:32<01:36,  1.15it/s]\u001b[A\n",
            "Iteration:  26%|██▌       | 39/150 [00:33<01:35,  1.16it/s]\u001b[A\n",
            "Iteration:  27%|██▋       | 40/150 [00:33<01:35,  1.16it/s]\u001b[A\n",
            "Iteration:  27%|██▋       | 41/150 [00:34<01:34,  1.16it/s]\u001b[A\n",
            "Iteration:  28%|██▊       | 42/150 [00:35<01:33,  1.16it/s]\u001b[A\n",
            "Iteration:  29%|██▊       | 43/150 [00:36<01:32,  1.16it/s]\u001b[A\n",
            "Iteration:  29%|██▉       | 44/150 [00:37<01:31,  1.16it/s]\u001b[A\n",
            "Iteration:  30%|███       | 45/150 [00:38<01:30,  1.16it/s]\u001b[A\n",
            "Iteration:  31%|███       | 46/150 [00:39<01:30,  1.16it/s]\u001b[A\n",
            "Iteration:  31%|███▏      | 47/150 [00:39<01:28,  1.16it/s]\u001b[A\n",
            "Iteration:  32%|███▏      | 48/150 [00:40<01:28,  1.16it/s]\u001b[A\n",
            "Iteration:  33%|███▎      | 49/150 [00:41<01:27,  1.15it/s]\u001b[A\n",
            "Iteration:  33%|███▎      | 50/150 [00:42<01:26,  1.15it/s]\u001b[A\n",
            "Iteration:  34%|███▍      | 51/150 [00:43<01:25,  1.16it/s]\u001b[A\n",
            "Iteration:  35%|███▍      | 52/150 [00:44<01:24,  1.16it/s]\u001b[A\n",
            "Iteration:  35%|███▌      | 53/150 [00:45<01:23,  1.16it/s]\u001b[A\n",
            "Iteration:  36%|███▌      | 54/150 [00:46<01:23,  1.15it/s]\u001b[A\n",
            "Iteration:  37%|███▋      | 55/150 [00:46<01:22,  1.16it/s]\u001b[A\n",
            "Iteration:  37%|███▋      | 56/150 [00:47<01:21,  1.16it/s]\u001b[A\n",
            "Iteration:  38%|███▊      | 57/150 [00:48<01:20,  1.16it/s]\u001b[A\n",
            "Iteration:  39%|███▊      | 58/150 [00:49<01:19,  1.16it/s]\u001b[A\n",
            "Iteration:  39%|███▉      | 59/150 [00:50<01:18,  1.16it/s]\u001b[A\n",
            "Iteration:  40%|████      | 60/150 [00:51<01:17,  1.15it/s]\u001b[A\n",
            "Iteration:  41%|████      | 61/150 [00:52<01:17,  1.15it/s]\u001b[A\n",
            "Iteration:  41%|████▏     | 62/150 [00:52<01:16,  1.16it/s]\u001b[A\n",
            "Iteration:  42%|████▏     | 63/150 [00:53<01:15,  1.16it/s]\u001b[A\n",
            "Iteration:  43%|████▎     | 64/150 [00:54<01:14,  1.16it/s]\u001b[A\n",
            "Iteration:  43%|████▎     | 65/150 [00:55<01:13,  1.16it/s]\u001b[A\n",
            "Iteration:  44%|████▍     | 66/150 [00:56<01:12,  1.16it/s]\u001b[A\n",
            "Iteration:  45%|████▍     | 67/150 [00:57<01:11,  1.16it/s]\u001b[A\n",
            "Iteration:  45%|████▌     | 68/150 [00:58<01:10,  1.16it/s]\u001b[A\n",
            "Iteration:  46%|████▌     | 69/150 [00:59<01:09,  1.16it/s]\u001b[A\n",
            "Iteration:  47%|████▋     | 70/150 [00:59<01:09,  1.16it/s]\u001b[A\n",
            "Iteration:  47%|████▋     | 71/150 [01:00<01:07,  1.16it/s]\u001b[A\n",
            "Iteration:  48%|████▊     | 72/150 [01:01<01:07,  1.16it/s]\u001b[A\n",
            "Iteration:  49%|████▊     | 73/150 [01:02<01:06,  1.16it/s]\u001b[A\n",
            "Iteration:  49%|████▉     | 74/150 [01:03<01:05,  1.16it/s]\u001b[A\n",
            "Iteration:  50%|█████     | 75/150 [01:04<01:04,  1.16it/s]\u001b[A\n",
            "Iteration:  51%|█████     | 76/150 [01:05<01:03,  1.16it/s]\u001b[A\n",
            "Iteration:  51%|█████▏    | 77/150 [01:05<01:03,  1.16it/s]\u001b[A\n",
            "Iteration:  52%|█████▏    | 78/150 [01:06<01:02,  1.16it/s]\u001b[A\n",
            "Iteration:  53%|█████▎    | 79/150 [01:07<01:01,  1.16it/s]\u001b[A\n",
            "Iteration:  53%|█████▎    | 80/150 [01:08<01:00,  1.16it/s]\u001b[A\n",
            "Iteration:  54%|█████▍    | 81/150 [01:09<00:59,  1.16it/s]\u001b[A\n",
            "Iteration:  55%|█████▍    | 82/150 [01:10<00:58,  1.16it/s]\u001b[A\n",
            "Iteration:  55%|█████▌    | 83/150 [01:11<00:57,  1.16it/s]\u001b[A\n",
            "Iteration:  56%|█████▌    | 84/150 [01:11<00:56,  1.16it/s]\u001b[A\n",
            "Iteration:  57%|█████▋    | 85/150 [01:12<00:55,  1.16it/s]\u001b[A\n",
            "Iteration:  57%|█████▋    | 86/150 [01:13<00:55,  1.16it/s]\u001b[A\n",
            "Iteration:  58%|█████▊    | 87/150 [01:14<00:54,  1.16it/s]\u001b[A\n",
            "Iteration:  59%|█████▊    | 88/150 [01:15<00:53,  1.16it/s]\u001b[A\n",
            "Iteration:  59%|█████▉    | 89/150 [01:16<00:52,  1.16it/s]\u001b[A\n",
            "Iteration:  60%|██████    | 90/150 [01:17<00:51,  1.16it/s]\u001b[A\n",
            "Iteration:  61%|██████    | 91/150 [01:17<00:50,  1.16it/s]\u001b[A\n",
            "Iteration:  61%|██████▏   | 92/150 [01:18<00:49,  1.16it/s]\u001b[A\n",
            "Iteration:  62%|██████▏   | 93/150 [01:19<00:49,  1.16it/s]\u001b[A\n",
            "Iteration:  63%|██████▎   | 94/150 [01:20<00:48,  1.16it/s]\u001b[A\n",
            "Iteration:  63%|██████▎   | 95/150 [01:21<00:47,  1.16it/s]\u001b[A\n",
            "Iteration:  64%|██████▍   | 96/150 [01:22<00:46,  1.16it/s]\u001b[A\n",
            "Iteration:  65%|██████▍   | 97/150 [01:23<00:45,  1.16it/s]\u001b[A\n",
            "Iteration:  65%|██████▌   | 98/150 [01:23<00:44,  1.16it/s]\u001b[A\n",
            "Iteration:  66%|██████▌   | 99/150 [01:24<00:43,  1.16it/s]\u001b[A\n",
            "Iteration:  67%|██████▋   | 100/150 [01:25<00:42,  1.16it/s]\u001b[A\n",
            "Iteration:  67%|██████▋   | 101/150 [01:26<00:42,  1.16it/s]\u001b[A\n",
            "Iteration:  68%|██████▊   | 102/150 [01:27<00:41,  1.16it/s]\u001b[A\n",
            "Iteration:  69%|██████▊   | 103/150 [01:28<00:40,  1.17it/s]\u001b[A\n",
            "Iteration:  69%|██████▉   | 104/150 [01:29<00:39,  1.17it/s]\u001b[A\n",
            "Iteration:  70%|███████   | 105/150 [01:30<00:38,  1.17it/s]\u001b[A\n",
            "Iteration:  71%|███████   | 106/150 [01:30<00:37,  1.16it/s]\u001b[A\n",
            "Iteration:  71%|███████▏  | 107/150 [01:31<00:36,  1.17it/s]\u001b[A\n",
            "Iteration:  72%|███████▏  | 108/150 [01:32<00:36,  1.16it/s]\u001b[A\n",
            "Iteration:  73%|███████▎  | 109/150 [01:33<00:35,  1.16it/s]\u001b[A\n",
            "Iteration:  73%|███████▎  | 110/150 [01:34<00:34,  1.16it/s]\u001b[A\n",
            "Iteration:  74%|███████▍  | 111/150 [01:35<00:33,  1.16it/s]\u001b[A\n",
            "Iteration:  75%|███████▍  | 112/150 [01:36<00:32,  1.16it/s]\u001b[A\n",
            "Iteration:  75%|███████▌  | 113/150 [01:36<00:31,  1.16it/s]\u001b[A\n",
            "Iteration:  76%|███████▌  | 114/150 [01:37<00:31,  1.16it/s]\u001b[A\n",
            "Iteration:  77%|███████▋  | 115/150 [01:38<00:30,  1.16it/s]\u001b[A\n",
            "Iteration:  77%|███████▋  | 116/150 [01:39<00:29,  1.16it/s]\u001b[A\n",
            "Iteration:  78%|███████▊  | 117/150 [01:40<00:28,  1.16it/s]\u001b[A\n",
            "Iteration:  79%|███████▊  | 118/150 [01:41<00:27,  1.16it/s]\u001b[A\n",
            "Iteration:  79%|███████▉  | 119/150 [01:42<00:26,  1.16it/s]\u001b[A\n",
            "Iteration:  80%|████████  | 120/150 [01:42<00:25,  1.16it/s]\u001b[A\n",
            "Iteration:  81%|████████  | 121/150 [01:43<00:24,  1.16it/s]\u001b[A\n",
            "Iteration:  81%|████████▏ | 122/150 [01:44<00:24,  1.16it/s]\u001b[A\n",
            "Iteration:  82%|████████▏ | 123/150 [01:45<00:23,  1.16it/s]\u001b[A\n",
            "Iteration:  83%|████████▎ | 124/150 [01:46<00:22,  1.16it/s]\u001b[A\n",
            "Iteration:  83%|████████▎ | 125/150 [01:47<00:21,  1.16it/s]\u001b[A\n",
            "Iteration:  84%|████████▍ | 126/150 [01:48<00:20,  1.16it/s]\u001b[A\n",
            "Iteration:  85%|████████▍ | 127/150 [01:48<00:19,  1.16it/s]\u001b[A\n",
            "Iteration:  85%|████████▌ | 128/150 [01:49<00:18,  1.16it/s]\u001b[A\n",
            "Iteration:  86%|████████▌ | 129/150 [01:50<00:18,  1.16it/s]\u001b[A\n",
            "Iteration:  87%|████████▋ | 130/150 [01:51<00:17,  1.16it/s]\u001b[A\n",
            "Iteration:  87%|████████▋ | 131/150 [01:52<00:16,  1.16it/s]\u001b[A\n",
            "Iteration:  88%|████████▊ | 132/150 [01:53<00:15,  1.16it/s]\u001b[A\n",
            "Iteration:  89%|████████▊ | 133/150 [01:54<00:14,  1.16it/s]\u001b[A\n",
            "Iteration:  89%|████████▉ | 134/150 [01:55<00:13,  1.16it/s]\u001b[A\n",
            "Iteration:  90%|█████████ | 135/150 [01:55<00:12,  1.16it/s]\u001b[A\n",
            "Iteration:  91%|█████████ | 136/150 [01:56<00:12,  1.16it/s]\u001b[A\n",
            "Iteration:  91%|█████████▏| 137/150 [01:57<00:11,  1.16it/s]\u001b[A\n",
            "Iteration:  92%|█████████▏| 138/150 [01:58<00:10,  1.16it/s]\u001b[A\n",
            "Iteration:  93%|█████████▎| 139/150 [01:59<00:09,  1.16it/s]\u001b[A\n",
            "Iteration:  93%|█████████▎| 140/150 [02:00<00:08,  1.16it/s]\u001b[A\n",
            "Iteration:  94%|█████████▍| 141/150 [02:01<00:07,  1.16it/s]\u001b[A\n",
            "Iteration:  95%|█████████▍| 142/150 [02:01<00:06,  1.16it/s]\u001b[A\n",
            "Iteration:  95%|█████████▌| 143/150 [02:02<00:06,  1.16it/s]\u001b[A\n",
            "Iteration:  96%|█████████▌| 144/150 [02:03<00:05,  1.16it/s]\u001b[A\n",
            "Iteration:  97%|█████████▋| 145/150 [02:04<00:04,  1.16it/s]\u001b[A\n",
            "Iteration:  97%|█████████▋| 146/150 [02:05<00:03,  1.16it/s]\u001b[A\n",
            "Iteration:  98%|█████████▊| 147/150 [02:06<00:02,  1.16it/s]\u001b[A\n",
            "Iteration:  99%|█████████▊| 148/150 [02:07<00:01,  1.16it/s]\u001b[A\n",
            "Iteration:  99%|█████████▉| 149/150 [02:07<00:00,  1.16it/s]\u001b[A\n",
            "Iteration: 100%|██████████| 150/150 [02:08<00:00,  1.16it/s]\n",
            "Epoch: 100%|██████████| 1/1 [02:08<00:00, 128.83s/it]\n"
          ]
        }
      ]
    },
    {
      "cell_type": "code",
      "metadata": {
        "id": "hoaSyI1n1XBL"
      },
      "source": [
        "output_dir = 'content/drive/My Drive/checkpoint-final'\n",
        "if not os.path.exists(output_dir):\n",
        "    os.makedirs(output_dir)\n",
        "model_to_save = model.module if hasattr(model, 'module') else model\n",
        "model_to_save.save_pretrained(output_dir)"
      ],
      "execution_count": 29,
      "outputs": []
    },
    {
      "cell_type": "code",
      "metadata": {
        "colab": {
          "base_uri": "https://localhost:8080/",
          "height": 324
        },
        "id": "_JqdCOjr1e8m",
        "outputId": "933588c3-13d2-428d-bce9-4f4d3e5de287"
      },
      "source": [
        "train_loss_set_ckpt = torch.load('content/drive/My Drive/checkpoint-final/training_loss.pt')\n",
        "train_loss_set = to_list(train_loss_set_ckpt)"
      ],
      "execution_count": 30,
      "outputs": [
        {
          "output_type": "error",
          "ename": "FileNotFoundError",
          "evalue": "ignored",
          "traceback": [
            "\u001b[0;31m---------------------------------------------------------------------------\u001b[0m",
            "\u001b[0;31mFileNotFoundError\u001b[0m                         Traceback (most recent call last)",
            "\u001b[0;32m<ipython-input-30-d6fd7e8d13bc>\u001b[0m in \u001b[0;36m<module>\u001b[0;34m()\u001b[0m\n\u001b[0;32m----> 1\u001b[0;31m \u001b[0mtrain_loss_set_ckpt\u001b[0m \u001b[0;34m=\u001b[0m \u001b[0mtorch\u001b[0m\u001b[0;34m.\u001b[0m\u001b[0mload\u001b[0m\u001b[0;34m(\u001b[0m\u001b[0;34m'content/drive/My Drive/checkpoint-final/training_loss.pt'\u001b[0m\u001b[0;34m)\u001b[0m\u001b[0;34m\u001b[0m\u001b[0;34m\u001b[0m\u001b[0m\n\u001b[0m\u001b[1;32m      2\u001b[0m \u001b[0mtrain_loss_set\u001b[0m \u001b[0;34m=\u001b[0m \u001b[0mto_list\u001b[0m\u001b[0;34m(\u001b[0m\u001b[0mtrain_loss_set_ckpt\u001b[0m\u001b[0;34m)\u001b[0m\u001b[0;34m\u001b[0m\u001b[0;34m\u001b[0m\u001b[0m\n",
            "\u001b[0;32m/usr/local/lib/python3.7/dist-packages/torch/serialization.py\u001b[0m in \u001b[0;36mload\u001b[0;34m(f, map_location, pickle_module, **pickle_load_args)\u001b[0m\n\u001b[1;32m    592\u001b[0m         \u001b[0mpickle_load_args\u001b[0m\u001b[0;34m[\u001b[0m\u001b[0;34m'encoding'\u001b[0m\u001b[0;34m]\u001b[0m \u001b[0;34m=\u001b[0m \u001b[0;34m'utf-8'\u001b[0m\u001b[0;34m\u001b[0m\u001b[0;34m\u001b[0m\u001b[0m\n\u001b[1;32m    593\u001b[0m \u001b[0;34m\u001b[0m\u001b[0m\n\u001b[0;32m--> 594\u001b[0;31m     \u001b[0;32mwith\u001b[0m \u001b[0m_open_file_like\u001b[0m\u001b[0;34m(\u001b[0m\u001b[0mf\u001b[0m\u001b[0;34m,\u001b[0m \u001b[0;34m'rb'\u001b[0m\u001b[0;34m)\u001b[0m \u001b[0;32mas\u001b[0m \u001b[0mopened_file\u001b[0m\u001b[0;34m:\u001b[0m\u001b[0;34m\u001b[0m\u001b[0;34m\u001b[0m\u001b[0m\n\u001b[0m\u001b[1;32m    595\u001b[0m         \u001b[0;32mif\u001b[0m \u001b[0m_is_zipfile\u001b[0m\u001b[0;34m(\u001b[0m\u001b[0mopened_file\u001b[0m\u001b[0;34m)\u001b[0m\u001b[0;34m:\u001b[0m\u001b[0;34m\u001b[0m\u001b[0;34m\u001b[0m\u001b[0m\n\u001b[1;32m    596\u001b[0m             \u001b[0;31m# The zipfile reader is going to advance the current file position.\u001b[0m\u001b[0;34m\u001b[0m\u001b[0;34m\u001b[0m\u001b[0;34m\u001b[0m\u001b[0m\n",
            "\u001b[0;32m/usr/local/lib/python3.7/dist-packages/torch/serialization.py\u001b[0m in \u001b[0;36m_open_file_like\u001b[0;34m(name_or_buffer, mode)\u001b[0m\n\u001b[1;32m    228\u001b[0m \u001b[0;32mdef\u001b[0m \u001b[0m_open_file_like\u001b[0m\u001b[0;34m(\u001b[0m\u001b[0mname_or_buffer\u001b[0m\u001b[0;34m,\u001b[0m \u001b[0mmode\u001b[0m\u001b[0;34m)\u001b[0m\u001b[0;34m:\u001b[0m\u001b[0;34m\u001b[0m\u001b[0;34m\u001b[0m\u001b[0m\n\u001b[1;32m    229\u001b[0m     \u001b[0;32mif\u001b[0m \u001b[0m_is_path\u001b[0m\u001b[0;34m(\u001b[0m\u001b[0mname_or_buffer\u001b[0m\u001b[0;34m)\u001b[0m\u001b[0;34m:\u001b[0m\u001b[0;34m\u001b[0m\u001b[0;34m\u001b[0m\u001b[0m\n\u001b[0;32m--> 230\u001b[0;31m         \u001b[0;32mreturn\u001b[0m \u001b[0m_open_file\u001b[0m\u001b[0;34m(\u001b[0m\u001b[0mname_or_buffer\u001b[0m\u001b[0;34m,\u001b[0m \u001b[0mmode\u001b[0m\u001b[0;34m)\u001b[0m\u001b[0;34m\u001b[0m\u001b[0;34m\u001b[0m\u001b[0m\n\u001b[0m\u001b[1;32m    231\u001b[0m     \u001b[0;32melse\u001b[0m\u001b[0;34m:\u001b[0m\u001b[0;34m\u001b[0m\u001b[0;34m\u001b[0m\u001b[0m\n\u001b[1;32m    232\u001b[0m         \u001b[0;32mif\u001b[0m \u001b[0;34m'w'\u001b[0m \u001b[0;32min\u001b[0m \u001b[0mmode\u001b[0m\u001b[0;34m:\u001b[0m\u001b[0;34m\u001b[0m\u001b[0;34m\u001b[0m\u001b[0m\n",
            "\u001b[0;32m/usr/local/lib/python3.7/dist-packages/torch/serialization.py\u001b[0m in \u001b[0;36m__init__\u001b[0;34m(self, name, mode)\u001b[0m\n\u001b[1;32m    209\u001b[0m \u001b[0;32mclass\u001b[0m \u001b[0m_open_file\u001b[0m\u001b[0;34m(\u001b[0m\u001b[0m_opener\u001b[0m\u001b[0;34m)\u001b[0m\u001b[0;34m:\u001b[0m\u001b[0;34m\u001b[0m\u001b[0;34m\u001b[0m\u001b[0m\n\u001b[1;32m    210\u001b[0m     \u001b[0;32mdef\u001b[0m \u001b[0m__init__\u001b[0m\u001b[0;34m(\u001b[0m\u001b[0mself\u001b[0m\u001b[0;34m,\u001b[0m \u001b[0mname\u001b[0m\u001b[0;34m,\u001b[0m \u001b[0mmode\u001b[0m\u001b[0;34m)\u001b[0m\u001b[0;34m:\u001b[0m\u001b[0;34m\u001b[0m\u001b[0;34m\u001b[0m\u001b[0m\n\u001b[0;32m--> 211\u001b[0;31m         \u001b[0msuper\u001b[0m\u001b[0;34m(\u001b[0m\u001b[0m_open_file\u001b[0m\u001b[0;34m,\u001b[0m \u001b[0mself\u001b[0m\u001b[0;34m)\u001b[0m\u001b[0;34m.\u001b[0m\u001b[0m__init__\u001b[0m\u001b[0;34m(\u001b[0m\u001b[0mopen\u001b[0m\u001b[0;34m(\u001b[0m\u001b[0mname\u001b[0m\u001b[0;34m,\u001b[0m \u001b[0mmode\u001b[0m\u001b[0;34m)\u001b[0m\u001b[0;34m)\u001b[0m\u001b[0;34m\u001b[0m\u001b[0;34m\u001b[0m\u001b[0m\n\u001b[0m\u001b[1;32m    212\u001b[0m \u001b[0;34m\u001b[0m\u001b[0m\n\u001b[1;32m    213\u001b[0m     \u001b[0;32mdef\u001b[0m \u001b[0m__exit__\u001b[0m\u001b[0;34m(\u001b[0m\u001b[0mself\u001b[0m\u001b[0;34m,\u001b[0m \u001b[0;34m*\u001b[0m\u001b[0margs\u001b[0m\u001b[0;34m)\u001b[0m\u001b[0;34m:\u001b[0m\u001b[0;34m\u001b[0m\u001b[0;34m\u001b[0m\u001b[0m\n",
            "\u001b[0;31mFileNotFoundError\u001b[0m: [Errno 2] No such file or directory: 'content/drive/My Drive/checkpoint-final/training_loss.pt'"
          ]
        }
      ]
    },
    {
      "cell_type": "code",
      "metadata": {
        "colab": {
          "base_uri": "https://localhost:8080/",
          "height": 513
        },
        "id": "hq2keAV_1hV1",
        "outputId": "20cb131f-1944-4515-860e-aa8f5c1a87be"
      },
      "source": [
        "plt.figure(figsize=(15,8))\n",
        "plt.title(\"Training loss\")\n",
        "plt.xlabel(\"Batch\")\n",
        "plt.ylabel(\"Loss\")\n",
        "plt.plot(train_loss_set)\n",
        "plt.show()"
      ],
      "execution_count": 31,
      "outputs": [
        {
          "output_type": "display_data",
          "data": {
            "image/png": "[encoded data removed]",
            "text/plain": [
              "<Figure size 1080x576 with 1 Axes>"
            ]
          },
          "metadata": {
            "needs_background": "light"
          }
        }
      ]
    },
    {
      "cell_type": "code",
      "metadata": {
        "id": "qP4G81_J2yZf"
      },
      "source": [
        "input_file = '/content/drive/My Drive/dev-v2.0.json'\n",
        "val_examples = read_squad_examples(input_file=input_file,\n",
        "                                is_training=False,\n",
        "                                version_2_with_negative=True\n",
        "                                )\n",
        "\n",
        "doc_stride = 128\n",
        "max_seq_length = 256\n",
        "max_query_length = 64\n",
        "cached_features_file = '/content/drive/My Drive/cache_validation'\n",
        "\n",
        "\n",
        "# Cache features for faster loading\n",
        "if not os.path.exists(cached_features_file):\n",
        "  features = convert_examples_to_features(examples=val_examples,\n",
        "                                        tokenizer=tokenizer,\n",
        "                                        max_seq_length=max_seq_length,\n",
        "                                        doc_stride=doc_stride,\n",
        "                                        max_query_length=max_query_length,\n",
        "                                        is_training=False)\n",
        "  torch.save(features, cached_features_file)\n",
        "else:\n",
        "  features = torch.load(cached_features_file)"
      ],
      "execution_count": 39,
      "outputs": []
    },
    {
      "cell_type": "code",
      "metadata": {
        "id": "lTgpEmg_8YeR"
      },
      "source": [
        "# Convert to Tensors and build dataset\n",
        "all_input_ids = torch.tensor([f.input_ids for f in features], dtype=torch.long)\n",
        "all_input_mask = torch.tensor([f.input_mask for f in features], dtype=torch.long)\n",
        "all_segment_ids = torch.tensor([f.segment_ids for f in features], dtype=torch.long)\n",
        "all_cls_index = torch.tensor([f.cls_index for f in features], dtype=torch.long)\n",
        "all_p_mask = torch.tensor([f.p_mask for f in features], dtype=torch.float)\n",
        "\n",
        "all_example_index = torch.arange(all_input_ids.size(0), dtype=torch.long)\n",
        "dataset = TensorDataset(all_input_ids, all_input_mask, all_segment_ids,\n",
        "                        all_example_index, all_cls_index, all_p_mask)"
      ],
      "execution_count": 40,
      "outputs": []
    },
    {
      "cell_type": "code",
      "metadata": {
        "id": "XHG5PXAI8j3z"
      },
      "source": [
        "validation_sampler = SequentialSampler(dataset)\n",
        "validation_dataloader = DataLoader(dataset, sampler=validation_sampler, batch_size=batch_size, drop_last=True)"
      ],
      "execution_count": 41,
      "outputs": []
    },
    {
      "cell_type": "code",
      "metadata": {
        "id": "Ko7jz8ug8nU_"
      },
      "source": [
        "def evaluate(model, tokenizer):\n",
        "  print(\"***** Running evaluation *****\")\n",
        "  print(\"  Num examples = %d\" % len(dataset))\n",
        "  print(\"  Batch size = %d\" % batch_size)\n",
        "  all_results = []\n",
        "  predict_file = '/content/drive/My Drive/dev-v2.0.json'\n",
        "  for batch in tqdm(validation_dataloader, desc=\"Evaluating\", miniters=100, mininterval=5.0):\n",
        "    model.eval()\n",
        "    batch = tuple(t.to(device) for t in batch)\n",
        "    with torch.no_grad():\n",
        "      inputs = {'input_ids':      batch[0],\n",
        "                'attention_mask': batch[1],\n",
        "                'token_type_ids': batch[2]\n",
        "                }\n",
        "      example_indices = batch[3]\n",
        "      outputs = model(**inputs)\n",
        "\n",
        "    for i, example_index in enumerate(example_indices):\n",
        "      eval_feature = features[example_index.item()]\n",
        "      unique_id = int(eval_feature.unique_id)\n",
        "\n",
        "      result = RawResult(unique_id    = unique_id,\n",
        "                         start_logits = to_list(outputs[0][i]),\n",
        "                         end_logits   = to_list(outputs[1][i]))\n",
        "      all_results.append(result)\n",
        "\n",
        "  # Compute predictions\n",
        "  output_prediction_file = \"/content/drive/My Drive/predictions.json\"\n",
        "  output_nbest_file = \"/content/drive/My Drive/nbest_predictions.json\"\n",
        "  output_null_log_odds_file = \"/content/drive/My Drive/null_odds.json\"\n",
        "  output_dir = \"/content/drive/My Drive/predict_results\"\n",
        "\n",
        "  write_predictions(val_examples, features, all_results, 10,\n",
        "                  30, True, output_prediction_file,\n",
        "                  output_nbest_file, output_null_log_odds_file, False,\n",
        "                  True, 0.0)\n",
        "\n",
        "  # Evaluate with the official SQuAD script\n",
        "  evaluate_options = EVAL_OPTS(data_file=predict_file,\n",
        "                               pred_file=output_prediction_file,\n",
        "                               na_prob_file=output_null_log_odds_file,\n",
        "                               out_image_dir=None)\n",
        "  results = evaluate_on_squad(evaluate_options)\n",
        "  return results"
      ],
      "execution_count": 44,
      "outputs": []
    },
    {
      "cell_type": "code",
      "metadata": {
        "colab": {
          "base_uri": "https://localhost:8080/"
        },
        "id": "Cw1X4Hgw8p8z",
        "outputId": "8615d744-2693-49cc-801b-eb96bc183dbf"
      },
      "source": [
        "results = evaluate(model, tokenizer)"
      ],
      "execution_count": 45,
      "outputs": [
        {
          "output_type": "stream",
          "name": "stdout",
          "text": [
            "***** Running evaluation *****\n",
            "  Num examples = 13600\n",
            "  Batch size = 8\n"
          ]
        },
        {
          "output_type": "stream",
          "name": "stderr",
          "text": [
            "Evaluating: 100%|██████████| 1700/1700 [07:38<00:00,  3.71it/s]\n"
          ]
        },
        {
          "output_type": "stream",
          "name": "stdout",
          "text": [
            "{\n",
            "  \"exact\": 19.093742103933295,\n",
            "  \"f1\": 25.240302484276327,\n",
            "  \"total\": 11873,\n",
            "  \"HasAns_exact\": 38.006072874493924,\n",
            "  \"HasAns_f1\": 50.31682041089959,\n",
            "  \"HasAns_total\": 5928,\n",
            "  \"NoAns_exact\": 0.23549201009251472,\n",
            "  \"NoAns_f1\": 0.23549201009251472,\n",
            "  \"NoAns_total\": 5945,\n",
            "  \"best_exact\": 50.33268761054494,\n",
            "  \"best_exact_thresh\": -15.151115000247955,\n",
            "  \"best_f1\": 50.455844184582034,\n",
            "  \"best_f1_thresh\": -15.151115000247955\n",
            "}\n"
          ]
        }
      ]
    }
  ]
}