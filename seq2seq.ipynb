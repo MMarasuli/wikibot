{
  "nbformat": 4,
  "nbformat_minor": 0,
  "metadata": {
    "colab": {
      "name": "seq2seq.ipynb",
      "provenance": [],
      "collapsed_sections": [],
      "machine_shape": "hm",
      "include_colab_link": true
    },
    "kernelspec": {
      "name": "python3",
      "display_name": "Python 3"
    },
    "language_info": {
      "name": "python"
    },
    "accelerator": "GPU"
  },
  "cells": [
    {
      "cell_type": "markdown",
      "metadata": {
        "id": "view-in-github",
        "colab_type": "text"
      },
      "source": [
        "<a href=\"https://colab.research.google.com/github/tohpedo/wikibot/blob/seq2seq/seq2seq.ipynb\" target=\"_parent\"><img src=\"https://colab.research.google.com/assets/colab-badge.svg\" alt=\"Open In Colab\"/></a>"
      ]
    },
    {
      "cell_type": "code",
      "metadata": {
        "id": "PlqYTLFkLRBw",
        "colab": {
          "base_uri": "https://localhost:8080/"
        },
        "outputId": "9bbe0bdb-b3b0-4267-9541-73a36c15de30"
      },
      "source": [
        "from google.colab import drive\n",
        "drive.mount('/content/drive')"
      ],
      "execution_count": 1,
      "outputs": [
        {
          "output_type": "stream",
          "name": "stdout",
          "text": [
            "Drive already mounted at /content/drive; to attempt to forcibly remount, call drive.mount(\"/content/drive\", force_remount=True).\n"
          ]
        }
      ]
    },
    {
      "cell_type": "code",
      "metadata": {
        "id": "dRXlwTfbROJq"
      },
      "source": [
        "# imports\n",
        "import pandas as pd\n",
        "import numpy as np\n",
        "import matplotlib.pyplot as plt\n",
        "import re"
      ],
      "execution_count": 2,
      "outputs": []
    },
    {
      "cell_type": "code",
      "metadata": {
        "id": "yM5bxWWTRXZE"
      },
      "source": [
        "# base\n",
        "\n",
        "base = pd.read_csv(\"/content/drive/MyDrive/Squad/database.csv\")[:2000]"
      ],
      "execution_count": 3,
      "outputs": []
    },
    {
      "cell_type": "code",
      "metadata": {
        "id": "a-EqgbgtRaX8"
      },
      "source": [
        "# define function to clean the text \n",
        "\n",
        "def clean_text(text):\n",
        "\n",
        "    text = text.lower()\n",
        "    text = re.sub(r\"\\n\", \"\",  text)\n",
        "    text = re.sub(r\"[-()]\", \"\", text)\n",
        "    text = re.sub(r\"\\.\", \" . \", text)\n",
        "    text = re.sub(r\"\\!\", \" ! \", text)\n",
        "    text = re.sub(r\"\\?\", \" ? \", text)\n",
        "    text = re.sub(r\"\\,\", \" , \", text)\n",
        "    text = re.sub(r\"\\\"\", \" \\\" \", text)\n",
        "    text = re.sub(r\"i'm\", \"i am\", text)\n",
        "    text = re.sub(r\"he's\", \"he is\", text)\n",
        "    text = re.sub(r\"she's\", \"she is\", text)\n",
        "    text = re.sub(r\"it's\", \"it is\", text)\n",
        "    text = re.sub(r\"that's\", \"that is\", text)\n",
        "    text = re.sub(r\"what's\", \"that is\", text)\n",
        "    text = re.sub(r\"where's\", \"where is\", text)\n",
        "    text = re.sub(r\"how's\", \"how is\", text)\n",
        "    text = re.sub(r\"\\'ll\", \" will\", text)\n",
        "    text = re.sub(r\"\\'ve\", \" have\", text)\n",
        "    text = re.sub(r\"\\'d\", \" would\", text)\n",
        "    text = re.sub(r\"\\'re\", \" are\", text)\n",
        "    text = re.sub(r\"won't\", \"will not\", text)\n",
        "    text = re.sub(r\"can't\", \"cannot\", text)\n",
        "    text = re.sub(r\"n't\", \" not\", text)\n",
        "    text = re.sub(r\"n'\", \"ng\", text)\n",
        "    text = re.sub(r\"'bout\", \"about\", text)\n",
        "    text = re.sub(r\"'til\", \"until\", text)\n",
        "    text = re.sub(r\"[-()\\\"#/@;:<>{}`+=~|.!?,]\", \"\", text)\n",
        "\n",
        "    \n",
        "    return text"
      ],
      "execution_count": 4,
      "outputs": []
    },
    {
      "cell_type": "markdown",
      "metadata": {
        "id": "FKL1zQbVvcIf"
      },
      "source": [
        "# **Base Processing**"
      ]
    },
    {
      "cell_type": "code",
      "metadata": {
        "id": "LFGQOiwqRd7v"
      },
      "source": [
        "# base processing \n",
        "\n",
        "base = base.dropna()\n",
        "\n",
        "# defining lenghts of q's and a's\n",
        "\n",
        "q_text = []\n",
        "\n",
        "for line in base.question:\n",
        "    q_text.append(clean_text(line))\n",
        "\n",
        "q_len = []\n",
        "for line in q_text:\n",
        "    q_len.append(len(line.split()))\n",
        "\n",
        "max_q_length = max(q_len)\n",
        "\n",
        "a_text = []\n",
        "for line in base.text:\n",
        "    a_text.append(clean_text(line))\n",
        "\n",
        "a_len = []\n",
        "for line in a_text:\n",
        "    a_len.append(len(line.split()))\n",
        "\n",
        "# plus two due to tokens\n",
        "max_a_length = max(a_len) + 2\n",
        "\n",
        "# adding tokens to answers\n",
        "for i in range(len(a_text)):\n",
        "    a_text[i]  = \"<BOS> \" + a_text[i] + \" <EOS>\"\n"
      ],
      "execution_count": 5,
      "outputs": []
    },
    {
      "cell_type": "code",
      "metadata": {
        "id": "R_OiNMKkRiup"
      },
      "source": [
        "# vocab and tokenizing\n",
        "# making vocab\n",
        "from tensorflow.keras.preprocessing.text import Tokenizer\n",
        "\n",
        "vocab_size = 10000\n",
        "tokenizer = Tokenizer(num_words = vocab_size, lower=False, filters=\"\")\n",
        "tokenizer.fit_on_texts(q_text + a_text)\n",
        "dictionary = tokenizer.word_index\n",
        "\n",
        "word2token = {}\n",
        "token2word = {}\n",
        "\n",
        "for k, v in dictionary.items():\n",
        "    if v < vocab_size:\n",
        "        word2token[k] = v\n",
        "        token2word[v] = k\n",
        "    else:\n",
        "        continue\n",
        "\n",
        "vocab_size = len(word2token) + 1\n",
        "\n",
        "# tokenizing sentences\n",
        "\n",
        "encoder_seq = tokenizer.texts_to_sequences(q_text)\n",
        "decoder_seq = tokenizer.texts_to_sequences(a_text)"
      ],
      "execution_count": 6,
      "outputs": []
    },
    {
      "cell_type": "code",
      "metadata": {
        "id": "fvxGxQUGRmdF"
      },
      "source": [
        "# padding\n",
        "from tensorflow.keras.preprocessing.sequence import pad_sequences\n",
        "from tensorflow.keras.utils import to_categorical\n",
        "\n",
        "encoder_input = pad_sequences(encoder_seq, \n",
        "                              maxlen = max_q_length,\n",
        "                              padding = \"post\",\n",
        "                              truncating= \"post\")\n",
        "\n",
        "decoder_input = pad_sequences(decoder_seq, \n",
        "                              maxlen = max_a_length,\n",
        "                              padding = \"post\",\n",
        "                              truncating= \"post\")\n"
      ],
      "execution_count": 7,
      "outputs": []
    },
    {
      "cell_type": "code",
      "metadata": {
        "id": "HU5yUpOBRoo7"
      },
      "source": [
        "# formating decoder output\n",
        "for i in range(len(decoder_seq)):\n",
        "    decoder_seq[i] =  decoder_seq[i][1:]\n",
        "    \n",
        "# pad with 0\n",
        "padded_answers = pad_sequences(decoder_seq,\n",
        "                               maxlen = max_a_length,\n",
        "                               padding = \"post\")\n"
      ],
      "execution_count": 8,
      "outputs": []
    },
    {
      "cell_type": "code",
      "metadata": {
        "id": "n6PIKSr_RsT5"
      },
      "source": [
        "#deleting non-necessary variables\n",
        "del(a_len, a_text, decoder_seq, dictionary, encoder_seq, i, k, line, q_len, q_text,  v)"
      ],
      "execution_count": 9,
      "outputs": []
    },
    {
      "cell_type": "code",
      "metadata": {
        "id": "vfMDH7nsr-QC"
      },
      "source": [
        "decoder_output = to_categorical(padded_answers, vocab_size)"
      ],
      "execution_count": 10,
      "outputs": []
    },
    {
      "cell_type": "code",
      "metadata": {
        "id": "OKX09iVGr_-4"
      },
      "source": [
        "#deleting non-necessary variables\n",
        "del(padded_answers)"
      ],
      "execution_count": 11,
      "outputs": []
    },
    {
      "cell_type": "markdown",
      "metadata": {
        "id": "VAassb7wvjtL"
      },
      "source": [
        "# **Model**"
      ]
    },
    {
      "cell_type": "code",
      "metadata": {
        "id": "XKjf68qTTRC9"
      },
      "source": [
        "#defining functions to custom metrics\n",
        "\n",
        "from keras import backend as K\n",
        "\n",
        "def recall_m(y_true, y_pred):\n",
        "    true_positives = K.sum(K.round(K.clip(y_true * y_pred, 0, 1)))\n",
        "    possible_positives = K.sum(K.round(K.clip(y_true, 0, 1)))\n",
        "    recall = true_positives / (possible_positives + K.epsilon())\n",
        "    return recall\n",
        "\n",
        "def precision_m(y_true, y_pred):\n",
        "    true_positives = K.sum(K.round(K.clip(y_true * y_pred, 0, 1)))\n",
        "    predicted_positives = K.sum(K.round(K.clip(y_pred, 0, 1)))\n",
        "    precision = true_positives / (predicted_positives + K.epsilon())\n",
        "    return precision\n",
        "\n",
        "def f1_m(y_true, y_pred):\n",
        "    precision = precision_m(y_true, y_pred)\n",
        "    recall = recall_m(y_true, y_pred)\n",
        "    return 2*((precision*recall)/(precision+recall+K.epsilon()))"
      ],
      "execution_count": 12,
      "outputs": []
    },
    {
      "cell_type": "code",
      "metadata": {
        "id": "_Psn8tS7UVc2"
      },
      "source": [
        "# train test splitting\n",
        "\n",
        "from sklearn.model_selection import train_test_split\n",
        "\n",
        "encoder_input_train, encoder_input_test, decoder_input_train, decoder_input_test, decoder_output_train, decoder_output_test = train_test_split(encoder_input,\n",
        "                                                                                                                                               decoder_input,\n",
        "                                                                                                                                               decoder_output)\n",
        "\n",
        "del(encoder_input,decoder_input, decoder_output)"
      ],
      "execution_count": 14,
      "outputs": []
    },
    {
      "cell_type": "code",
      "metadata": {
        "id": "TcQu8WEZRu7E",
        "outputId": "7690badc-df47-4a43-e67d-639444365764",
        "colab": {
          "base_uri": "https://localhost:8080/"
        }
      },
      "source": [
        "# =============================================================================\n",
        "# Model\n",
        "# =============================================================================\n",
        "from tensorflow.keras.models import Model\n",
        "from tensorflow.keras.layers import Dense, Embedding, LSTM, Input\n",
        "from tensorflow.keras import optimizers\n",
        "\n",
        "# encoder will be used to capture space-dependent relations between words from the questions\n",
        "# about 200 neurons needed \n",
        "\n",
        "emedding_size = 512\n",
        "enc_inputs = Input(shape=(None,))\n",
        "enc_embeding = Embedding(vocab_size, emedding_size, mask_zero=True)\n",
        "enc_embeding = enc_embeding(enc_inputs)\n",
        "enc_lstm = LSTM(emedding_size,  return_state=True)\n",
        "enc_outputs, h, c = enc_lstm(enc_embeding)\n",
        "enc_states = [h, c]\n",
        "\n",
        "# decoder will be used to capture space-dependent relations between words from the answers using encoder's internal state as a context\n",
        "\n",
        "dec_inputs = Input(shape=(None,))\n",
        "dec_embedding = Embedding(vocab_size, emedding_size, mask_zero=True)\n",
        "dec_embedding = dec_embedding(dec_inputs)\n",
        "dec_lstm = LSTM(emedding_size, return_state=True, return_sequences=True)\n",
        "dec_outputs, _, _ = dec_lstm(dec_embedding, initial_state = enc_states)\n",
        "\n",
        "# decoder is connected to the output Dense layer\n",
        "dec_dense = Dense(vocab_size, activation = \"softmax\")\n",
        "output = dec_dense(dec_outputs)\n",
        "\n",
        "model = Model([enc_inputs, dec_inputs], output)\n",
        "lr = 0.001\n",
        "# output of this network will look like this:\n",
        "# y_true = [0.05, 0.95, 0...]\n",
        "# and expected one-hot encoded output like this:\n",
        "# y_pred = [0, 1, 0...]\n",
        "model.compile(optimizer = optimizers.Adam(learning_rate = lr), loss = \"categorical_crossentropy\", metrics = [\"acc\", f1_m, precision_m, recall_m])\n",
        "model.summary()\n"
      ],
      "execution_count": 16,
      "outputs": [
        {
          "output_type": "stream",
          "name": "stdout",
          "text": [
            "Model: \"model_1\"\n",
            "__________________________________________________________________________________________________\n",
            " Layer (type)                   Output Shape         Param #     Connected to                     \n",
            "==================================================================================================\n",
            " input_3 (InputLayer)           [(None, None)]       0           []                               \n",
            "                                                                                                  \n",
            " input_4 (InputLayer)           [(None, None)]       0           []                               \n",
            "                                                                                                  \n",
            " embedding_2 (Embedding)        (None, None, 512)    2013184     ['input_3[0][0]']                \n",
            "                                                                                                  \n",
            " embedding_3 (Embedding)        (None, None, 512)    2013184     ['input_4[0][0]']                \n",
            "                                                                                                  \n",
            " lstm_2 (LSTM)                  [(None, 512),        2099200     ['embedding_2[0][0]']            \n",
            "                                 (None, 512),                                                     \n",
            "                                 (None, 512)]                                                     \n",
            "                                                                                                  \n",
            " lstm_3 (LSTM)                  [(None, None, 512),  2099200     ['embedding_3[0][0]',            \n",
            "                                 (None, 512),                     'lstm_2[0][1]',                 \n",
            "                                 (None, 512)]                     'lstm_2[0][2]']                 \n",
            "                                                                                                  \n",
            " dense_1 (Dense)                (None, None, 3932)   2017116     ['lstm_3[0][0]']                 \n",
            "                                                                                                  \n",
            "==================================================================================================\n",
            "Total params: 10,241,884\n",
            "Trainable params: 10,241,884\n",
            "Non-trainable params: 0\n",
            "__________________________________________________________________________________________________\n"
          ]
        }
      ]
    },
    {
      "cell_type": "markdown",
      "metadata": {
        "id": "MhE4MesvvT5Z"
      },
      "source": [
        "# **Training**"
      ]
    },
    {
      "cell_type": "code",
      "metadata": {
        "id": "1-sj-ub6vBK4",
        "outputId": "0b394a65-925d-4b16-e2ab-8fa4bd03a1b0",
        "colab": {
          "base_uri": "https://localhost:8080/"
        }
      },
      "source": [
        "!pip install pyyaml h5py  # Required to save models in HDF5 format"
      ],
      "execution_count": 17,
      "outputs": [
        {
          "output_type": "stream",
          "name": "stdout",
          "text": [
            "Requirement already satisfied: pyyaml in /usr/local/lib/python3.7/dist-packages (3.13)\n",
            "Requirement already satisfied: h5py in /usr/local/lib/python3.7/dist-packages (3.1.0)\n",
            "Requirement already satisfied: cached-property in /usr/local/lib/python3.7/dist-packages (from h5py) (1.5.2)\n",
            "Requirement already satisfied: numpy>=1.14.5 in /usr/local/lib/python3.7/dist-packages (from h5py) (1.19.5)\n"
          ]
        }
      ]
    },
    {
      "cell_type": "code",
      "metadata": {
        "id": "FkIMbTllucYP"
      },
      "source": [
        "# creating checkpoints\n",
        "import os\n",
        "import tensorflow as tf\n",
        "\n",
        "checkpoint_path = \"/content/drive/MyDrive/Squad/training_6/cp.ckpt\"\n",
        "checkpoint_dir = os.path.dirname(checkpoint_path)\n",
        "\n",
        "# Create a callback that saves the model's weights\n",
        "cp_callback = tf.keras.callbacks.ModelCheckpoint(filepath=checkpoint_path,\n",
        "                                                 save_weights_only=True,\n",
        "                                                 verbose=1)\n",
        "\n",
        "# This may generate warnings related to saving the state of the optimizer.\n",
        "# These warnings (and similar warnings throughout this notebook)\n",
        "# are in place to discourage outdated usage, and can be ignored."
      ],
      "execution_count": 19,
      "outputs": []
    },
    {
      "cell_type": "markdown",
      "metadata": {
        "id": "cr91muWIwxJg"
      },
      "source": [
        "# **The Actual Bot part**"
      ]
    },
    {
      "cell_type": "markdown",
      "metadata": {
        "id": "T5BOqbbGgP0Y"
      },
      "source": [
        "use only while training"
      ]
    },
    {
      "cell_type": "code",
      "metadata": {
        "id": "rh-MxfRNu8YI",
        "outputId": "2cc5183d-dc0c-4cdd-cc34-42105fa0e67a",
        "colab": {
          "base_uri": "https://localhost:8080/"
        }
      },
      "source": [
        "# fitting the model\n",
        "history = model.fit([encoder_input_train, decoder_input_train],\n",
        "          decoder_output_train,\n",
        "          validation_split = 0.2,\n",
        "          batch_size = 32,\n",
        "          epochs = 40,\n",
        "          callbacks = [cp_callback])"
      ],
      "execution_count": 24,
      "outputs": [
        {
          "output_type": "stream",
          "name": "stdout",
          "text": [
            "Epoch 1/40\n",
            "37/38 [============================>.] - ETA: 0s - loss: 0.0429 - acc: 0.9881 - f1_m: 0.4093 - precision_m: 0.9994 - recall_m: 0.2578\n",
            "Epoch 00001: saving model to /content/drive/MyDrive/Squad/training_6/cp.ckpt\n",
            "38/38 [==============================] - 6s 166ms/step - loss: 0.0429 - acc: 0.9883 - f1_m: 0.4092 - precision_m: 0.9994 - recall_m: 0.2577 - val_loss: 0.0457 - val_acc: 0.9892 - val_f1_m: 0.4044 - val_precision_m: 0.9984 - val_recall_m: 0.2538\n",
            "Epoch 2/40\n",
            "38/38 [==============================] - ETA: 0s - loss: 0.0364 - acc: 0.9900 - f1_m: 0.4141 - precision_m: 0.9994 - recall_m: 0.2614\n",
            "Epoch 00002: saving model to /content/drive/MyDrive/Squad/training_6/cp.ckpt\n",
            "38/38 [==============================] - 3s 69ms/step - loss: 0.0364 - acc: 0.9900 - f1_m: 0.4141 - precision_m: 0.9994 - recall_m: 0.2614 - val_loss: 0.0514 - val_acc: 0.9807 - val_f1_m: 0.3989 - val_precision_m: 0.9967 - val_recall_m: 0.2495\n",
            "Epoch 3/40\n",
            "37/38 [============================>.] - ETA: 0s - loss: 0.0312 - acc: 0.9922 - f1_m: 0.4172 - precision_m: 0.9998 - recall_m: 0.2639\n",
            "Epoch 00003: saving model to /content/drive/MyDrive/Squad/training_6/cp.ckpt\n",
            "38/38 [==============================] - 3s 76ms/step - loss: 0.0314 - acc: 0.9923 - f1_m: 0.4189 - precision_m: 0.9998 - recall_m: 0.2653 - val_loss: 0.0571 - val_acc: 0.9730 - val_f1_m: 0.3957 - val_precision_m: 0.9958 - val_recall_m: 0.2472\n",
            "Epoch 4/40\n",
            "38/38 [==============================] - ETA: 0s - loss: 0.0277 - acc: 0.9927 - f1_m: 0.4210 - precision_m: 0.9996 - recall_m: 0.2669\n",
            "Epoch 00004: saving model to /content/drive/MyDrive/Squad/training_6/cp.ckpt\n",
            "38/38 [==============================] - 2s 65ms/step - loss: 0.0277 - acc: 0.9927 - f1_m: 0.4210 - precision_m: 0.9996 - recall_m: 0.2669 - val_loss: 0.0597 - val_acc: 0.9715 - val_f1_m: 0.3935 - val_precision_m: 0.9958 - val_recall_m: 0.2454\n",
            "Epoch 5/40\n",
            "37/38 [============================>.] - ETA: 0s - loss: 0.0248 - acc: 0.9928 - f1_m: 0.4232 - precision_m: 0.9992 - recall_m: 0.2687\n",
            "Epoch 00005: saving model to /content/drive/MyDrive/Squad/training_6/cp.ckpt\n",
            "38/38 [==============================] - 2s 65ms/step - loss: 0.0246 - acc: 0.9929 - f1_m: 0.4231 - precision_m: 0.9992 - recall_m: 0.2686 - val_loss: 0.0632 - val_acc: 0.9653 - val_f1_m: 0.3907 - val_precision_m: 0.9949 - val_recall_m: 0.2433\n",
            "Epoch 6/40\n",
            "37/38 [============================>.] - ETA: 0s - loss: 0.0221 - acc: 0.9938 - f1_m: 0.4242 - precision_m: 0.9994 - recall_m: 0.2694\n",
            "Epoch 00006: saving model to /content/drive/MyDrive/Squad/training_6/cp.ckpt\n",
            "38/38 [==============================] - 2s 65ms/step - loss: 0.0221 - acc: 0.9939 - f1_m: 0.4242 - precision_m: 0.9994 - recall_m: 0.2695 - val_loss: 0.0665 - val_acc: 0.9583 - val_f1_m: 0.3893 - val_precision_m: 0.9940 - val_recall_m: 0.2423\n",
            "Epoch 7/40\n",
            "37/38 [============================>.] - ETA: 0s - loss: 0.0203 - acc: 0.9942 - f1_m: 0.4252 - precision_m: 0.9996 - recall_m: 0.2703\n",
            "Epoch 00007: saving model to /content/drive/MyDrive/Squad/training_6/cp.ckpt\n",
            "38/38 [==============================] - 2s 65ms/step - loss: 0.0202 - acc: 0.9942 - f1_m: 0.4251 - precision_m: 0.9996 - recall_m: 0.2702 - val_loss: 0.0688 - val_acc: 0.9522 - val_f1_m: 0.3865 - val_precision_m: 0.9931 - val_recall_m: 0.2402\n",
            "Epoch 8/40\n",
            "37/38 [============================>.] - ETA: 0s - loss: 0.0183 - acc: 0.9950 - f1_m: 0.4262 - precision_m: 0.9998 - recall_m: 0.2710\n",
            "Epoch 00008: saving model to /content/drive/MyDrive/Squad/training_6/cp.ckpt\n",
            "38/38 [==============================] - 3s 77ms/step - loss: 0.0184 - acc: 0.9948 - f1_m: 0.4257 - precision_m: 0.9998 - recall_m: 0.2706 - val_loss: 0.0714 - val_acc: 0.9483 - val_f1_m: 0.3853 - val_precision_m: 0.9914 - val_recall_m: 0.2393\n",
            "Epoch 9/40\n",
            "37/38 [============================>.] - ETA: 0s - loss: 0.0170 - acc: 0.9951 - f1_m: 0.4260 - precision_m: 0.9996 - recall_m: 0.2709\n",
            "Epoch 00009: saving model to /content/drive/MyDrive/Squad/training_6/cp.ckpt\n",
            "38/38 [==============================] - 2s 65ms/step - loss: 0.0170 - acc: 0.9952 - f1_m: 0.4257 - precision_m: 0.9996 - recall_m: 0.2706 - val_loss: 0.0784 - val_acc: 0.9444 - val_f1_m: 0.3820 - val_precision_m: 0.9878 - val_recall_m: 0.2369\n",
            "Epoch 10/40\n",
            "37/38 [============================>.] - ETA: 0s - loss: 0.0164 - acc: 0.9955 - f1_m: 0.4261 - precision_m: 0.9998 - recall_m: 0.2710\n",
            "Epoch 00010: saving model to /content/drive/MyDrive/Squad/training_6/cp.ckpt\n",
            "38/38 [==============================] - 2s 66ms/step - loss: 0.0164 - acc: 0.9954 - f1_m: 0.4257 - precision_m: 0.9998 - recall_m: 0.2707 - val_loss: 0.0768 - val_acc: 0.9383 - val_f1_m: 0.3821 - val_precision_m: 0.9896 - val_recall_m: 0.2370\n",
            "Epoch 11/40\n",
            "38/38 [==============================] - ETA: 0s - loss: 0.0146 - acc: 0.9954 - f1_m: 0.4264 - precision_m: 0.9994 - recall_m: 0.2713\n",
            "Epoch 00011: saving model to /content/drive/MyDrive/Squad/training_6/cp.ckpt\n",
            "38/38 [==============================] - 3s 77ms/step - loss: 0.0146 - acc: 0.9954 - f1_m: 0.4264 - precision_m: 0.9994 - recall_m: 0.2713 - val_loss: 0.0795 - val_acc: 0.9367 - val_f1_m: 0.3812 - val_precision_m: 0.9879 - val_recall_m: 0.2364\n",
            "Epoch 12/40\n",
            "37/38 [============================>.] - ETA: 0s - loss: 0.0132 - acc: 0.9963 - f1_m: 0.4257 - precision_m: 1.0000 - recall_m: 0.2706\n",
            "Epoch 00012: saving model to /content/drive/MyDrive/Squad/training_6/cp.ckpt\n",
            "38/38 [==============================] - 2s 64ms/step - loss: 0.0132 - acc: 0.9964 - f1_m: 0.4260 - precision_m: 1.0000 - recall_m: 0.2708 - val_loss: 0.0811 - val_acc: 0.9344 - val_f1_m: 0.3809 - val_precision_m: 0.9870 - val_recall_m: 0.2362\n",
            "Epoch 13/40\n",
            "37/38 [============================>.] - ETA: 0s - loss: 0.0122 - acc: 0.9971 - f1_m: 0.4264 - precision_m: 1.0000 - recall_m: 0.2713\n",
            "Epoch 00013: saving model to /content/drive/MyDrive/Squad/training_6/cp.ckpt\n",
            "38/38 [==============================] - 3s 67ms/step - loss: 0.0123 - acc: 0.9969 - f1_m: 0.4266 - precision_m: 1.0000 - recall_m: 0.2714 - val_loss: 0.0838 - val_acc: 0.9275 - val_f1_m: 0.3793 - val_precision_m: 0.9844 - val_recall_m: 0.2351\n",
            "Epoch 14/40\n",
            "37/38 [============================>.] - ETA: 0s - loss: 0.0112 - acc: 0.9977 - f1_m: 0.4267 - precision_m: 1.0000 - recall_m: 0.2715\n",
            "Epoch 00014: saving model to /content/drive/MyDrive/Squad/training_6/cp.ckpt\n",
            "38/38 [==============================] - 3s 73ms/step - loss: 0.0113 - acc: 0.9975 - f1_m: 0.4265 - precision_m: 1.0000 - recall_m: 0.2713 - val_loss: 0.0862 - val_acc: 0.9259 - val_f1_m: 0.3799 - val_precision_m: 0.9844 - val_recall_m: 0.2355\n",
            "Epoch 15/40\n",
            "38/38 [==============================] - ETA: 0s - loss: 0.0105 - acc: 0.9979 - f1_m: 0.4266 - precision_m: 1.0000 - recall_m: 0.2713\n",
            "Epoch 00015: saving model to /content/drive/MyDrive/Squad/training_6/cp.ckpt\n",
            "38/38 [==============================] - 3s 67ms/step - loss: 0.0105 - acc: 0.9979 - f1_m: 0.4266 - precision_m: 1.0000 - recall_m: 0.2713 - val_loss: 0.0870 - val_acc: 0.9221 - val_f1_m: 0.3792 - val_precision_m: 0.9826 - val_recall_m: 0.2351\n",
            "Epoch 16/40\n",
            "38/38 [==============================] - ETA: 0s - loss: 0.0097 - acc: 0.9983 - f1_m: 0.4264 - precision_m: 1.0000 - recall_m: 0.2712\n",
            "Epoch 00016: saving model to /content/drive/MyDrive/Squad/training_6/cp.ckpt\n",
            "38/38 [==============================] - 3s 66ms/step - loss: 0.0097 - acc: 0.9983 - f1_m: 0.4264 - precision_m: 1.0000 - recall_m: 0.2712 - val_loss: 0.0898 - val_acc: 0.9190 - val_f1_m: 0.3778 - val_precision_m: 0.9791 - val_recall_m: 0.2343\n",
            "Epoch 17/40\n",
            "37/38 [============================>.] - ETA: 0s - loss: 0.0088 - acc: 0.9986 - f1_m: 0.4269 - precision_m: 1.0000 - recall_m: 0.2717\n",
            "Epoch 00017: saving model to /content/drive/MyDrive/Squad/training_6/cp.ckpt\n",
            "38/38 [==============================] - 3s 78ms/step - loss: 0.0087 - acc: 0.9987 - f1_m: 0.4270 - precision_m: 1.0000 - recall_m: 0.2718 - val_loss: 0.0916 - val_acc: 0.9151 - val_f1_m: 0.3766 - val_precision_m: 0.9781 - val_recall_m: 0.2334\n",
            "Epoch 18/40\n",
            "38/38 [==============================] - ETA: 0s - loss: 0.0082 - acc: 0.9985 - f1_m: 0.4271 - precision_m: 1.0000 - recall_m: 0.2718\n",
            "Epoch 00018: saving model to /content/drive/MyDrive/Squad/training_6/cp.ckpt\n",
            "38/38 [==============================] - 3s 67ms/step - loss: 0.0082 - acc: 0.9985 - f1_m: 0.4271 - precision_m: 1.0000 - recall_m: 0.2718 - val_loss: 0.0934 - val_acc: 0.9144 - val_f1_m: 0.3752 - val_precision_m: 0.9771 - val_recall_m: 0.2323\n",
            "Epoch 19/40\n",
            "37/38 [============================>.] - ETA: 0s - loss: 0.0075 - acc: 0.9994 - f1_m: 0.4276 - precision_m: 1.0000 - recall_m: 0.2722\n",
            "Epoch 00019: saving model to /content/drive/MyDrive/Squad/training_6/cp.ckpt\n",
            "38/38 [==============================] - 3s 67ms/step - loss: 0.0075 - acc: 0.9994 - f1_m: 0.4273 - precision_m: 1.0000 - recall_m: 0.2719 - val_loss: 0.0953 - val_acc: 0.9113 - val_f1_m: 0.3746 - val_precision_m: 0.9763 - val_recall_m: 0.2319\n",
            "Epoch 20/40\n",
            "37/38 [============================>.] - ETA: 0s - loss: 0.0069 - acc: 0.9996 - f1_m: 0.4276 - precision_m: 1.0000 - recall_m: 0.2723\n",
            "Epoch 00020: saving model to /content/drive/MyDrive/Squad/training_6/cp.ckpt\n",
            "38/38 [==============================] - 3s 68ms/step - loss: 0.0069 - acc: 0.9996 - f1_m: 0.4277 - precision_m: 1.0000 - recall_m: 0.2724 - val_loss: 0.0977 - val_acc: 0.9074 - val_f1_m: 0.3738 - val_precision_m: 0.9762 - val_recall_m: 0.2313\n",
            "Epoch 21/40\n",
            "38/38 [==============================] - ETA: 0s - loss: 0.0064 - acc: 0.9998 - f1_m: 0.4276 - precision_m: 1.0000 - recall_m: 0.2723\n",
            "Epoch 00021: saving model to /content/drive/MyDrive/Squad/training_6/cp.ckpt\n",
            "38/38 [==============================] - 3s 68ms/step - loss: 0.0064 - acc: 0.9998 - f1_m: 0.4276 - precision_m: 1.0000 - recall_m: 0.2723 - val_loss: 0.0987 - val_acc: 0.9043 - val_f1_m: 0.3732 - val_precision_m: 0.9753 - val_recall_m: 0.2309\n",
            "Epoch 22/40\n",
            "37/38 [============================>.] - ETA: 0s - loss: 0.0059 - acc: 0.9994 - f1_m: 0.4278 - precision_m: 1.0000 - recall_m: 0.2724\n",
            "Epoch 00022: saving model to /content/drive/MyDrive/Squad/training_6/cp.ckpt\n",
            "38/38 [==============================] - 3s 78ms/step - loss: 0.0058 - acc: 0.9994 - f1_m: 0.4279 - precision_m: 1.0000 - recall_m: 0.2725 - val_loss: 0.1004 - val_acc: 0.9020 - val_f1_m: 0.3731 - val_precision_m: 0.9736 - val_recall_m: 0.2309\n",
            "Epoch 23/40\n",
            "38/38 [==============================] - ETA: 0s - loss: 0.0053 - acc: 0.9998 - f1_m: 0.4278 - precision_m: 1.0000 - recall_m: 0.2724\n",
            "Epoch 00023: saving model to /content/drive/MyDrive/Squad/training_6/cp.ckpt\n",
            "38/38 [==============================] - 3s 67ms/step - loss: 0.0053 - acc: 0.9998 - f1_m: 0.4278 - precision_m: 1.0000 - recall_m: 0.2724 - val_loss: 0.1028 - val_acc: 0.8966 - val_f1_m: 0.3726 - val_precision_m: 0.9718 - val_recall_m: 0.2307\n",
            "Epoch 24/40\n",
            "38/38 [==============================] - ETA: 0s - loss: 0.0049 - acc: 0.9998 - f1_m: 0.4280 - precision_m: 1.0000 - recall_m: 0.2726\n",
            "Epoch 00024: saving model to /content/drive/MyDrive/Squad/training_6/cp.ckpt\n",
            "38/38 [==============================] - 3s 67ms/step - loss: 0.0049 - acc: 0.9998 - f1_m: 0.4280 - precision_m: 1.0000 - recall_m: 0.2726 - val_loss: 0.1035 - val_acc: 0.8966 - val_f1_m: 0.3720 - val_precision_m: 0.9675 - val_recall_m: 0.2304\n",
            "Epoch 25/40\n",
            "38/38 [==============================] - ETA: 0s - loss: 0.0046 - acc: 0.9998 - f1_m: 0.4282 - precision_m: 1.0000 - recall_m: 0.2727\n",
            "Epoch 00025: saving model to /content/drive/MyDrive/Squad/training_6/cp.ckpt\n",
            "38/38 [==============================] - 3s 78ms/step - loss: 0.0046 - acc: 0.9998 - f1_m: 0.4282 - precision_m: 1.0000 - recall_m: 0.2727 - val_loss: 0.1053 - val_acc: 0.8935 - val_f1_m: 0.3722 - val_precision_m: 0.9693 - val_recall_m: 0.2304\n",
            "Epoch 26/40\n",
            "38/38 [==============================] - ETA: 0s - loss: 0.0043 - acc: 0.9998 - f1_m: 0.4287 - precision_m: 1.0000 - recall_m: 0.2732\n",
            "Epoch 00026: saving model to /content/drive/MyDrive/Squad/training_6/cp.ckpt\n",
            "38/38 [==============================] - 3s 68ms/step - loss: 0.0043 - acc: 0.9998 - f1_m: 0.4287 - precision_m: 1.0000 - recall_m: 0.2732 - val_loss: 0.1073 - val_acc: 0.8873 - val_f1_m: 0.3699 - val_precision_m: 0.9648 - val_recall_m: 0.2290\n",
            "Epoch 27/40\n",
            "37/38 [============================>.] - ETA: 0s - loss: 0.0040 - acc: 0.9998 - f1_m: 0.4285 - precision_m: 1.0000 - recall_m: 0.2729\n",
            "Epoch 00027: saving model to /content/drive/MyDrive/Squad/training_6/cp.ckpt\n",
            "38/38 [==============================] - 3s 68ms/step - loss: 0.0040 - acc: 0.9998 - f1_m: 0.4281 - precision_m: 1.0000 - recall_m: 0.2726 - val_loss: 0.1081 - val_acc: 0.8866 - val_f1_m: 0.3693 - val_precision_m: 0.9664 - val_recall_m: 0.2284\n",
            "Epoch 28/40\n",
            "37/38 [============================>.] - ETA: 0s - loss: 0.0037 - acc: 0.9998 - f1_m: 0.4281 - precision_m: 1.0000 - recall_m: 0.2727\n",
            "Epoch 00028: saving model to /content/drive/MyDrive/Squad/training_6/cp.ckpt\n",
            "38/38 [==============================] - 3s 75ms/step - loss: 0.0037 - acc: 0.9998 - f1_m: 0.4290 - precision_m: 1.0000 - recall_m: 0.2735 - val_loss: 0.1106 - val_acc: 0.8819 - val_f1_m: 0.3687 - val_precision_m: 0.9629 - val_recall_m: 0.2282\n",
            "Epoch 29/40\n",
            "37/38 [============================>.] - ETA: 0s - loss: 0.0034 - acc: 1.0000 - f1_m: 0.4281 - precision_m: 1.0000 - recall_m: 0.2725\n",
            "Epoch 00029: saving model to /content/drive/MyDrive/Squad/training_6/cp.ckpt\n",
            "38/38 [==============================] - 3s 67ms/step - loss: 0.0035 - acc: 1.0000 - f1_m: 0.4284 - precision_m: 1.0000 - recall_m: 0.2728 - val_loss: 0.1118 - val_acc: 0.8804 - val_f1_m: 0.3684 - val_precision_m: 0.9596 - val_recall_m: 0.2281\n",
            "Epoch 30/40\n",
            "37/38 [============================>.] - ETA: 0s - loss: 0.0033 - acc: 1.0000 - f1_m: 0.4290 - precision_m: 1.0000 - recall_m: 0.2734\n",
            "Epoch 00030: saving model to /content/drive/MyDrive/Squad/training_6/cp.ckpt\n",
            "38/38 [==============================] - 3s 68ms/step - loss: 0.0033 - acc: 1.0000 - f1_m: 0.4286 - precision_m: 1.0000 - recall_m: 0.2731 - val_loss: 0.1134 - val_acc: 0.8789 - val_f1_m: 0.3675 - val_precision_m: 0.9611 - val_recall_m: 0.2273\n",
            "Epoch 31/40\n",
            "37/38 [============================>.] - ETA: 0s - loss: 0.0031 - acc: 1.0000 - f1_m: 0.4284 - precision_m: 1.0000 - recall_m: 0.2729\n",
            "Epoch 00031: saving model to /content/drive/MyDrive/Squad/training_6/cp.ckpt\n",
            "38/38 [==============================] - 3s 80ms/step - loss: 0.0031 - acc: 1.0000 - f1_m: 0.4286 - precision_m: 1.0000 - recall_m: 0.2730 - val_loss: 0.1147 - val_acc: 0.8750 - val_f1_m: 0.3670 - val_precision_m: 0.9586 - val_recall_m: 0.2271\n",
            "Epoch 32/40\n",
            "38/38 [==============================] - ETA: 0s - loss: 0.0029 - acc: 1.0000 - f1_m: 0.4290 - precision_m: 1.0000 - recall_m: 0.2734\n",
            "Epoch 00032: saving model to /content/drive/MyDrive/Squad/training_6/cp.ckpt\n",
            "38/38 [==============================] - 3s 68ms/step - loss: 0.0029 - acc: 1.0000 - f1_m: 0.4290 - precision_m: 1.0000 - recall_m: 0.2734 - val_loss: 0.1164 - val_acc: 0.8742 - val_f1_m: 0.3662 - val_precision_m: 0.9551 - val_recall_m: 0.2267\n",
            "Epoch 33/40\n",
            "38/38 [==============================] - ETA: 0s - loss: 0.0028 - acc: 1.0000 - f1_m: 0.4285 - precision_m: 1.0000 - recall_m: 0.2729\n",
            "Epoch 00033: saving model to /content/drive/MyDrive/Squad/training_6/cp.ckpt\n",
            "38/38 [==============================] - 3s 78ms/step - loss: 0.0028 - acc: 1.0000 - f1_m: 0.4285 - precision_m: 1.0000 - recall_m: 0.2729 - val_loss: 0.1171 - val_acc: 0.8750 - val_f1_m: 0.3666 - val_precision_m: 0.9568 - val_recall_m: 0.2269\n",
            "Epoch 34/40\n",
            "38/38 [==============================] - ETA: 0s - loss: 0.0027 - acc: 1.0000 - f1_m: 0.4290 - precision_m: 1.0000 - recall_m: 0.2735\n",
            "Epoch 00034: saving model to /content/drive/MyDrive/Squad/training_6/cp.ckpt\n",
            "38/38 [==============================] - 3s 80ms/step - loss: 0.0027 - acc: 1.0000 - f1_m: 0.4290 - precision_m: 1.0000 - recall_m: 0.2735 - val_loss: 0.1185 - val_acc: 0.8742 - val_f1_m: 0.3652 - val_precision_m: 0.9558 - val_recall_m: 0.2258\n",
            "Epoch 35/40\n",
            "38/38 [==============================] - ETA: 0s - loss: 0.0026 - acc: 1.0000 - f1_m: 0.4285 - precision_m: 1.0000 - recall_m: 0.2730\n",
            "Epoch 00035: saving model to /content/drive/MyDrive/Squad/training_6/cp.ckpt\n",
            "38/38 [==============================] - 3s 68ms/step - loss: 0.0026 - acc: 1.0000 - f1_m: 0.4285 - precision_m: 1.0000 - recall_m: 0.2730 - val_loss: 0.1195 - val_acc: 0.8719 - val_f1_m: 0.3653 - val_precision_m: 0.9508 - val_recall_m: 0.2262\n",
            "Epoch 36/40\n",
            "37/38 [============================>.] - ETA: 0s - loss: 0.0025 - acc: 1.0000 - f1_m: 0.4294 - precision_m: 1.0000 - recall_m: 0.2738\n",
            "Epoch 00036: saving model to /content/drive/MyDrive/Squad/training_6/cp.ckpt\n",
            "38/38 [==============================] - 3s 67ms/step - loss: 0.0025 - acc: 1.0000 - f1_m: 0.4289 - precision_m: 1.0000 - recall_m: 0.2734 - val_loss: 0.1205 - val_acc: 0.8711 - val_f1_m: 0.3656 - val_precision_m: 0.9550 - val_recall_m: 0.2262\n",
            "Epoch 37/40\n",
            "38/38 [==============================] - ETA: 0s - loss: 0.0024 - acc: 1.0000 - f1_m: 0.4286 - precision_m: 1.0000 - recall_m: 0.2730\n",
            "Epoch 00037: saving model to /content/drive/MyDrive/Squad/training_6/cp.ckpt\n",
            "38/38 [==============================] - 3s 81ms/step - loss: 0.0024 - acc: 1.0000 - f1_m: 0.4286 - precision_m: 1.0000 - recall_m: 0.2730 - val_loss: 0.1217 - val_acc: 0.8711 - val_f1_m: 0.3651 - val_precision_m: 0.9508 - val_recall_m: 0.2260\n",
            "Epoch 38/40\n",
            "38/38 [==============================] - ETA: 0s - loss: 0.0023 - acc: 1.0000 - f1_m: 0.4286 - precision_m: 1.0000 - recall_m: 0.2731\n",
            "Epoch 00038: saving model to /content/drive/MyDrive/Squad/training_6/cp.ckpt\n",
            "38/38 [==============================] - 2s 65ms/step - loss: 0.0023 - acc: 1.0000 - f1_m: 0.4286 - precision_m: 1.0000 - recall_m: 0.2731 - val_loss: 0.1231 - val_acc: 0.8704 - val_f1_m: 0.3645 - val_precision_m: 0.9507 - val_recall_m: 0.2256\n",
            "Epoch 39/40\n",
            "38/38 [==============================] - ETA: 0s - loss: 0.0022 - acc: 1.0000 - f1_m: 0.4282 - precision_m: 1.0000 - recall_m: 0.2726\n",
            "Epoch 00039: saving model to /content/drive/MyDrive/Squad/training_6/cp.ckpt\n",
            "38/38 [==============================] - 3s 76ms/step - loss: 0.0022 - acc: 1.0000 - f1_m: 0.4282 - precision_m: 1.0000 - recall_m: 0.2726 - val_loss: 0.1243 - val_acc: 0.8704 - val_f1_m: 0.3641 - val_precision_m: 0.9490 - val_recall_m: 0.2254\n",
            "Epoch 40/40\n",
            "37/38 [============================>.] - ETA: 0s - loss: 0.0021 - acc: 1.0000 - f1_m: 0.4281 - precision_m: 1.0000 - recall_m: 0.2727\n",
            "Epoch 00040: saving model to /content/drive/MyDrive/Squad/training_6/cp.ckpt\n",
            "38/38 [==============================] - 2s 66ms/step - loss: 0.0021 - acc: 1.0000 - f1_m: 0.4290 - precision_m: 1.0000 - recall_m: 0.2734 - val_loss: 0.1255 - val_acc: 0.8696 - val_f1_m: 0.3633 - val_precision_m: 0.9488 - val_recall_m: 0.2247\n"
          ]
        }
      ]
    },
    {
      "cell_type": "code",
      "metadata": {
        "id": "RrfJWxDoY683",
        "outputId": "93cc6380-2ec3-4c1e-a95f-15b16ab81ae0",
        "colab": {
          "base_uri": "https://localhost:8080/"
        }
      },
      "source": [
        "print(history.history.keys())"
      ],
      "execution_count": 26,
      "outputs": [
        {
          "output_type": "stream",
          "name": "stdout",
          "text": [
            "dict_keys(['loss', 'acc', 'f1_m', 'precision_m', 'recall_m', 'val_loss', 'val_acc', 'val_f1_m', 'val_precision_m', 'val_recall_m'])\n"
          ]
        }
      ]
    },
    {
      "cell_type": "markdown",
      "metadata": {
        "id": "Fy_GR2UOZEtW"
      },
      "source": [
        "Accuracy plot"
      ]
    },
    {
      "cell_type": "code",
      "metadata": {
        "id": "jyBeJ2ayZMaQ",
        "outputId": "44b02583-52d2-4f59-99ef-01538b81b669",
        "colab": {
          "base_uri": "https://localhost:8080/",
          "height": 295
        }
      },
      "source": [
        "plt.plot(history.history['acc'])\n",
        "plt.plot(history.history['val_acc'])\n",
        "plt.title('model accuracy')\n",
        "plt.ylabel('accuracy')\n",
        "plt.xlabel('epoch')\n",
        "plt.legend(['train', 'test'], loc='upper left')\n",
        "plt.show()"
      ],
      "execution_count": 27,
      "outputs": [
        {
          "output_type": "display_data",
          "data": {
            "image/png": "[encoded data removed]",
            "text/plain": [
              "<Figure size 432x288 with 1 Axes>"
            ]
          },
          "metadata": {
            "needs_background": "light"
          }
        }
      ]
    },
    {
      "cell_type": "markdown",
      "metadata": {
        "id": "qW6Al6Q4Zm2L"
      },
      "source": [
        "Loss plot"
      ]
    },
    {
      "cell_type": "code",
      "metadata": {
        "id": "sbf3UjFkZr-U",
        "outputId": "bed86cb7-18a9-4242-f37d-135cf2a9beaf",
        "colab": {
          "base_uri": "https://localhost:8080/",
          "height": 295
        }
      },
      "source": [
        "plt.plot(history.history['loss'])\n",
        "plt.plot(history.history['val_loss'])\n",
        "plt.title('model loss')\n",
        "plt.ylabel('loss')\n",
        "plt.xlabel('epoch')\n",
        "plt.legend(['train', 'test'], loc='upper left')\n",
        "plt.show()"
      ],
      "execution_count": 28,
      "outputs": [
        {
          "output_type": "display_data",
          "data": {
            "image/png": "[encoded data removed]",
            "text/plain": [
              "<Figure size 432x288 with 1 Axes>"
            ]
          },
          "metadata": {
            "needs_background": "light"
          }
        }
      ]
    },
    {
      "cell_type": "markdown",
      "metadata": {
        "id": "aDNeTG7_ZFJc"
      },
      "source": [
        "Scores"
      ]
    },
    {
      "cell_type": "code",
      "metadata": {
        "id": "dxbVHv6QZIYy",
        "outputId": "8bbce752-5893-46da-83c1-7233d9ca52a0",
        "colab": {
          "base_uri": "https://localhost:8080/"
        }
      },
      "source": [
        "loss, accuracy, f1_score, precision, recall = model.evaluate([encoder_input_test, decoder_input_test],\n",
        "                                                             decoder_output_test, \n",
        "                                                             verbose = 1)\n"
      ],
      "execution_count": 29,
      "outputs": [
        {
          "output_type": "stream",
          "name": "stdout",
          "text": [
            "16/16 [==============================] - 0s 28ms/step - loss: 1.8785 - acc: 0.4842 - f1_m: 0.2176 - precision_m: 0.7083 - recall_m: 0.1288\n"
          ]
        }
      ]
    },
    {
      "cell_type": "code",
      "metadata": {
        "id": "wrE0xn9oZqo4",
        "outputId": "57c8ff07-082d-46f7-bfa7-26c44d091251",
        "colab": {
          "base_uri": "https://localhost:8080/"
        }
      },
      "source": [
        "print(\"F1 Score = {}\".format(f1_score))\n",
        "print(\"Precision = {}\".format(precision))\n",
        "print(\"Recall = {}\".format(recall))"
      ],
      "execution_count": 35,
      "outputs": [
        {
          "output_type": "stream",
          "name": "stdout",
          "text": [
            "F1 Score = 0.21763713657855988\n",
            "Precision = 0.7083011865615845\n",
            "Recall = 0.1287745088338852\n"
          ]
        }
      ]
    },
    {
      "cell_type": "markdown",
      "metadata": {
        "id": "--xBppUjigLe"
      },
      "source": [
        "use once trained"
      ]
    },
    {
      "cell_type": "code",
      "metadata": {
        "id": "xJCIxKNAgAWL"
      },
      "source": [
        "# Loads the weights\n",
        "model.load_weights(checkpoint_path)\n"
      ],
      "execution_count": null,
      "outputs": []
    },
    {
      "cell_type": "markdown",
      "metadata": {
        "id": "AQEGpVJ0Q7jd"
      },
      "source": [
        "**BOT**"
      ]
    },
    {
      "cell_type": "code",
      "metadata": {
        "id": "mD3A50sZR6cz"
      },
      "source": [
        "# =============================================================================\n",
        "# Bot\n",
        "# =============================================================================\n",
        "\n",
        "def make_inference_models():\n",
        "    # two inputs for the state vectors returned by encoder\n",
        "    dec_state_input_h = Input(shape=(emedding_size,))\n",
        "    dec_state_input_c = Input(shape=(emedding_size,))\n",
        "    dec_states_inputs = [dec_state_input_h, dec_state_input_c]\n",
        "    # these state vectors are used as an initial state \n",
        "    # for LSTM layer in the inference decoder\n",
        "    # third input is the Embedding layer as explained above   \n",
        "    dec_outputs, h, c = dec_lstm(dec_embedding,\n",
        "                                    initial_state=dec_states_inputs)\n",
        "    dec_states = [h, c]\n",
        "    # Dense layer is used to return OHE predicted word\n",
        "    dec_outputs = dec_dense(dec_outputs)\n",
        "    dec_model = Model(\n",
        "        inputs=[dec_inputs] + dec_states_inputs,\n",
        "        outputs=[dec_outputs] + dec_states)\n",
        "   \n",
        "    # single encoder input is a question, represented as a sequence \n",
        "    # of integers padded with zeros\n",
        "    enc_model = Model(inputs=enc_inputs, outputs=enc_states)\n",
        "   \n",
        "    return enc_model, dec_model\n",
        "\n",
        "enc_model, dec_model = make_inference_models()\n",
        "\n",
        "def str_to_tokens(sentence: str):\n",
        "\n",
        "    sentence = clean_text(sentence)\n",
        "    words = sentence.lower().split()\n",
        "    tokens_list = list()\n",
        "    for current_word in words:\n",
        "        result = tokenizer.word_index.get(current_word, '')\n",
        "        if result != \"\":\n",
        "            tokens_list.append(result)\n",
        "    return pad_sequences([tokens_list],\n",
        "                         maxlen = max_q_length,\n",
        "                         padding = \"post\")"
      ],
      "execution_count": null,
      "outputs": []
    },
    {
      "cell_type": "code",
      "metadata": {
        "id": "KIFUxqKBSGeN"
      },
      "source": [
        "# =============================================================================\n",
        "# chatting loop\n",
        "# =============================================================================\n",
        "\n",
        "\"\"\"for _ in range(2):\n",
        "    # encode the input sequence into state vectors\n",
        "    states_values = enc_model.predict(str_to_tokens(input(\"user : \")))\n",
        "    # start with a target sequence of size 1 - word 'start'   \n",
        "    empty_target_seq = np.zeros((1, 1))\n",
        "    empty_target_seq[0, 0] = tokenizer.word_index[\"<BOS>\"]\n",
        "    stop_condition = False\n",
        "    decoded_translation = \"\"\n",
        "    while not stop_condition:\n",
        "        # feed vectors and word for prediction\n",
        "        dec_outputs, h, c = dec_model.predict([empty_target_seq]\n",
        "                                              + states_values)         \n",
        "        # sample the next word using these predictions\n",
        "        sampled_word_index = np.argmax(dec_outputs[0, -1, :])\n",
        "        sampled_word = None\n",
        "        # append the sampled word to the target sequence\n",
        "        for word, index in tokenizer.word_index.items():\n",
        "            if sampled_word_index == index:\n",
        "                if word != \"<EOS>\":\n",
        "                    decoded_translation += \" {}\".format(word)\n",
        "                sampled_word = word\n",
        "        # repeat until <EOS> or lenght\n",
        "        if sampled_word == \"<EOS>\" \\\n",
        "                or len(decoded_translation.split()) \\\n",
        "                > max_a_length:\n",
        "            stop_condition = True\n",
        "        # prepare next iteration\n",
        "        empty_target_seq = np.zeros((1, 1))\n",
        "        empty_target_seq[0, 0] = sampled_word_index\n",
        "        states_values = [h, c]\n",
        "    print(\"chatbot: \" + decoded_translation)\"\"\""
      ],
      "execution_count": null,
      "outputs": []
    }
  ]
}