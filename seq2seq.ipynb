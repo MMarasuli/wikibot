{
  "nbformat": 4,
  "nbformat_minor": 0,
  "metadata": {
    "colab": {
      "name": "seq2seq.ipynb",
      "provenance": [],
      "collapsed_sections": [],
      "machine_shape": "hm",
      "include_colab_link": true
    },
    "kernelspec": {
      "name": "python3",
      "display_name": "Python 3"
    },
    "language_info": {
      "name": "python"
    },
    "accelerator": "GPU"
  },
  "cells": [
    {
      "cell_type": "markdown",
      "metadata": {
        "id": "view-in-github",
        "colab_type": "text"
      },
      "source": [
        "<a href=\"https://colab.research.google.com/github/tohpedo/wikibot/blob/seq2seq/seq2seq.ipynb\" target=\"_parent\"><img src=\"https://colab.research.google.com/assets/colab-badge.svg\" alt=\"Open In Colab\"/></a>"
      ]
    },
    {
      "cell_type": "code",
      "metadata": {
        "id": "PlqYTLFkLRBw",
        "colab": {
          "base_uri": "https://localhost:8080/"
        },
        "outputId": "e8d2cfd5-7a34-4b7c-d851-a35ec2c61217"
      },
      "source": [
        "from google.colab import drive\n",
        "drive.mount('/content/drive')"
      ],
      "execution_count": 1,
      "outputs": [
        {
          "output_type": "stream",
          "name": "stdout",
          "text": [
            "Mounted at /content/drive\n"
          ]
        }
      ]
    },
    {
      "cell_type": "code",
      "metadata": {
        "id": "dRXlwTfbROJq"
      },
      "source": [
        "# imports\n",
        "import pandas as pd\n",
        "import numpy as np\n",
        "import matplotlib.pyplot as plt\n",
        "import re"
      ],
      "execution_count": 2,
      "outputs": []
    },
    {
      "cell_type": "code",
      "metadata": {
        "id": "yM5bxWWTRXZE"
      },
      "source": [
        "# base\n",
        "\n",
        "base = pd.read_csv(\"/content/drive/MyDrive/Squad/database.csv\")[:6000]"
      ],
      "execution_count": 3,
      "outputs": []
    },
    {
      "cell_type": "code",
      "metadata": {
        "id": "a-EqgbgtRaX8"
      },
      "source": [
        "# define function to clean the text \n",
        "\n",
        "def clean_text(text):\n",
        "\n",
        "    text = text.lower()\n",
        "    text = re.sub(r\"\\n\", \"\",  text)\n",
        "    text = re.sub(r\"[-()]\", \"\", text)\n",
        "    text = re.sub(r\"\\.\", \" . \", text)\n",
        "    text = re.sub(r\"\\!\", \" ! \", text)\n",
        "    text = re.sub(r\"\\?\", \" ? \", text)\n",
        "    text = re.sub(r\"\\,\", \" , \", text)\n",
        "    text = re.sub(r\"\\\"\", \" \\\" \", text)\n",
        "    text = re.sub(r\"i'm\", \"i am\", text)\n",
        "    text = re.sub(r\"he's\", \"he is\", text)\n",
        "    text = re.sub(r\"she's\", \"she is\", text)\n",
        "    text = re.sub(r\"it's\", \"it is\", text)\n",
        "    text = re.sub(r\"that's\", \"that is\", text)\n",
        "    text = re.sub(r\"what's\", \"that is\", text)\n",
        "    text = re.sub(r\"where's\", \"where is\", text)\n",
        "    text = re.sub(r\"how's\", \"how is\", text)\n",
        "    text = re.sub(r\"\\'ll\", \" will\", text)\n",
        "    text = re.sub(r\"\\'ve\", \" have\", text)\n",
        "    text = re.sub(r\"\\'d\", \" would\", text)\n",
        "    text = re.sub(r\"\\'re\", \" are\", text)\n",
        "    text = re.sub(r\"won't\", \"will not\", text)\n",
        "    text = re.sub(r\"can't\", \"cannot\", text)\n",
        "    text = re.sub(r\"n't\", \" not\", text)\n",
        "    text = re.sub(r\"n'\", \"ng\", text)\n",
        "    text = re.sub(r\"'bout\", \"about\", text)\n",
        "    text = re.sub(r\"'til\", \"until\", text)\n",
        "    text = re.sub(r\"[-()\\\"#/@;:<>{}`+=~|.!?,]\", \"\", text)\n",
        "\n",
        "    \n",
        "    return text"
      ],
      "execution_count": 4,
      "outputs": []
    },
    {
      "cell_type": "markdown",
      "metadata": {
        "id": "FKL1zQbVvcIf"
      },
      "source": [
        "# **Base Processing**"
      ]
    },
    {
      "cell_type": "code",
      "metadata": {
        "id": "LFGQOiwqRd7v"
      },
      "source": [
        "# base processing \n",
        "\n",
        "base = base.dropna()\n",
        "\n",
        "# defining lenghts of q's and a's\n",
        "\n",
        "q_text = []\n",
        "\n",
        "for line in base.question:\n",
        "    q_text.append(clean_text(line))\n",
        "\n",
        "q_len = []\n",
        "for line in q_text:\n",
        "    q_len.append(len(line.split()))\n",
        "\n",
        "max_q_length = max(q_len)\n",
        "\n",
        "a_text = []\n",
        "for line in base.text:\n",
        "    a_text.append(clean_text(line))\n",
        "\n",
        "a_len = []\n",
        "for line in a_text:\n",
        "    a_len.append(len(line.split()))\n",
        "\n",
        "# plus two due to tokens\n",
        "max_a_length = max(a_len) + 2\n",
        "\n",
        "# adding tokens to answers\n",
        "for i in range(len(a_text)):\n",
        "    a_text[i]  = \"<BOS> \" + a_text[i] + \" <EOS>\"\n"
      ],
      "execution_count": 5,
      "outputs": []
    },
    {
      "cell_type": "code",
      "metadata": {
        "id": "R_OiNMKkRiup"
      },
      "source": [
        "# vocab and tokenizing\n",
        "# making vocab\n",
        "from tensorflow.keras.preprocessing.text import Tokenizer\n",
        "\n",
        "vocab_size = 10000\n",
        "tokenizer = Tokenizer(num_words = vocab_size, lower=False, filters=\"\")\n",
        "tokenizer.fit_on_texts(q_text + a_text)\n",
        "dictionary = tokenizer.word_index\n",
        "\n",
        "word2token = {}\n",
        "token2word = {}\n",
        "\n",
        "for k, v in dictionary.items():\n",
        "    if v < vocab_size:\n",
        "        word2token[k] = v\n",
        "        token2word[v] = k\n",
        "    else:\n",
        "        continue\n",
        "\n",
        "vocab_size = len(word2token) + 1\n",
        "\n",
        "# tokenizing sentences\n",
        "\n",
        "encoder_seq = tokenizer.texts_to_sequences(q_text)\n",
        "decoder_seq = tokenizer.texts_to_sequences(a_text)"
      ],
      "execution_count": 6,
      "outputs": []
    },
    {
      "cell_type": "code",
      "metadata": {
        "id": "fvxGxQUGRmdF"
      },
      "source": [
        "# padding\n",
        "from tensorflow.keras.preprocessing.sequence import pad_sequences\n",
        "from tensorflow.keras.utils import to_categorical\n",
        "\n",
        "encoder_input = pad_sequences(encoder_seq, \n",
        "                              maxlen = max_q_length,\n",
        "                              padding = \"post\",\n",
        "                              truncating= \"post\")\n",
        "\n",
        "decoder_input = pad_sequences(decoder_seq, \n",
        "                              maxlen = max_a_length,\n",
        "                              padding = \"post\",\n",
        "                              truncating= \"post\")\n"
      ],
      "execution_count": 7,
      "outputs": []
    },
    {
      "cell_type": "code",
      "metadata": {
        "id": "HU5yUpOBRoo7"
      },
      "source": [
        "# formating decoder output\n",
        "for i in range(len(decoder_seq)):\n",
        "    decoder_seq[i] =  decoder_seq[i][1:]\n",
        "    \n",
        "# pad with 0\n",
        "padded_answers = pad_sequences(decoder_seq,\n",
        "                               maxlen = max_a_length,\n",
        "                               padding = \"post\")\n"
      ],
      "execution_count": 8,
      "outputs": []
    },
    {
      "cell_type": "code",
      "metadata": {
        "id": "n6PIKSr_RsT5"
      },
      "source": [
        "#deleting non-necessary variables\n",
        "del(a_len, a_text, decoder_seq, dictionary, encoder_seq, i, k, line, q_len, q_text,  v)"
      ],
      "execution_count": 9,
      "outputs": []
    },
    {
      "cell_type": "code",
      "metadata": {
        "id": "vfMDH7nsr-QC"
      },
      "source": [
        "decoder_output = to_categorical(padded_answers, vocab_size)"
      ],
      "execution_count": 10,
      "outputs": []
    },
    {
      "cell_type": "code",
      "metadata": {
        "id": "OKX09iVGr_-4"
      },
      "source": [
        "#deleting non-necessary variables\n",
        "del(padded_answers)"
      ],
      "execution_count": 11,
      "outputs": []
    },
    {
      "cell_type": "markdown",
      "metadata": {
        "id": "VAassb7wvjtL"
      },
      "source": [
        "# **Model**"
      ]
    },
    {
      "cell_type": "code",
      "metadata": {
        "id": "XKjf68qTTRC9"
      },
      "source": [
        "#defining functions to custom metrics\n",
        "\n",
        "from keras import backend as K\n",
        "\n",
        "def recall_m(y_true, y_pred):\n",
        "    true_positives = K.sum(K.round(K.clip(y_true * y_pred, 0, 1)))\n",
        "    possible_positives = K.sum(K.round(K.clip(y_true, 0, 1)))\n",
        "    recall = true_positives / (possible_positives + K.epsilon())\n",
        "    return recall\n",
        "\n",
        "def precision_m(y_true, y_pred):\n",
        "    true_positives = K.sum(K.round(K.clip(y_true * y_pred, 0, 1)))\n",
        "    predicted_positives = K.sum(K.round(K.clip(y_pred, 0, 1)))\n",
        "    precision = true_positives / (predicted_positives + K.epsilon())\n",
        "    return precision\n",
        "\n",
        "def f1_m(y_true, y_pred):\n",
        "    precision = precision_m(y_true, y_pred)\n",
        "    recall = recall_m(y_true, y_pred)\n",
        "    return 2*((precision*recall)/(precision+recall+K.epsilon()))"
      ],
      "execution_count": 12,
      "outputs": []
    },
    {
      "cell_type": "code",
      "metadata": {
        "id": "_Psn8tS7UVc2"
      },
      "source": [
        "# train test splitting\n",
        "\n",
        "from sklearn.model_selection import train_test_split\n",
        "\n",
        "encoder_input_train, encoder_input_test, decoder_input_train, decoder_input_test, decoder_output_train, decoder_output_test = train_test_split(encoder_input,\n",
        "                                                                                                                                               decoder_input,\n",
        "                                                                                                                                               decoder_output)\n",
        "\n",
        "del(encoder_input,decoder_input, decoder_output)"
      ],
      "execution_count": 13,
      "outputs": []
    },
    {
      "cell_type": "code",
      "metadata": {
        "id": "TcQu8WEZRu7E",
        "colab": {
          "base_uri": "https://localhost:8080/"
        },
        "outputId": "2b31b8ca-c58f-4a8d-cdc3-c92a1356f6d0"
      },
      "source": [
        "# =============================================================================\n",
        "# Model\n",
        "# =============================================================================\n",
        "from tensorflow.keras.models import Model\n",
        "from tensorflow.keras.layers import Dense, Embedding, LSTM, Input\n",
        "from tensorflow.keras import optimizers\n",
        "\n",
        "# encoder will be used to capture space-dependent relations between words from the questions\n",
        "# about 200 neurons needed \n",
        "\n",
        "emedding_size = 512\n",
        "enc_inputs = Input(shape=(None,))\n",
        "enc_embeding = Embedding(vocab_size, emedding_size, mask_zero=True)\n",
        "enc_embeding = enc_embeding(enc_inputs)\n",
        "enc_lstm = LSTM(emedding_size,  return_state=True)\n",
        "enc_outputs, h, c = enc_lstm(enc_embeding)\n",
        "enc_states = [h, c]\n",
        "\n",
        "# decoder will be used to capture space-dependent relations between words from the answers using encoder's internal state as a context\n",
        "\n",
        "dec_inputs = Input(shape=(None,))\n",
        "dec_embedding = Embedding(vocab_size, emedding_size, mask_zero=True)\n",
        "dec_embedding = dec_embedding(dec_inputs)\n",
        "dec_lstm = LSTM(emedding_size, return_state=True, return_sequences=True)\n",
        "dec_outputs, _, _ = dec_lstm(dec_embedding, initial_state = enc_states)\n",
        "\n",
        "# decoder is connected to the output Dense layer\n",
        "dec_dense = Dense(vocab_size, activation = \"softmax\")\n",
        "output = dec_dense(dec_outputs)\n",
        "\n",
        "model = Model([enc_inputs, dec_inputs], output)\n",
        "lr = 0.001\n",
        "# output of this network will look like this:\n",
        "# y_true = [0.05, 0.95, 0...]\n",
        "# and expected one-hot encoded output like this:\n",
        "# y_pred = [0, 1, 0...]\n",
        "model.compile(optimizer = optimizers.Adam(learning_rate = lr), loss = \"categorical_crossentropy\", metrics = [\"acc\", f1_m, precision_m, recall_m])\n",
        "model.summary()\n"
      ],
      "execution_count": 14,
      "outputs": [
        {
          "output_type": "stream",
          "name": "stdout",
          "text": [
            "Model: \"model\"\n",
            "__________________________________________________________________________________________________\n",
            " Layer (type)                   Output Shape         Param #     Connected to                     \n",
            "==================================================================================================\n",
            " input_1 (InputLayer)           [(None, None)]       0           []                               \n",
            "                                                                                                  \n",
            " input_2 (InputLayer)           [(None, None)]       0           []                               \n",
            "                                                                                                  \n",
            " embedding (Embedding)          (None, None, 512)    4481024     ['input_1[0][0]']                \n",
            "                                                                                                  \n",
            " embedding_1 (Embedding)        (None, None, 512)    4481024     ['input_2[0][0]']                \n",
            "                                                                                                  \n",
            " lstm (LSTM)                    [(None, 512),        2099200     ['embedding[0][0]']              \n",
            "                                 (None, 512),                                                     \n",
            "                                 (None, 512)]                                                     \n",
            "                                                                                                  \n",
            " lstm_1 (LSTM)                  [(None, None, 512),  2099200     ['embedding_1[0][0]',            \n",
            "                                 (None, 512),                     'lstm[0][1]',                   \n",
            "                                 (None, 512)]                     'lstm[0][2]']                   \n",
            "                                                                                                  \n",
            " dense (Dense)                  (None, None, 8752)   4489776     ['lstm_1[0][0]']                 \n",
            "                                                                                                  \n",
            "==================================================================================================\n",
            "Total params: 17,650,224\n",
            "Trainable params: 17,650,224\n",
            "Non-trainable params: 0\n",
            "__________________________________________________________________________________________________\n"
          ]
        }
      ]
    },
    {
      "cell_type": "markdown",
      "metadata": {
        "id": "MhE4MesvvT5Z"
      },
      "source": [
        "# **Training**"
      ]
    },
    {
      "cell_type": "code",
      "metadata": {
        "id": "1-sj-ub6vBK4",
        "colab": {
          "base_uri": "https://localhost:8080/"
        },
        "outputId": "709bda72-b36d-458f-9299-0c357dff628c"
      },
      "source": [
        "!pip install pyyaml h5py  # Required to save models in HDF5 format"
      ],
      "execution_count": 15,
      "outputs": [
        {
          "output_type": "stream",
          "name": "stdout",
          "text": [
            "Requirement already satisfied: pyyaml in /usr/local/lib/python3.7/dist-packages (3.13)\n",
            "Requirement already satisfied: h5py in /usr/local/lib/python3.7/dist-packages (3.1.0)\n",
            "Requirement already satisfied: cached-property in /usr/local/lib/python3.7/dist-packages (from h5py) (1.5.2)\n",
            "Requirement already satisfied: numpy>=1.14.5 in /usr/local/lib/python3.7/dist-packages (from h5py) (1.19.5)\n"
          ]
        }
      ]
    },
    {
      "cell_type": "code",
      "metadata": {
        "id": "FkIMbTllucYP"
      },
      "source": [
        "# creating checkpoints\n",
        "import os\n",
        "import tensorflow as tf\n",
        "\n",
        "checkpoint_path = \"/content/drive/MyDrive/Squad/training_6/cp.ckpt\"\n",
        "checkpoint_dir = os.path.dirname(checkpoint_path)\n",
        "\n",
        "# Create a callback that saves the model's weights\n",
        "cp_callback = tf.keras.callbacks.ModelCheckpoint(filepath=checkpoint_path,\n",
        "                                                 save_weights_only=True,\n",
        "                                                 verbose=1)\n",
        "\n",
        "# This may generate warnings related to saving the state of the optimizer.\n",
        "# These warnings (and similar warnings throughout this notebook)\n",
        "# are in place to discourage outdated usage, and can be ignored."
      ],
      "execution_count": 16,
      "outputs": []
    },
    {
      "cell_type": "markdown",
      "metadata": {
        "id": "cr91muWIwxJg"
      },
      "source": [
        "# **The Actual Bot part**"
      ]
    },
    {
      "cell_type": "markdown",
      "metadata": {
        "id": "T5BOqbbGgP0Y"
      },
      "source": [
        "use only while training"
      ]
    },
    {
      "cell_type": "code",
      "metadata": {
        "id": "rh-MxfRNu8YI",
        "colab": {
          "base_uri": "https://localhost:8080/"
        },
        "outputId": "9712c61b-afc9-4bdb-d799-ccaac048667b"
      },
      "source": [
        "# fitting the model\n",
        "history = model.fit([encoder_input_train, decoder_input_train],\n",
        "          decoder_output_train,\n",
        "          validation_split = 0.2,\n",
        "          batch_size = 32,\n",
        "          epochs = 40,\n",
        "          callbacks = [cp_callback])"
      ],
      "execution_count": 17,
      "outputs": [
        {
          "output_type": "stream",
          "name": "stdout",
          "text": [
            "Epoch 1/40\n",
            "106/106 [==============================] - ETA: 0s - loss: 0.5643 - acc: 0.4027 - f1_m: 0.0302 - precision_m: 0.6709 - recall_m: 0.0155\n",
            "Epoch 00001: saving model to /content/drive/MyDrive/Squad/training_6/cp.ckpt\n",
            "106/106 [==============================] - 24s 118ms/step - loss: 0.5643 - acc: 0.4027 - f1_m: 0.0302 - precision_m: 0.6709 - recall_m: 0.0155 - val_loss: 0.4809 - val_acc: 0.4587 - val_f1_m: 0.0685 - val_precision_m: 0.8403 - val_recall_m: 0.0357\n",
            "Epoch 2/40\n",
            "106/106 [==============================] - ETA: 0s - loss: 0.4382 - acc: 0.4594 - f1_m: 0.0713 - precision_m: 0.8858 - recall_m: 0.0372\n",
            "Epoch 00002: saving model to /content/drive/MyDrive/Squad/training_6/cp.ckpt\n",
            "106/106 [==============================] - 10s 92ms/step - loss: 0.4382 - acc: 0.4594 - f1_m: 0.0713 - precision_m: 0.8858 - recall_m: 0.0372 - val_loss: 0.4818 - val_acc: 0.4601 - val_f1_m: 0.0730 - val_precision_m: 0.8539 - val_recall_m: 0.0381\n",
            "Epoch 3/40\n",
            "106/106 [==============================] - ETA: 0s - loss: 0.4109 - acc: 0.4636 - f1_m: 0.0790 - precision_m: 0.9046 - recall_m: 0.0413\n",
            "Epoch 00003: saving model to /content/drive/MyDrive/Squad/training_6/cp.ckpt\n",
            "106/106 [==============================] - 9s 86ms/step - loss: 0.4109 - acc: 0.4636 - f1_m: 0.0790 - precision_m: 0.9046 - recall_m: 0.0413 - val_loss: 0.4874 - val_acc: 0.4646 - val_f1_m: 0.0686 - val_precision_m: 0.8949 - val_recall_m: 0.0357\n",
            "Epoch 4/40\n",
            "106/106 [==============================] - ETA: 0s - loss: 0.3975 - acc: 0.4661 - f1_m: 0.0794 - precision_m: 0.9263 - recall_m: 0.0415\n",
            "Epoch 00004: saving model to /content/drive/MyDrive/Squad/training_6/cp.ckpt\n",
            "106/106 [==============================] - 9s 86ms/step - loss: 0.3975 - acc: 0.4661 - f1_m: 0.0794 - precision_m: 0.9263 - recall_m: 0.0415 - val_loss: 0.4906 - val_acc: 0.4619 - val_f1_m: 0.0704 - val_precision_m: 0.8841 - val_recall_m: 0.0366\n",
            "Epoch 5/40\n",
            "106/106 [==============================] - ETA: 0s - loss: 0.3790 - acc: 0.4727 - f1_m: 0.0798 - precision_m: 0.9412 - recall_m: 0.0417\n",
            "Epoch 00005: saving model to /content/drive/MyDrive/Squad/training_6/cp.ckpt\n",
            "106/106 [==============================] - 10s 92ms/step - loss: 0.3790 - acc: 0.4727 - f1_m: 0.0798 - precision_m: 0.9412 - recall_m: 0.0417 - val_loss: 0.4969 - val_acc: 0.4579 - val_f1_m: 0.0700 - val_precision_m: 0.8891 - val_recall_m: 0.0364\n",
            "Epoch 6/40\n",
            "106/106 [==============================] - ETA: 0s - loss: 0.3591 - acc: 0.4805 - f1_m: 0.0808 - precision_m: 0.9437 - recall_m: 0.0422\n",
            "Epoch 00006: saving model to /content/drive/MyDrive/Squad/training_6/cp.ckpt\n",
            "106/106 [==============================] - 9s 87ms/step - loss: 0.3591 - acc: 0.4805 - f1_m: 0.0808 - precision_m: 0.9437 - recall_m: 0.0422 - val_loss: 0.5030 - val_acc: 0.4548 - val_f1_m: 0.0686 - val_precision_m: 0.8943 - val_recall_m: 0.0357\n",
            "Epoch 7/40\n",
            "106/106 [==============================] - ETA: 0s - loss: 0.3427 - acc: 0.4875 - f1_m: 0.0818 - precision_m: 0.9488 - recall_m: 0.0427\n",
            "Epoch 00007: saving model to /content/drive/MyDrive/Squad/training_6/cp.ckpt\n",
            "106/106 [==============================] - 10s 93ms/step - loss: 0.3427 - acc: 0.4875 - f1_m: 0.0818 - precision_m: 0.9488 - recall_m: 0.0427 - val_loss: 0.5106 - val_acc: 0.4606 - val_f1_m: 0.0716 - val_precision_m: 0.8671 - val_recall_m: 0.0374\n",
            "Epoch 8/40\n",
            "106/106 [==============================] - ETA: 0s - loss: 0.3271 - acc: 0.4939 - f1_m: 0.0835 - precision_m: 0.9490 - recall_m: 0.0437\n",
            "Epoch 00008: saving model to /content/drive/MyDrive/Squad/training_6/cp.ckpt\n",
            "106/106 [==============================] - 9s 85ms/step - loss: 0.3271 - acc: 0.4939 - f1_m: 0.0835 - precision_m: 0.9490 - recall_m: 0.0437 - val_loss: 0.5173 - val_acc: 0.4595 - val_f1_m: 0.0713 - val_precision_m: 0.8656 - val_recall_m: 0.0372\n",
            "Epoch 9/40\n",
            "106/106 [==============================] - ETA: 0s - loss: 0.3143 - acc: 0.5019 - f1_m: 0.0848 - precision_m: 0.9531 - recall_m: 0.0444\n",
            "Epoch 00009: saving model to /content/drive/MyDrive/Squad/training_6/cp.ckpt\n",
            "106/106 [==============================] - 9s 86ms/step - loss: 0.3143 - acc: 0.5019 - f1_m: 0.0848 - precision_m: 0.9531 - recall_m: 0.0444 - val_loss: 0.5223 - val_acc: 0.4593 - val_f1_m: 0.0714 - val_precision_m: 0.8697 - val_recall_m: 0.0372\n",
            "Epoch 10/40\n",
            "106/106 [==============================] - ETA: 0s - loss: 0.2984 - acc: 0.5116 - f1_m: 0.0861 - precision_m: 0.9575 - recall_m: 0.0451\n",
            "Epoch 00010: saving model to /content/drive/MyDrive/Squad/training_6/cp.ckpt\n",
            "106/106 [==============================] - 10s 93ms/step - loss: 0.2984 - acc: 0.5116 - f1_m: 0.0861 - precision_m: 0.9575 - recall_m: 0.0451 - val_loss: 0.5304 - val_acc: 0.4582 - val_f1_m: 0.0699 - val_precision_m: 0.8721 - val_recall_m: 0.0364\n",
            "Epoch 11/40\n",
            "106/106 [==============================] - ETA: 0s - loss: 0.2845 - acc: 0.5226 - f1_m: 0.0872 - precision_m: 0.9616 - recall_m: 0.0457\n",
            "Epoch 00011: saving model to /content/drive/MyDrive/Squad/training_6/cp.ckpt\n",
            "106/106 [==============================] - 9s 85ms/step - loss: 0.2845 - acc: 0.5226 - f1_m: 0.0872 - precision_m: 0.9616 - recall_m: 0.0457 - val_loss: 0.5352 - val_acc: 0.4630 - val_f1_m: 0.0710 - val_precision_m: 0.8680 - val_recall_m: 0.0370\n",
            "Epoch 12/40\n",
            "106/106 [==============================] - ETA: 0s - loss: 0.2712 - acc: 0.5360 - f1_m: 0.0880 - precision_m: 0.9611 - recall_m: 0.0461\n",
            "Epoch 00012: saving model to /content/drive/MyDrive/Squad/training_6/cp.ckpt\n",
            "106/106 [==============================] - 9s 85ms/step - loss: 0.2712 - acc: 0.5360 - f1_m: 0.0880 - precision_m: 0.9611 - recall_m: 0.0461 - val_loss: 0.5425 - val_acc: 0.4614 - val_f1_m: 0.0708 - val_precision_m: 0.8642 - val_recall_m: 0.0369\n",
            "Epoch 13/40\n",
            "106/106 [==============================] - ETA: 0s - loss: 0.2564 - acc: 0.5544 - f1_m: 0.0891 - precision_m: 0.9650 - recall_m: 0.0467\n",
            "Epoch 00013: saving model to /content/drive/MyDrive/Squad/training_6/cp.ckpt\n",
            "106/106 [==============================] - 9s 86ms/step - loss: 0.2564 - acc: 0.5544 - f1_m: 0.0891 - precision_m: 0.9650 - recall_m: 0.0467 - val_loss: 0.5461 - val_acc: 0.4646 - val_f1_m: 0.0744 - val_precision_m: 0.8568 - val_recall_m: 0.0389\n",
            "Epoch 14/40\n",
            "106/106 [==============================] - ETA: 0s - loss: 0.2422 - acc: 0.5743 - f1_m: 0.0902 - precision_m: 0.9672 - recall_m: 0.0473\n",
            "Epoch 00014: saving model to /content/drive/MyDrive/Squad/training_6/cp.ckpt\n",
            "106/106 [==============================] - 9s 85ms/step - loss: 0.2422 - acc: 0.5743 - f1_m: 0.0902 - precision_m: 0.9672 - recall_m: 0.0473 - val_loss: 0.5513 - val_acc: 0.4680 - val_f1_m: 0.0731 - val_precision_m: 0.8633 - val_recall_m: 0.0382\n",
            "Epoch 15/40\n",
            "106/106 [==============================] - ETA: 0s - loss: 0.2288 - acc: 0.6011 - f1_m: 0.0919 - precision_m: 0.9698 - recall_m: 0.0483\n",
            "Epoch 00015: saving model to /content/drive/MyDrive/Squad/training_6/cp.ckpt\n",
            "106/106 [==============================] - 10s 92ms/step - loss: 0.2288 - acc: 0.6011 - f1_m: 0.0919 - precision_m: 0.9698 - recall_m: 0.0483 - val_loss: 0.5614 - val_acc: 0.4683 - val_f1_m: 0.0737 - val_precision_m: 0.8522 - val_recall_m: 0.0385\n",
            "Epoch 16/40\n",
            "106/106 [==============================] - ETA: 0s - loss: 0.2167 - acc: 0.6203 - f1_m: 0.0940 - precision_m: 0.9695 - recall_m: 0.0494\n",
            "Epoch 00016: saving model to /content/drive/MyDrive/Squad/training_6/cp.ckpt\n",
            "106/106 [==============================] - 9s 85ms/step - loss: 0.2167 - acc: 0.6203 - f1_m: 0.0940 - precision_m: 0.9695 - recall_m: 0.0494 - val_loss: 0.5650 - val_acc: 0.4651 - val_f1_m: 0.0722 - val_precision_m: 0.8661 - val_recall_m: 0.0377\n",
            "Epoch 17/40\n",
            "106/106 [==============================] - ETA: 0s - loss: 0.2041 - acc: 0.6455 - f1_m: 0.0969 - precision_m: 0.9743 - recall_m: 0.0510\n",
            "Epoch 00017: saving model to /content/drive/MyDrive/Squad/training_6/cp.ckpt\n",
            "106/106 [==============================] - 9s 86ms/step - loss: 0.2041 - acc: 0.6455 - f1_m: 0.0969 - precision_m: 0.9743 - recall_m: 0.0510 - val_loss: 0.5697 - val_acc: 0.4685 - val_f1_m: 0.0740 - val_precision_m: 0.8540 - val_recall_m: 0.0387\n",
            "Epoch 18/40\n",
            "106/106 [==============================] - ETA: 0s - loss: 0.1927 - acc: 0.6655 - f1_m: 0.1009 - precision_m: 0.9763 - recall_m: 0.0532\n",
            "Epoch 00018: saving model to /content/drive/MyDrive/Squad/training_6/cp.ckpt\n",
            "106/106 [==============================] - 10s 92ms/step - loss: 0.1927 - acc: 0.6655 - f1_m: 0.1009 - precision_m: 0.9763 - recall_m: 0.0532 - val_loss: 0.5744 - val_acc: 0.4651 - val_f1_m: 0.0726 - val_precision_m: 0.8475 - val_recall_m: 0.0379\n",
            "Epoch 19/40\n",
            "106/106 [==============================] - ETA: 0s - loss: 0.1816 - acc: 0.6883 - f1_m: 0.1048 - precision_m: 0.9780 - recall_m: 0.0554\n",
            "Epoch 00019: saving model to /content/drive/MyDrive/Squad/training_6/cp.ckpt\n",
            "106/106 [==============================] - 9s 86ms/step - loss: 0.1816 - acc: 0.6883 - f1_m: 0.1048 - precision_m: 0.9780 - recall_m: 0.0554 - val_loss: 0.5805 - val_acc: 0.4675 - val_f1_m: 0.0746 - val_precision_m: 0.8436 - val_recall_m: 0.0390\n",
            "Epoch 20/40\n",
            "106/106 [==============================] - ETA: 0s - loss: 0.1716 - acc: 0.7080 - f1_m: 0.1093 - precision_m: 0.9789 - recall_m: 0.0579\n",
            "Epoch 00020: saving model to /content/drive/MyDrive/Squad/training_6/cp.ckpt\n",
            "106/106 [==============================] - 10s 92ms/step - loss: 0.1716 - acc: 0.7080 - f1_m: 0.1093 - precision_m: 0.9789 - recall_m: 0.0579 - val_loss: 0.5832 - val_acc: 0.4704 - val_f1_m: 0.0758 - val_precision_m: 0.8319 - val_recall_m: 0.0397\n",
            "Epoch 21/40\n",
            "106/106 [==============================] - ETA: 0s - loss: 0.1611 - acc: 0.7273 - f1_m: 0.1140 - precision_m: 0.9807 - recall_m: 0.0605\n",
            "Epoch 00021: saving model to /content/drive/MyDrive/Squad/training_6/cp.ckpt\n",
            "106/106 [==============================] - 9s 85ms/step - loss: 0.1611 - acc: 0.7273 - f1_m: 0.1140 - precision_m: 0.9807 - recall_m: 0.0605 - val_loss: 0.5863 - val_acc: 0.4696 - val_f1_m: 0.0759 - val_precision_m: 0.8379 - val_recall_m: 0.0397\n",
            "Epoch 22/40\n",
            "106/106 [==============================] - ETA: 0s - loss: 0.1513 - acc: 0.7440 - f1_m: 0.1176 - precision_m: 0.9822 - recall_m: 0.0626\n",
            "Epoch 00022: saving model to /content/drive/MyDrive/Squad/training_6/cp.ckpt\n",
            "106/106 [==============================] - 9s 85ms/step - loss: 0.1513 - acc: 0.7440 - f1_m: 0.1176 - precision_m: 0.9822 - recall_m: 0.0626 - val_loss: 0.5902 - val_acc: 0.4698 - val_f1_m: 0.0778 - val_precision_m: 0.8238 - val_recall_m: 0.0408\n",
            "Epoch 23/40\n",
            "106/106 [==============================] - ETA: 0s - loss: 0.1416 - acc: 0.7634 - f1_m: 0.1210 - precision_m: 0.9827 - recall_m: 0.0645\n",
            "Epoch 00023: saving model to /content/drive/MyDrive/Squad/training_6/cp.ckpt\n",
            "106/106 [==============================] - 10s 93ms/step - loss: 0.1416 - acc: 0.7634 - f1_m: 0.1210 - precision_m: 0.9827 - recall_m: 0.0645 - val_loss: 0.5954 - val_acc: 0.4725 - val_f1_m: 0.0779 - val_precision_m: 0.8116 - val_recall_m: 0.0409\n",
            "Epoch 24/40\n",
            "106/106 [==============================] - ETA: 0s - loss: 0.1321 - acc: 0.7784 - f1_m: 0.1249 - precision_m: 0.9855 - recall_m: 0.0667\n",
            "Epoch 00024: saving model to /content/drive/MyDrive/Squad/training_6/cp.ckpt\n",
            "106/106 [==============================] - 9s 85ms/step - loss: 0.1321 - acc: 0.7784 - f1_m: 0.1249 - precision_m: 0.9855 - recall_m: 0.0667 - val_loss: 0.6002 - val_acc: 0.4677 - val_f1_m: 0.0779 - val_precision_m: 0.8120 - val_recall_m: 0.0409\n",
            "Epoch 25/40\n",
            "106/106 [==============================] - ETA: 0s - loss: 0.1233 - acc: 0.7929 - f1_m: 0.1285 - precision_m: 0.9862 - recall_m: 0.0688\n",
            "Epoch 00025: saving model to /content/drive/MyDrive/Squad/training_6/cp.ckpt\n",
            "106/106 [==============================] - 9s 86ms/step - loss: 0.1233 - acc: 0.7929 - f1_m: 0.1285 - precision_m: 0.9862 - recall_m: 0.0688 - val_loss: 0.6045 - val_acc: 0.4669 - val_f1_m: 0.0783 - val_precision_m: 0.8130 - val_recall_m: 0.0412\n",
            "Epoch 26/40\n",
            "106/106 [==============================] - ETA: 0s - loss: 0.1151 - acc: 0.8045 - f1_m: 0.1312 - precision_m: 0.9866 - recall_m: 0.0703\n",
            "Epoch 00026: saving model to /content/drive/MyDrive/Squad/training_6/cp.ckpt\n",
            "106/106 [==============================] - 10s 93ms/step - loss: 0.1151 - acc: 0.8045 - f1_m: 0.1312 - precision_m: 0.9866 - recall_m: 0.0703 - val_loss: 0.6109 - val_acc: 0.4706 - val_f1_m: 0.0803 - val_precision_m: 0.8019 - val_recall_m: 0.0423\n",
            "Epoch 27/40\n",
            "106/106 [==============================] - ETA: 0s - loss: 0.1045 - acc: 0.8165 - f1_m: 0.1348 - precision_m: 0.9882 - recall_m: 0.0724\n",
            "Epoch 00027: saving model to /content/drive/MyDrive/Squad/training_6/cp.ckpt\n",
            "106/106 [==============================] - 9s 85ms/step - loss: 0.1045 - acc: 0.8165 - f1_m: 0.1348 - precision_m: 0.9882 - recall_m: 0.0724 - val_loss: 0.6155 - val_acc: 0.4720 - val_f1_m: 0.0797 - val_precision_m: 0.7938 - val_recall_m: 0.0420\n",
            "Epoch 28/40\n",
            "106/106 [==============================] - ETA: 0s - loss: 0.0941 - acc: 0.8322 - f1_m: 0.1383 - precision_m: 0.9900 - recall_m: 0.0744\n",
            "Epoch 00028: saving model to /content/drive/MyDrive/Squad/training_6/cp.ckpt\n",
            "106/106 [==============================] - 10s 93ms/step - loss: 0.0941 - acc: 0.8322 - f1_m: 0.1383 - precision_m: 0.9900 - recall_m: 0.0744 - val_loss: 0.6215 - val_acc: 0.4688 - val_f1_m: 0.0798 - val_precision_m: 0.7838 - val_recall_m: 0.0421\n",
            "Epoch 29/40\n",
            "106/106 [==============================] - ETA: 0s - loss: 0.0838 - acc: 0.8467 - f1_m: 0.1424 - precision_m: 0.9888 - recall_m: 0.0768\n",
            "Epoch 00029: saving model to /content/drive/MyDrive/Squad/training_6/cp.ckpt\n",
            "106/106 [==============================] - 9s 86ms/step - loss: 0.0838 - acc: 0.8467 - f1_m: 0.1424 - precision_m: 0.9888 - recall_m: 0.0768 - val_loss: 0.6263 - val_acc: 0.4664 - val_f1_m: 0.0802 - val_precision_m: 0.7878 - val_recall_m: 0.0422\n",
            "Epoch 30/40\n",
            "106/106 [==============================] - ETA: 0s - loss: 0.0740 - acc: 0.8656 - f1_m: 0.1458 - precision_m: 0.9924 - recall_m: 0.0788\n",
            "Epoch 00030: saving model to /content/drive/MyDrive/Squad/training_6/cp.ckpt\n",
            "106/106 [==============================] - 9s 86ms/step - loss: 0.0740 - acc: 0.8656 - f1_m: 0.1458 - precision_m: 0.9924 - recall_m: 0.0788 - val_loss: 0.6340 - val_acc: 0.4653 - val_f1_m: 0.0807 - val_precision_m: 0.7737 - val_recall_m: 0.0426\n",
            "Epoch 31/40\n",
            "106/106 [==============================] - ETA: 0s - loss: 0.0646 - acc: 0.8854 - f1_m: 0.1489 - precision_m: 0.9930 - recall_m: 0.0806\n",
            "Epoch 00031: saving model to /content/drive/MyDrive/Squad/training_6/cp.ckpt\n",
            "106/106 [==============================] - 10s 93ms/step - loss: 0.0646 - acc: 0.8854 - f1_m: 0.1489 - precision_m: 0.9930 - recall_m: 0.0806 - val_loss: 0.6376 - val_acc: 0.4656 - val_f1_m: 0.0816 - val_precision_m: 0.7716 - val_recall_m: 0.0431\n",
            "Epoch 32/40\n",
            "106/106 [==============================] - ETA: 0s - loss: 0.0556 - acc: 0.9066 - f1_m: 0.1516 - precision_m: 0.9934 - recall_m: 0.0821\n",
            "Epoch 00032: saving model to /content/drive/MyDrive/Squad/training_6/cp.ckpt\n",
            "106/106 [==============================] - 9s 86ms/step - loss: 0.0556 - acc: 0.9066 - f1_m: 0.1516 - precision_m: 0.9934 - recall_m: 0.0821 - val_loss: 0.6443 - val_acc: 0.4630 - val_f1_m: 0.0807 - val_precision_m: 0.7558 - val_recall_m: 0.0427\n",
            "Epoch 33/40\n",
            "106/106 [==============================] - ETA: 0s - loss: 0.0469 - acc: 0.9246 - f1_m: 0.1546 - precision_m: 0.9948 - recall_m: 0.0839\n",
            "Epoch 00033: saving model to /content/drive/MyDrive/Squad/training_6/cp.ckpt\n",
            "106/106 [==============================] - 9s 88ms/step - loss: 0.0469 - acc: 0.9246 - f1_m: 0.1546 - precision_m: 0.9948 - recall_m: 0.0839 - val_loss: 0.6468 - val_acc: 0.4601 - val_f1_m: 0.0808 - val_precision_m: 0.7629 - val_recall_m: 0.0427\n",
            "Epoch 34/40\n",
            "106/106 [==============================] - ETA: 0s - loss: 0.0389 - acc: 0.9438 - f1_m: 0.1577 - precision_m: 0.9959 - recall_m: 0.0857\n",
            "Epoch 00034: saving model to /content/drive/MyDrive/Squad/training_6/cp.ckpt\n",
            "106/106 [==============================] - 9s 87ms/step - loss: 0.0389 - acc: 0.9438 - f1_m: 0.1577 - precision_m: 0.9959 - recall_m: 0.0857 - val_loss: 0.6538 - val_acc: 0.4669 - val_f1_m: 0.0818 - val_precision_m: 0.7505 - val_recall_m: 0.0433\n",
            "Epoch 35/40\n",
            "106/106 [==============================] - ETA: 0s - loss: 0.0318 - acc: 0.9593 - f1_m: 0.1614 - precision_m: 0.9961 - recall_m: 0.0879\n",
            "Epoch 00035: saving model to /content/drive/MyDrive/Squad/training_6/cp.ckpt\n",
            "106/106 [==============================] - 9s 86ms/step - loss: 0.0318 - acc: 0.9593 - f1_m: 0.1614 - precision_m: 0.9961 - recall_m: 0.0879 - val_loss: 0.6579 - val_acc: 0.4595 - val_f1_m: 0.0811 - val_precision_m: 0.7509 - val_recall_m: 0.0429\n",
            "Epoch 36/40\n",
            "106/106 [==============================] - ETA: 0s - loss: 0.0254 - acc: 0.9706 - f1_m: 0.1650 - precision_m: 0.9974 - recall_m: 0.0900\n",
            "Epoch 00036: saving model to /content/drive/MyDrive/Squad/training_6/cp.ckpt\n",
            "106/106 [==============================] - 10s 93ms/step - loss: 0.0254 - acc: 0.9706 - f1_m: 0.1650 - precision_m: 0.9974 - recall_m: 0.0900 - val_loss: 0.6625 - val_acc: 0.4659 - val_f1_m: 0.0814 - val_precision_m: 0.7379 - val_recall_m: 0.0431\n",
            "Epoch 37/40\n",
            "106/106 [==============================] - ETA: 0s - loss: 0.0201 - acc: 0.9799 - f1_m: 0.1687 - precision_m: 0.9974 - recall_m: 0.0922\n",
            "Epoch 00037: saving model to /content/drive/MyDrive/Squad/training_6/cp.ckpt\n",
            "106/106 [==============================] - 9s 85ms/step - loss: 0.0201 - acc: 0.9799 - f1_m: 0.1687 - precision_m: 0.9974 - recall_m: 0.0922 - val_loss: 0.6674 - val_acc: 0.4632 - val_f1_m: 0.0817 - val_precision_m: 0.7309 - val_recall_m: 0.0433\n",
            "Epoch 38/40\n",
            "106/106 [==============================] - ETA: 0s - loss: 0.0158 - acc: 0.9867 - f1_m: 0.1725 - precision_m: 0.9976 - recall_m: 0.0945\n",
            "Epoch 00038: saving model to /content/drive/MyDrive/Squad/training_6/cp.ckpt\n",
            "106/106 [==============================] - 9s 85ms/step - loss: 0.0158 - acc: 0.9867 - f1_m: 0.1725 - precision_m: 0.9976 - recall_m: 0.0945 - val_loss: 0.6711 - val_acc: 0.4582 - val_f1_m: 0.0812 - val_precision_m: 0.7385 - val_recall_m: 0.0430\n",
            "Epoch 39/40\n",
            "106/106 [==============================] - ETA: 0s - loss: 0.0124 - acc: 0.9913 - f1_m: 0.1755 - precision_m: 0.9979 - recall_m: 0.0963\n",
            "Epoch 00039: saving model to /content/drive/MyDrive/Squad/training_6/cp.ckpt\n",
            "106/106 [==============================] - 10s 93ms/step - loss: 0.0124 - acc: 0.9913 - f1_m: 0.1755 - precision_m: 0.9979 - recall_m: 0.0963 - val_loss: 0.6771 - val_acc: 0.4638 - val_f1_m: 0.0819 - val_precision_m: 0.7243 - val_recall_m: 0.0434\n",
            "Epoch 40/40\n",
            "106/106 [==============================] - ETA: 0s - loss: 0.0098 - acc: 0.9940 - f1_m: 0.1777 - precision_m: 0.9980 - recall_m: 0.0976\n",
            "Epoch 00040: saving model to /content/drive/MyDrive/Squad/training_6/cp.ckpt\n",
            "106/106 [==============================] - 9s 85ms/step - loss: 0.0098 - acc: 0.9940 - f1_m: 0.1777 - precision_m: 0.9980 - recall_m: 0.0976 - val_loss: 0.6799 - val_acc: 0.4582 - val_f1_m: 0.0812 - val_precision_m: 0.7245 - val_recall_m: 0.0430\n"
          ]
        }
      ]
    },
    {
      "cell_type": "code",
      "metadata": {
        "id": "RrfJWxDoY683",
        "colab": {
          "base_uri": "https://localhost:8080/"
        },
        "outputId": "6a502831-7690-4709-cccd-706ee847cb10"
      },
      "source": [
        "print(history.history.keys())"
      ],
      "execution_count": 18,
      "outputs": [
        {
          "output_type": "stream",
          "name": "stdout",
          "text": [
            "dict_keys(['loss', 'acc', 'f1_m', 'precision_m', 'recall_m', 'val_loss', 'val_acc', 'val_f1_m', 'val_precision_m', 'val_recall_m'])\n"
          ]
        }
      ]
    },
    {
      "cell_type": "markdown",
      "metadata": {
        "id": "Fy_GR2UOZEtW"
      },
      "source": [
        "Accuracy plot"
      ]
    },
    {
      "cell_type": "code",
      "metadata": {
        "id": "jyBeJ2ayZMaQ",
        "colab": {
          "base_uri": "https://localhost:8080/",
          "height": 295
        },
        "outputId": "b78865f1-5b45-416f-d3da-70ca33fd40f5"
      },
      "source": [
        "plt.plot(history.history['acc'])\n",
        "plt.plot(history.history['val_acc'])\n",
        "plt.title('model accuracy')\n",
        "plt.ylabel('accuracy')\n",
        "plt.xlabel('epoch')\n",
        "plt.legend(['train', 'test'], loc='upper left')\n",
        "plt.show()"
      ],
      "execution_count": 19,
      "outputs": [
        {
          "output_type": "display_data",
          "data": {
            "image/png": "[encoded data removed]",
            "text/plain": [
              "<Figure size 432x288 with 1 Axes>"
            ]
          },
          "metadata": {
            "needs_background": "light"
          }
        }
      ]
    },
    {
      "cell_type": "markdown",
      "metadata": {
        "id": "qW6Al6Q4Zm2L"
      },
      "source": [
        "Loss plot"
      ]
    },
    {
      "cell_type": "code",
      "metadata": {
        "id": "sbf3UjFkZr-U",
        "colab": {
          "base_uri": "https://localhost:8080/",
          "height": 295
        },
        "outputId": "7bdcd769-9132-4d72-fe02-f0b38ddf34e6"
      },
      "source": [
        "plt.plot(history.history['loss'])\n",
        "plt.plot(history.history['val_loss'])\n",
        "plt.title('model loss')\n",
        "plt.ylabel('loss')\n",
        "plt.xlabel('epoch')\n",
        "plt.legend(['train', 'test'], loc='upper left')\n",
        "plt.show()"
      ],
      "execution_count": 20,
      "outputs": [
        {
          "output_type": "display_data",
          "data": {
            "image/png": "[encoded data removed]",
            "text/plain": [
              "<Figure size 432x288 with 1 Axes>"
            ]
          },
          "metadata": {
            "needs_background": "light"
          }
        }
      ]
    },
    {
      "cell_type": "markdown",
      "metadata": {
        "id": "aDNeTG7_ZFJc"
      },
      "source": [
        "Scores"
      ]
    },
    {
      "cell_type": "code",
      "metadata": {
        "id": "dxbVHv6QZIYy",
        "colab": {
          "base_uri": "https://localhost:8080/"
        },
        "outputId": "3e8e08be-e394-4558-db8e-599543997bf8"
      },
      "source": [
        "loss, accuracy, f1_score, precision, recall = model.evaluate([encoder_input_test, decoder_input_test],\n",
        "                                                             decoder_output_test, \n",
        "                                                             verbose = 1)\n"
      ],
      "execution_count": 21,
      "outputs": [
        {
          "output_type": "stream",
          "name": "stdout",
          "text": [
            "45/45 [==============================] - 2s 53ms/step - loss: 0.6904 - acc: 0.4517 - f1_m: 0.0807 - precision_m: 0.7187 - recall_m: 0.0428\n"
          ]
        }
      ]
    },
    {
      "cell_type": "code",
      "metadata": {
        "id": "wrE0xn9oZqo4",
        "colab": {
          "base_uri": "https://localhost:8080/"
        },
        "outputId": "44d79675-96d2-438b-bf8b-54354211ca9c"
      },
      "source": [
        "print(\"F1 Score = {}\".format(f1_score))\n",
        "print(\"Precision = {}\".format(precision))\n",
        "print(\"Recall = {}\".format(recall))"
      ],
      "execution_count": 22,
      "outputs": [
        {
          "output_type": "stream",
          "name": "stdout",
          "text": [
            "F1 Score = 0.08067158609628677\n",
            "Precision = 0.7187038064002991\n",
            "Recall = 0.042756062000989914\n"
          ]
        }
      ]
    },
    {
      "cell_type": "markdown",
      "metadata": {
        "id": "--xBppUjigLe"
      },
      "source": [
        "use once trained"
      ]
    },
    {
      "cell_type": "code",
      "metadata": {
        "id": "xJCIxKNAgAWL",
        "outputId": "2e86d5f2-28df-4298-8cd4-b2721a08b1f0",
        "colab": {
          "base_uri": "https://localhost:8080/"
        }
      },
      "source": [
        "# Loads the weights\n",
        "model.load_weights(checkpoint_path)\n"
      ],
      "execution_count": 23,
      "outputs": [
        {
          "output_type": "execute_result",
          "data": {
            "text/plain": [
              "<tensorflow.python.training.tracking.util.CheckpointLoadStatus at 0x7f758c64b350>"
            ]
          },
          "metadata": {},
          "execution_count": 23
        }
      ]
    },
    {
      "cell_type": "markdown",
      "metadata": {
        "id": "AQEGpVJ0Q7jd"
      },
      "source": [
        "**BOT**"
      ]
    },
    {
      "cell_type": "code",
      "metadata": {
        "id": "mD3A50sZR6cz"
      },
      "source": [
        "# =============================================================================\n",
        "# Bot\n",
        "# =============================================================================\n",
        "\n",
        "def make_inference_models():\n",
        "    # two inputs for the state vectors returned by encoder\n",
        "    dec_state_input_h = Input(shape=(emedding_size,))\n",
        "    dec_state_input_c = Input(shape=(emedding_size,))\n",
        "    dec_states_inputs = [dec_state_input_h, dec_state_input_c]\n",
        "    # these state vectors are used as an initial state \n",
        "    # for LSTM layer in the inference decoder\n",
        "    # third input is the Embedding layer as explained above   \n",
        "    dec_outputs, h, c = dec_lstm(dec_embedding,\n",
        "                                    initial_state=dec_states_inputs)\n",
        "    dec_states = [h, c]\n",
        "    # Dense layer is used to return OHE predicted word\n",
        "    dec_outputs = dec_dense(dec_outputs)\n",
        "    dec_model = Model(\n",
        "        inputs=[dec_inputs] + dec_states_inputs,\n",
        "        outputs=[dec_outputs] + dec_states)\n",
        "   \n",
        "    # single encoder input is a question, represented as a sequence \n",
        "    # of integers padded with zeros\n",
        "    enc_model = Model(inputs=enc_inputs, outputs=enc_states)\n",
        "   \n",
        "    return enc_model, dec_model\n",
        "\n",
        "enc_model, dec_model = make_inference_models()\n",
        "\n",
        "def str_to_tokens(sentence: str):\n",
        "\n",
        "    sentence = clean_text(sentence)\n",
        "    words = sentence.lower().split()\n",
        "    tokens_list = list()\n",
        "    for current_word in words:\n",
        "        result = tokenizer.word_index.get(current_word, '')\n",
        "        if result != \"\":\n",
        "            tokens_list.append(result)\n",
        "    return pad_sequences([tokens_list],\n",
        "                         maxlen = max_q_length,\n",
        "                         padding = \"post\")"
      ],
      "execution_count": 24,
      "outputs": []
    },
    {
      "cell_type": "code",
      "metadata": {
        "id": "KIFUxqKBSGeN",
        "outputId": "80367c3b-7db9-457d-990d-710934a2b708",
        "colab": {
          "base_uri": "https://localhost:8080/",
          "height": 122
        }
      },
      "source": [
        "# =============================================================================\n",
        "# chatting loop\n",
        "# =============================================================================\n",
        "\n",
        "for _ in range(100):\n",
        "    # encode the input sequence into state vectors\n",
        "    states_values = enc_model.predict(str_to_tokens(input(\"user : \")))\n",
        "    # start with a target sequence of size 1 - word 'start'   \n",
        "    empty_target_seq = np.zeros((1, 1))\n",
        "    empty_target_seq[0, 0] = tokenizer.word_index[\"<BOS>\"]\n",
        "    stop_condition = False\n",
        "    decoded_translation = \"\"\n",
        "    while not stop_condition:\n",
        "        # feed vectors and word for prediction\n",
        "        dec_outputs, h, c = dec_model.predict([empty_target_seq]\n",
        "                                              + states_values)         \n",
        "        # sample the next word using these predictions\n",
        "        sampled_word_index = np.argmax(dec_outputs[0, -1, :])\n",
        "        sampled_word = None\n",
        "        # append the sampled word to the target sequence\n",
        "        for word, index in tokenizer.word_index.items():\n",
        "            if sampled_word_index == index:\n",
        "                if word != \"<EOS>\":\n",
        "                    decoded_translation += \" {}\".format(word)\n",
        "                sampled_word = word\n",
        "        # repeat until <EOS> or lenght\n",
        "        if sampled_word == \"<EOS>\" \\\n",
        "                or len(decoded_translation.split()) \\\n",
        "                > max_a_length:\n",
        "            stop_condition = True\n",
        "        # prepare next iteration\n",
        "        empty_target_seq = np.zeros((1, 1))\n",
        "        empty_target_seq[0, 0] = sampled_word_index\n",
        "        states_values = [h, c]\n",
        "    print(\"chatbot: \" + decoded_translation)"
      ],
      "execution_count": 25,
      "outputs": [
        {
          "output_type": "execute_result",
          "data": {
            "application/vnd.google.colaboratory.intrinsic+json": {
              "type": "string"
            },
            "text/plain": [
              "'for _ in range(2):\\n    # encode the input sequence into state vectors\\n    states_values = enc_model.predict(str_to_tokens(input(\"user : \")))\\n    # start with a target sequence of size 1 - word \\'start\\'   \\n    empty_target_seq = np.zeros((1, 1))\\n    empty_target_seq[0, 0] = tokenizer.word_index[\"<BOS>\"]\\n    stop_condition = False\\n    decoded_translation = \"\"\\n    while not stop_condition:\\n        # feed vectors and word for prediction\\n        dec_outputs, h, c = dec_model.predict([empty_target_seq]\\n                                              + states_values)         \\n        # sample the next word using these predictions\\n        sampled_word_index = np.argmax(dec_outputs[0, -1, :])\\n        sampled_word = None\\n        # append the sampled word to the target sequence\\n        for word, index in tokenizer.word_index.items():\\n            if sampled_word_index == index:\\n                if word != \"<EOS>\":\\n                    decoded_translation += \" {}\".format(word)\\n                sampled_word = word\\n        # repeat until <EOS> or lenght\\n        if sampled_word == \"<EOS>\"                 or len(decoded_translation.split())                 > max_a_length:\\n            stop_condition = True\\n        # prepare next iteration\\n        empty_target_seq = np.zeros((1, 1))\\n        empty_target_seq[0, 0] = sampled_word_index\\n        states_values = [h, c]\\n    print(\"chatbot: \" + decoded_translation)'"
            ]
          },
          "metadata": {},
          "execution_count": 25
        }
      ]
    }
  ]
}