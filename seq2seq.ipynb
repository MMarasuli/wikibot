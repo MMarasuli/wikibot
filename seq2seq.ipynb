{
  "nbformat": 4,
  "nbformat_minor": 0,
  "metadata": {
    "colab": {
      "name": "seq2seq.ipynb",
      "provenance": [],
      "collapsed_sections": [],
      "machine_shape": "hm",
      "include_colab_link": true
    },
    "kernelspec": {
      "name": "python3",
      "display_name": "Python 3"
    },
    "language_info": {
      "name": "python"
    },
    "accelerator": "GPU"
  },
  "cells": [
    {
      "cell_type": "markdown",
      "metadata": {
        "id": "view-in-github",
        "colab_type": "text"
      },
      "source": [
        "<a href=\"https://colab.research.google.com/github/tohpedo/wikibot/blob/seq2seq/seq2seq.ipynb\" target=\"_parent\"><img src=\"https://colab.research.google.com/assets/colab-badge.svg\" alt=\"Open In Colab\"/></a>"
      ]
    },
    {
      "cell_type": "code",
      "metadata": {
        "id": "PlqYTLFkLRBw",
        "colab": {
          "base_uri": "https://localhost:8080/"
        },
        "outputId": "ec1bde6b-439d-40a7-b18d-400d2cdaa878"
      },
      "source": [
        "from google.colab import drive\n",
        "drive.mount('/content/drive')"
      ],
      "execution_count": 1,
      "outputs": [
        {
          "output_type": "stream",
          "name": "stdout",
          "text": [
            "Drive already mounted at /content/drive; to attempt to forcibly remount, call drive.mount(\"/content/drive\", force_remount=True).\n"
          ]
        }
      ]
    },
    {
      "cell_type": "code",
      "metadata": {
        "id": "dRXlwTfbROJq"
      },
      "source": [
        "# imports\n",
        "import pandas as pd\n",
        "import numpy as np\n",
        "import matplotlib.pyplot as plt\n",
        "import re"
      ],
      "execution_count": 2,
      "outputs": []
    },
    {
      "cell_type": "code",
      "metadata": {
        "id": "yM5bxWWTRXZE"
      },
      "source": [
        "# base\n",
        "\n",
        "base = pd.read_csv(\"/content/drive/MyDrive/Squad/database.csv\")[:3000]"
      ],
      "execution_count": 3,
      "outputs": []
    },
    {
      "cell_type": "code",
      "metadata": {
        "id": "a-EqgbgtRaX8"
      },
      "source": [
        "# define function to clean the text \n",
        "\n",
        "def clean_text(text):\n",
        "\n",
        "    text = text.lower()\n",
        "    text = re.sub(r\"\\n\", \"\",  text)\n",
        "    text = re.sub(r\"[-()]\", \"\", text)\n",
        "    text = re.sub(r\"\\.\", \" . \", text)\n",
        "    text = re.sub(r\"\\!\", \" ! \", text)\n",
        "    text = re.sub(r\"\\?\", \" ? \", text)\n",
        "    text = re.sub(r\"\\,\", \" , \", text)\n",
        "    text = re.sub(r\"\\\"\", \" \\\" \", text)\n",
        "    text = re.sub(r\"i'm\", \"i am\", text)\n",
        "    text = re.sub(r\"he's\", \"he is\", text)\n",
        "    text = re.sub(r\"she's\", \"she is\", text)\n",
        "    text = re.sub(r\"it's\", \"it is\", text)\n",
        "    text = re.sub(r\"that's\", \"that is\", text)\n",
        "    text = re.sub(r\"what's\", \"that is\", text)\n",
        "    text = re.sub(r\"where's\", \"where is\", text)\n",
        "    text = re.sub(r\"how's\", \"how is\", text)\n",
        "    text = re.sub(r\"\\'ll\", \" will\", text)\n",
        "    text = re.sub(r\"\\'ve\", \" have\", text)\n",
        "    text = re.sub(r\"\\'d\", \" would\", text)\n",
        "    text = re.sub(r\"\\'re\", \" are\", text)\n",
        "    text = re.sub(r\"won't\", \"will not\", text)\n",
        "    text = re.sub(r\"can't\", \"cannot\", text)\n",
        "    text = re.sub(r\"n't\", \" not\", text)\n",
        "    text = re.sub(r\"n'\", \"ng\", text)\n",
        "    text = re.sub(r\"'bout\", \"about\", text)\n",
        "    text = re.sub(r\"'til\", \"until\", text)\n",
        "    text = re.sub(r\"[-()\\\"#/@;:<>{}`+=~|.!?,]\", \"\", text)\n",
        "\n",
        "    \n",
        "    return text"
      ],
      "execution_count": 4,
      "outputs": []
    },
    {
      "cell_type": "markdown",
      "metadata": {
        "id": "FKL1zQbVvcIf"
      },
      "source": [
        "# **Base Processing**"
      ]
    },
    {
      "cell_type": "code",
      "metadata": {
        "id": "LFGQOiwqRd7v"
      },
      "source": [
        "# base processing \n",
        "\n",
        "base = base.dropna()\n",
        "\n",
        "# defining lenghts of q's and a's\n",
        "\n",
        "q_text = []\n",
        "\n",
        "for line in base.question:\n",
        "    q_text.append(clean_text(line))\n",
        "\n",
        "q_len = []\n",
        "for line in q_text:\n",
        "    q_len.append(len(line.split()))\n",
        "\n",
        "max_q_length = max(q_len)\n",
        "\n",
        "a_text = []\n",
        "for line in base.text:\n",
        "    a_text.append(clean_text(line))\n",
        "\n",
        "a_len = []\n",
        "for line in a_text:\n",
        "    a_len.append(len(line.split()))\n",
        "\n",
        "# plus two due to tokens\n",
        "max_a_length = max(a_len) + 2\n",
        "\n",
        "# adding tokens to answers\n",
        "for i in range(len(a_text)):\n",
        "    a_text[i]  = \"<BOS> \" + a_text[i] + \" <EOS>\"\n"
      ],
      "execution_count": 5,
      "outputs": []
    },
    {
      "cell_type": "code",
      "metadata": {
        "id": "R_OiNMKkRiup"
      },
      "source": [
        "# vocab and tokenizing\n",
        "# making vocab\n",
        "from tensorflow.keras.preprocessing.text import Tokenizer\n",
        "\n",
        "vocab_size = 10000\n",
        "tokenizer = Tokenizer(num_words = vocab_size, lower=False, filters=\"\")\n",
        "tokenizer.fit_on_texts(q_text + a_text)\n",
        "dictionary = tokenizer.word_index\n",
        "\n",
        "word2token = {}\n",
        "token2word = {}\n",
        "\n",
        "for k, v in dictionary.items():\n",
        "    if v < vocab_size:\n",
        "        word2token[k] = v\n",
        "        token2word[v] = k\n",
        "    else:\n",
        "        continue\n",
        "\n",
        "vocab_size = len(word2token) + 1\n",
        "\n",
        "# tokenizing sentences\n",
        "\n",
        "encoder_seq = tokenizer.texts_to_sequences(q_text)\n",
        "decoder_seq = tokenizer.texts_to_sequences(a_text)"
      ],
      "execution_count": 6,
      "outputs": []
    },
    {
      "cell_type": "code",
      "metadata": {
        "id": "fvxGxQUGRmdF"
      },
      "source": [
        "# padding\n",
        "from tensorflow.keras.preprocessing.sequence import pad_sequences\n",
        "from tensorflow.keras.utils import to_categorical\n",
        "\n",
        "encoder_input = pad_sequences(encoder_seq, \n",
        "                              maxlen = max_q_length,\n",
        "                              padding = \"post\",\n",
        "                              truncating= \"post\")\n",
        "\n",
        "decoder_input = pad_sequences(decoder_seq, \n",
        "                              maxlen = max_a_length,\n",
        "                              padding = \"post\",\n",
        "                              truncating= \"post\")\n"
      ],
      "execution_count": 7,
      "outputs": []
    },
    {
      "cell_type": "code",
      "metadata": {
        "id": "HU5yUpOBRoo7"
      },
      "source": [
        "# formating decoder output\n",
        "for i in range(len(decoder_seq)):\n",
        "    decoder_seq[i] =  decoder_seq[i][1:]\n",
        "    \n",
        "# pad with 0\n",
        "padded_answers = pad_sequences(decoder_seq,\n",
        "                               maxlen = max_a_length,\n",
        "                               padding = \"post\")\n"
      ],
      "execution_count": 8,
      "outputs": []
    },
    {
      "cell_type": "code",
      "metadata": {
        "id": "n6PIKSr_RsT5"
      },
      "source": [
        "#deleting non-necessary variables\n",
        "del(a_len, a_text, decoder_seq, dictionary, encoder_seq, i, k, line, q_len, q_text,  v)"
      ],
      "execution_count": 9,
      "outputs": []
    },
    {
      "cell_type": "code",
      "metadata": {
        "id": "vfMDH7nsr-QC"
      },
      "source": [
        "decoder_output = to_categorical(padded_answers, vocab_size)"
      ],
      "execution_count": 10,
      "outputs": []
    },
    {
      "cell_type": "code",
      "metadata": {
        "id": "OKX09iVGr_-4"
      },
      "source": [
        "#deleting non-necessary variables\n",
        "del(padded_answers)"
      ],
      "execution_count": 11,
      "outputs": []
    },
    {
      "cell_type": "markdown",
      "metadata": {
        "id": "VAassb7wvjtL"
      },
      "source": [
        "# **Model**"
      ]
    },
    {
      "cell_type": "code",
      "metadata": {
        "id": "TcQu8WEZRu7E",
        "colab": {
          "base_uri": "https://localhost:8080/"
        },
        "outputId": "563d5ae6-f19e-4f65-bac3-a53ce16b57b3"
      },
      "source": [
        "# =============================================================================\n",
        "# Model\n",
        "# =============================================================================\n",
        "from tensorflow.keras.models import Model\n",
        "from tensorflow.keras.layers import Dense, Embedding, LSTM, Input\n",
        "\n",
        "# encoder will be used to capture space-dependent relations between words from the questions\n",
        "# about 200 neurons needed \n",
        "\n",
        "emedding_size = 1024\n",
        "enc_inputs = Input(shape=(None,))\n",
        "enc_embeding = Embedding(vocab_size, emedding_size, mask_zero=True)\n",
        "enc_embeding = enc_embeding(enc_inputs)\n",
        "enc_lstm = LSTM(emedding_size,  return_state=True)\n",
        "enc_outputs, h, c = enc_lstm(enc_embeding)\n",
        "enc_states = [h, c]\n",
        "\n",
        "# decoder will be used to capture space-dependent relations between words from the answers using encoder's internal state as a context\n",
        "\n",
        "dec_inputs = Input(shape=(None,))\n",
        "dec_embedding = Embedding(vocab_size, emedding_size, mask_zero=True)\n",
        "dec_embedding = dec_embedding(dec_inputs)\n",
        "dec_lstm = LSTM(emedding_size, return_state=True, return_sequences=True)\n",
        "dec_outputs, _, _ = dec_lstm(dec_embedding, initial_state = enc_states)\n",
        "\n",
        "# decoder is connected to the output Dense layer\n",
        "dec_dense = Dense(vocab_size, activation = \"softmax\")\n",
        "output = dec_dense(dec_outputs)\n",
        "\n",
        "model = Model([enc_inputs, dec_inputs], output)\n",
        "# output of this network will look like this:\n",
        "# y_true = [0.05, 0.95, 0...]\n",
        "# and expected one-hot encoded output like this:\n",
        "# y_pred = [0, 1, 0...]\n",
        "model.compile(optimizer = \"adam\", loss = \"categorical_crossentropy\", metrics = [\"acc\"])\n",
        "model.summary()\n"
      ],
      "execution_count": 12,
      "outputs": [
        {
          "output_type": "stream",
          "name": "stdout",
          "text": [
            "Model: \"model\"\n",
            "__________________________________________________________________________________________________\n",
            " Layer (type)                   Output Shape         Param #     Connected to                     \n",
            "==================================================================================================\n",
            " input_1 (InputLayer)           [(None, None)]       0           []                               \n",
            "                                                                                                  \n",
            " input_2 (InputLayer)           [(None, None)]       0           []                               \n",
            "                                                                                                  \n",
            " embedding (Embedding)          (None, None, 1024)   5076992     ['input_1[0][0]']                \n",
            "                                                                                                  \n",
            " embedding_1 (Embedding)        (None, None, 1024)   5076992     ['input_2[0][0]']                \n",
            "                                                                                                  \n",
            " lstm (LSTM)                    [(None, 1024),       8392704     ['embedding[0][0]']              \n",
            "                                 (None, 1024),                                                    \n",
            "                                 (None, 1024)]                                                    \n",
            "                                                                                                  \n",
            " lstm_1 (LSTM)                  [(None, None, 1024)  8392704     ['embedding_1[0][0]',            \n",
            "                                , (None, 1024),                   'lstm[0][1]',                   \n",
            "                                 (None, 1024)]                    'lstm[0][2]']                   \n",
            "                                                                                                  \n",
            " dense (Dense)                  (None, None, 4958)   5081950     ['lstm_1[0][0]']                 \n",
            "                                                                                                  \n",
            "==================================================================================================\n",
            "Total params: 32,021,342\n",
            "Trainable params: 32,021,342\n",
            "Non-trainable params: 0\n",
            "__________________________________________________________________________________________________\n"
          ]
        }
      ]
    },
    {
      "cell_type": "markdown",
      "metadata": {
        "id": "MhE4MesvvT5Z"
      },
      "source": [
        "# **Training**"
      ]
    },
    {
      "cell_type": "code",
      "metadata": {
        "id": "1-sj-ub6vBK4",
        "colab": {
          "base_uri": "https://localhost:8080/"
        },
        "outputId": "8197490d-2bc5-48f7-b3fa-cac65877274f"
      },
      "source": [
        "!pip install pyyaml h5py  # Required to save models in HDF5 format"
      ],
      "execution_count": 13,
      "outputs": [
        {
          "output_type": "stream",
          "name": "stdout",
          "text": [
            "Requirement already satisfied: pyyaml in /usr/local/lib/python3.7/dist-packages (3.13)\n",
            "Requirement already satisfied: h5py in /usr/local/lib/python3.7/dist-packages (3.1.0)\n",
            "Requirement already satisfied: numpy>=1.14.5 in /usr/local/lib/python3.7/dist-packages (from h5py) (1.19.5)\n",
            "Requirement already satisfied: cached-property in /usr/local/lib/python3.7/dist-packages (from h5py) (1.5.2)\n"
          ]
        }
      ]
    },
    {
      "cell_type": "code",
      "metadata": {
        "id": "FkIMbTllucYP"
      },
      "source": [
        "# creating checkpoints\n",
        "import os\n",
        "import tensorflow as tf\n",
        "\n",
        "checkpoint_path = \"/content/drive/MyDrive/Squad/training_4/cp.ckpt\"\n",
        "checkpoint_dir = os.path.dirname(checkpoint_path)\n",
        "\n",
        "# Create a callback that saves the model's weights\n",
        "cp_callback = tf.keras.callbacks.ModelCheckpoint(filepath=checkpoint_path,\n",
        "                                                 save_weights_only=True,\n",
        "                                                 verbose=1)\n",
        "\n",
        "# This may generate warnings related to saving the state of the optimizer.\n",
        "# These warnings (and similar warnings throughout this notebook)\n",
        "# are in place to discourage outdated usage, and can be ignored."
      ],
      "execution_count": 14,
      "outputs": []
    },
    {
      "cell_type": "markdown",
      "metadata": {
        "id": "cr91muWIwxJg"
      },
      "source": [
        "# **The Actual Bot part**"
      ]
    },
    {
      "cell_type": "markdown",
      "metadata": {
        "id": "T5BOqbbGgP0Y"
      },
      "source": [
        "use only while training"
      ]
    },
    {
      "cell_type": "code",
      "metadata": {
        "id": "rh-MxfRNu8YI",
        "colab": {
          "base_uri": "https://localhost:8080/"
        },
        "outputId": "ab2883ca-c728-4f46-9e7e-838edafa862f"
      },
      "source": [
        "# fitting the model\n",
        "history = model.fit([encoder_input, decoder_input],\n",
        "          decoder_output,\n",
        "          validation_split = 0.2,\n",
        "          batch_size = 32,\n",
        "          epochs = 80,\n",
        "          callbacks = [cp_callback])"
      ],
      "execution_count": 15,
      "outputs": [
        {
          "output_type": "stream",
          "name": "stdout",
          "text": [
            "Epoch 1/80\n",
            "67/67 [==============================] - ETA: 0s - loss: 1.3777 - acc: 0.4478\n",
            "Epoch 00001: saving model to /content/drive/MyDrive/Squad/training_4/cp.ckpt\n",
            "67/67 [==============================] - 32s 256ms/step - loss: 1.3777 - acc: 0.4478 - val_loss: 1.3684 - val_acc: 0.4676\n",
            "Epoch 2/80\n",
            "67/67 [==============================] - ETA: 0s - loss: 1.0724 - acc: 0.4785\n",
            "Epoch 00002: saving model to /content/drive/MyDrive/Squad/training_4/cp.ckpt\n",
            "67/67 [==============================] - 17s 251ms/step - loss: 1.0724 - acc: 0.4785 - val_loss: 1.4569 - val_acc: 0.4684\n",
            "Epoch 3/80\n",
            "67/67 [==============================] - ETA: 0s - loss: 0.9840 - acc: 0.4831\n",
            "Epoch 00003: saving model to /content/drive/MyDrive/Squad/training_4/cp.ckpt\n",
            "67/67 [==============================] - 17s 258ms/step - loss: 0.9840 - acc: 0.4831 - val_loss: 1.5533 - val_acc: 0.4745\n",
            "Epoch 4/80\n",
            "67/67 [==============================] - ETA: 0s - loss: 0.9223 - acc: 0.4935\n",
            "Epoch 00004: saving model to /content/drive/MyDrive/Squad/training_4/cp.ckpt\n",
            "67/67 [==============================] - 17s 257ms/step - loss: 0.9223 - acc: 0.4935 - val_loss: 1.5927 - val_acc: 0.4663\n",
            "Epoch 5/80\n",
            "67/67 [==============================] - ETA: 0s - loss: 0.8584 - acc: 0.5077\n",
            "Epoch 00005: saving model to /content/drive/MyDrive/Squad/training_4/cp.ckpt\n",
            "67/67 [==============================] - 14s 207ms/step - loss: 0.8584 - acc: 0.5077 - val_loss: 1.6648 - val_acc: 0.4536\n",
            "Epoch 6/80\n",
            "67/67 [==============================] - ETA: 0s - loss: 0.7859 - acc: 0.5203\n",
            "Epoch 00006: saving model to /content/drive/MyDrive/Squad/training_4/cp.ckpt\n",
            "67/67 [==============================] - 15s 226ms/step - loss: 0.7859 - acc: 0.5203 - val_loss: 1.6856 - val_acc: 0.4549\n",
            "Epoch 7/80\n",
            "67/67 [==============================] - ETA: 0s - loss: 0.7136 - acc: 0.5443\n",
            "Epoch 00007: saving model to /content/drive/MyDrive/Squad/training_4/cp.ckpt\n",
            "67/67 [==============================] - 16s 240ms/step - loss: 0.7136 - acc: 0.5443 - val_loss: 1.7634 - val_acc: 0.4375\n",
            "Epoch 8/80\n",
            "67/67 [==============================] - ETA: 0s - loss: 0.6409 - acc: 0.5786\n",
            "Epoch 00008: saving model to /content/drive/MyDrive/Squad/training_4/cp.ckpt\n",
            "67/67 [==============================] - 17s 250ms/step - loss: 0.6409 - acc: 0.5786 - val_loss: 1.8255 - val_acc: 0.4240\n",
            "Epoch 9/80\n",
            "67/67 [==============================] - ETA: 0s - loss: 0.5698 - acc: 0.6164\n",
            "Epoch 00009: saving model to /content/drive/MyDrive/Squad/training_4/cp.ckpt\n",
            "67/67 [==============================] - 16s 245ms/step - loss: 0.5698 - acc: 0.6164 - val_loss: 1.8816 - val_acc: 0.4158\n",
            "Epoch 10/80\n",
            "67/67 [==============================] - ETA: 0s - loss: 0.5034 - acc: 0.6551\n",
            "Epoch 00010: saving model to /content/drive/MyDrive/Squad/training_4/cp.ckpt\n",
            "67/67 [==============================] - 14s 214ms/step - loss: 0.5034 - acc: 0.6551 - val_loss: 1.9546 - val_acc: 0.4192\n",
            "Epoch 11/80\n",
            "67/67 [==============================] - ETA: 0s - loss: 0.4408 - acc: 0.6905\n",
            "Epoch 00011: saving model to /content/drive/MyDrive/Squad/training_4/cp.ckpt\n",
            "67/67 [==============================] - 15s 219ms/step - loss: 0.4408 - acc: 0.6905 - val_loss: 1.9924 - val_acc: 0.4057\n",
            "Epoch 12/80\n",
            "67/67 [==============================] - ETA: 0s - loss: 0.3839 - acc: 0.7275\n",
            "Epoch 00012: saving model to /content/drive/MyDrive/Squad/training_4/cp.ckpt\n",
            "67/67 [==============================] - 14s 204ms/step - loss: 0.3839 - acc: 0.7275 - val_loss: 2.0481 - val_acc: 0.4014\n",
            "Epoch 13/80\n",
            "67/67 [==============================] - ETA: 0s - loss: 0.3341 - acc: 0.7566\n",
            "Epoch 00013: saving model to /content/drive/MyDrive/Squad/training_4/cp.ckpt\n",
            "67/67 [==============================] - 14s 206ms/step - loss: 0.3341 - acc: 0.7566 - val_loss: 2.1025 - val_acc: 0.3792\n",
            "Epoch 14/80\n",
            "67/67 [==============================] - ETA: 0s - loss: 0.2919 - acc: 0.7749\n",
            "Epoch 00014: saving model to /content/drive/MyDrive/Squad/training_4/cp.ckpt\n",
            "67/67 [==============================] - 17s 252ms/step - loss: 0.2919 - acc: 0.7749 - val_loss: 2.1320 - val_acc: 0.3862\n",
            "Epoch 15/80\n",
            "67/67 [==============================] - ETA: 0s - loss: 0.2488 - acc: 0.8042\n",
            "Epoch 00015: saving model to /content/drive/MyDrive/Squad/training_4/cp.ckpt\n",
            "67/67 [==============================] - 14s 211ms/step - loss: 0.2488 - acc: 0.8042 - val_loss: 2.1871 - val_acc: 0.3814\n",
            "Epoch 16/80\n",
            "67/67 [==============================] - ETA: 0s - loss: 0.2124 - acc: 0.8303\n",
            "Epoch 00016: saving model to /content/drive/MyDrive/Squad/training_4/cp.ckpt\n",
            "67/67 [==============================] - 16s 239ms/step - loss: 0.2124 - acc: 0.8303 - val_loss: 2.2111 - val_acc: 0.3796\n",
            "Epoch 17/80\n",
            "67/67 [==============================] - ETA: 0s - loss: 0.1732 - acc: 0.8639\n",
            "Epoch 00017: saving model to /content/drive/MyDrive/Squad/training_4/cp.ckpt\n",
            "67/67 [==============================] - 16s 247ms/step - loss: 0.1732 - acc: 0.8639 - val_loss: 2.2373 - val_acc: 0.3700\n",
            "Epoch 18/80\n",
            "67/67 [==============================] - ETA: 0s - loss: 0.1372 - acc: 0.9009\n",
            "Epoch 00018: saving model to /content/drive/MyDrive/Squad/training_4/cp.ckpt\n",
            "67/67 [==============================] - 14s 205ms/step - loss: 0.1372 - acc: 0.9009 - val_loss: 2.2736 - val_acc: 0.3792\n",
            "Epoch 19/80\n",
            "67/67 [==============================] - ETA: 0s - loss: 0.1059 - acc: 0.9290\n",
            "Epoch 00019: saving model to /content/drive/MyDrive/Squad/training_4/cp.ckpt\n",
            "67/67 [==============================] - 17s 260ms/step - loss: 0.1059 - acc: 0.9290 - val_loss: 2.3043 - val_acc: 0.3848\n",
            "Epoch 20/80\n",
            "67/67 [==============================] - ETA: 0s - loss: 0.0790 - acc: 0.9525\n",
            "Epoch 00020: saving model to /content/drive/MyDrive/Squad/training_4/cp.ckpt\n",
            "67/67 [==============================] - 14s 212ms/step - loss: 0.0790 - acc: 0.9525 - val_loss: 2.3223 - val_acc: 0.3774\n",
            "Epoch 21/80\n",
            "67/67 [==============================] - ETA: 0s - loss: 0.0580 - acc: 0.9655\n",
            "Epoch 00021: saving model to /content/drive/MyDrive/Squad/training_4/cp.ckpt\n",
            "67/67 [==============================] - 16s 247ms/step - loss: 0.0580 - acc: 0.9655 - val_loss: 2.3619 - val_acc: 0.3814\n",
            "Epoch 22/80\n",
            "67/67 [==============================] - ETA: 0s - loss: 0.0441 - acc: 0.9740\n",
            "Epoch 00022: saving model to /content/drive/MyDrive/Squad/training_4/cp.ckpt\n",
            "67/67 [==============================] - 13s 202ms/step - loss: 0.0441 - acc: 0.9740 - val_loss: 2.3878 - val_acc: 0.3901\n",
            "Epoch 23/80\n",
            "67/67 [==============================] - ETA: 0s - loss: 0.0339 - acc: 0.9778\n",
            "Epoch 00023: saving model to /content/drive/MyDrive/Squad/training_4/cp.ckpt\n",
            "67/67 [==============================] - 14s 215ms/step - loss: 0.0339 - acc: 0.9778 - val_loss: 2.4083 - val_acc: 0.3831\n",
            "Epoch 24/80\n",
            "67/67 [==============================] - ETA: 0s - loss: 0.0288 - acc: 0.9806\n",
            "Epoch 00024: saving model to /content/drive/MyDrive/Squad/training_4/cp.ckpt\n",
            "67/67 [==============================] - 14s 207ms/step - loss: 0.0288 - acc: 0.9806 - val_loss: 2.4134 - val_acc: 0.3822\n",
            "Epoch 25/80\n",
            "67/67 [==============================] - ETA: 0s - loss: 0.0223 - acc: 0.9839\n",
            "Epoch 00025: saving model to /content/drive/MyDrive/Squad/training_4/cp.ckpt\n",
            "67/67 [==============================] - 14s 207ms/step - loss: 0.0223 - acc: 0.9839 - val_loss: 2.4411 - val_acc: 0.3857\n",
            "Epoch 26/80\n",
            "67/67 [==============================] - ETA: 0s - loss: 0.0181 - acc: 0.9866\n",
            "Epoch 00026: saving model to /content/drive/MyDrive/Squad/training_4/cp.ckpt\n",
            "67/67 [==============================] - 16s 249ms/step - loss: 0.0181 - acc: 0.9866 - val_loss: 2.4537 - val_acc: 0.3866\n",
            "Epoch 27/80\n",
            "67/67 [==============================] - ETA: 0s - loss: 0.0156 - acc: 0.9894\n",
            "Epoch 00027: saving model to /content/drive/MyDrive/Squad/training_4/cp.ckpt\n",
            "67/67 [==============================] - 14s 212ms/step - loss: 0.0156 - acc: 0.9894 - val_loss: 2.4739 - val_acc: 0.3835\n",
            "Epoch 28/80\n",
            "67/67 [==============================] - ETA: 0s - loss: 0.0127 - acc: 0.9923\n",
            "Epoch 00028: saving model to /content/drive/MyDrive/Squad/training_4/cp.ckpt\n",
            "67/67 [==============================] - 17s 253ms/step - loss: 0.0127 - acc: 0.9923 - val_loss: 2.4720 - val_acc: 0.3831\n",
            "Epoch 29/80\n",
            "67/67 [==============================] - ETA: 0s - loss: 0.0129 - acc: 0.9941\n",
            "Epoch 00029: saving model to /content/drive/MyDrive/Squad/training_4/cp.ckpt\n",
            "67/67 [==============================] - 13s 199ms/step - loss: 0.0129 - acc: 0.9941 - val_loss: 2.4741 - val_acc: 0.3818\n",
            "Epoch 30/80\n",
            "67/67 [==============================] - ETA: 0s - loss: 0.0088 - acc: 0.9962\n",
            "Epoch 00030: saving model to /content/drive/MyDrive/Squad/training_4/cp.ckpt\n",
            "67/67 [==============================] - 16s 240ms/step - loss: 0.0088 - acc: 0.9962 - val_loss: 2.4954 - val_acc: 0.3700\n",
            "Epoch 31/80\n",
            "67/67 [==============================] - ETA: 0s - loss: 0.0060 - acc: 0.9976\n",
            "Epoch 00031: saving model to /content/drive/MyDrive/Squad/training_4/cp.ckpt\n",
            "67/67 [==============================] - 16s 245ms/step - loss: 0.0060 - acc: 0.9976 - val_loss: 2.4935 - val_acc: 0.3718\n",
            "Epoch 32/80\n",
            "67/67 [==============================] - ETA: 0s - loss: 0.0043 - acc: 0.9984\n",
            "Epoch 00032: saving model to /content/drive/MyDrive/Squad/training_4/cp.ckpt\n",
            "67/67 [==============================] - 16s 245ms/step - loss: 0.0043 - acc: 0.9984 - val_loss: 2.5113 - val_acc: 0.3892\n",
            "Epoch 33/80\n",
            "67/67 [==============================] - ETA: 0s - loss: 0.0032 - acc: 0.9991\n",
            "Epoch 00033: saving model to /content/drive/MyDrive/Squad/training_4/cp.ckpt\n",
            "67/67 [==============================] - 16s 240ms/step - loss: 0.0032 - acc: 0.9991 - val_loss: 2.5258 - val_acc: 0.3818\n",
            "Epoch 34/80\n",
            "67/67 [==============================] - ETA: 0s - loss: 0.0023 - acc: 0.9993\n",
            "Epoch 00034: saving model to /content/drive/MyDrive/Squad/training_4/cp.ckpt\n",
            "67/67 [==============================] - 16s 235ms/step - loss: 0.0023 - acc: 0.9993 - val_loss: 2.5357 - val_acc: 0.3818\n",
            "Epoch 35/80\n",
            "67/67 [==============================] - ETA: 0s - loss: 0.0019 - acc: 0.9996\n",
            "Epoch 00035: saving model to /content/drive/MyDrive/Squad/training_4/cp.ckpt\n",
            "67/67 [==============================] - 14s 210ms/step - loss: 0.0019 - acc: 0.9996 - val_loss: 2.5465 - val_acc: 0.3835\n",
            "Epoch 36/80\n",
            "67/67 [==============================] - ETA: 0s - loss: 0.0017 - acc: 0.9992\n",
            "Epoch 00036: saving model to /content/drive/MyDrive/Squad/training_4/cp.ckpt\n",
            "67/67 [==============================] - 14s 214ms/step - loss: 0.0017 - acc: 0.9992 - val_loss: 2.5535 - val_acc: 0.3822\n",
            "Epoch 37/80\n",
            "67/67 [==============================] - ETA: 0s - loss: 0.0015 - acc: 0.9997\n",
            "Epoch 00037: saving model to /content/drive/MyDrive/Squad/training_4/cp.ckpt\n",
            "67/67 [==============================] - 16s 239ms/step - loss: 0.0015 - acc: 0.9997 - val_loss: 2.5614 - val_acc: 0.3818\n",
            "Epoch 38/80\n",
            "67/67 [==============================] - ETA: 0s - loss: 0.0013 - acc: 0.9998\n",
            "Epoch 00038: saving model to /content/drive/MyDrive/Squad/training_4/cp.ckpt\n",
            "67/67 [==============================] - 18s 264ms/step - loss: 0.0013 - acc: 0.9998 - val_loss: 2.5691 - val_acc: 0.3827\n",
            "Epoch 39/80\n",
            "67/67 [==============================] - ETA: 0s - loss: 0.0013 - acc: 0.9995\n",
            "Epoch 00039: saving model to /content/drive/MyDrive/Squad/training_4/cp.ckpt\n",
            "67/67 [==============================] - 14s 210ms/step - loss: 0.0013 - acc: 0.9995 - val_loss: 2.5789 - val_acc: 0.3831\n",
            "Epoch 40/80\n",
            "67/67 [==============================] - ETA: 0s - loss: 0.0011 - acc: 0.9997\n",
            "Epoch 00040: saving model to /content/drive/MyDrive/Squad/training_4/cp.ckpt\n",
            "67/67 [==============================] - 16s 247ms/step - loss: 0.0011 - acc: 0.9997 - val_loss: 2.5795 - val_acc: 0.3809\n",
            "Epoch 41/80\n",
            "67/67 [==============================] - ETA: 0s - loss: 0.0011 - acc: 0.9997\n",
            "Epoch 00041: saving model to /content/drive/MyDrive/Squad/training_4/cp.ckpt\n",
            "67/67 [==============================] - 14s 204ms/step - loss: 0.0011 - acc: 0.9997 - val_loss: 2.5858 - val_acc: 0.3814\n",
            "Epoch 42/80\n",
            "67/67 [==============================] - ETA: 0s - loss: 9.7609e-04 - acc: 0.9996\n",
            "Epoch 00042: saving model to /content/drive/MyDrive/Squad/training_4/cp.ckpt\n",
            "67/67 [==============================] - 15s 219ms/step - loss: 9.7609e-04 - acc: 0.9996 - val_loss: 2.5919 - val_acc: 0.3818\n",
            "Epoch 43/80\n",
            "67/67 [==============================] - ETA: 0s - loss: 9.5550e-04 - acc: 0.9997\n",
            "Epoch 00043: saving model to /content/drive/MyDrive/Squad/training_4/cp.ckpt\n",
            "67/67 [==============================] - 16s 248ms/step - loss: 9.5550e-04 - acc: 0.9997 - val_loss: 2.6008 - val_acc: 0.3827\n",
            "Epoch 44/80\n",
            "67/67 [==============================] - ETA: 0s - loss: 8.3830e-04 - acc: 0.9998\n",
            "Epoch 00044: saving model to /content/drive/MyDrive/Squad/training_4/cp.ckpt\n",
            "67/67 [==============================] - 15s 221ms/step - loss: 8.3830e-04 - acc: 0.9998 - val_loss: 2.6037 - val_acc: 0.3822\n",
            "Epoch 45/80\n",
            "67/67 [==============================] - ETA: 0s - loss: 8.6582e-04 - acc: 0.9997\n",
            "Epoch 00045: saving model to /content/drive/MyDrive/Squad/training_4/cp.ckpt\n",
            "67/67 [==============================] - 16s 246ms/step - loss: 8.6582e-04 - acc: 0.9997 - val_loss: 2.6076 - val_acc: 0.3818\n",
            "Epoch 46/80\n",
            "67/67 [==============================] - ETA: 0s - loss: 8.2347e-04 - acc: 0.9997\n",
            "Epoch 00046: saving model to /content/drive/MyDrive/Squad/training_4/cp.ckpt\n",
            "67/67 [==============================] - 13s 198ms/step - loss: 8.2347e-04 - acc: 0.9997 - val_loss: 2.6170 - val_acc: 0.3822\n",
            "Epoch 47/80\n",
            "67/67 [==============================] - ETA: 0s - loss: 8.0710e-04 - acc: 0.9996\n",
            "Epoch 00047: saving model to /content/drive/MyDrive/Squad/training_4/cp.ckpt\n",
            "67/67 [==============================] - 15s 223ms/step - loss: 8.0710e-04 - acc: 0.9996 - val_loss: 2.6182 - val_acc: 0.3831\n",
            "Epoch 48/80\n",
            "67/67 [==============================] - ETA: 0s - loss: 6.8714e-04 - acc: 0.9998\n",
            "Epoch 00048: saving model to /content/drive/MyDrive/Squad/training_4/cp.ckpt\n",
            "67/67 [==============================] - 13s 202ms/step - loss: 6.8714e-04 - acc: 0.9998 - val_loss: 2.6209 - val_acc: 0.3818\n",
            "Epoch 49/80\n",
            "67/67 [==============================] - ETA: 0s - loss: 6.3980e-04 - acc: 0.9998\n",
            "Epoch 00049: saving model to /content/drive/MyDrive/Squad/training_4/cp.ckpt\n",
            "67/67 [==============================] - 13s 197ms/step - loss: 6.3980e-04 - acc: 0.9998 - val_loss: 2.6297 - val_acc: 0.3822\n",
            "Epoch 50/80\n",
            "67/67 [==============================] - ETA: 0s - loss: 7.1233e-04 - acc: 0.9996\n",
            "Epoch 00050: saving model to /content/drive/MyDrive/Squad/training_4/cp.ckpt\n",
            "67/67 [==============================] - 16s 248ms/step - loss: 7.1233e-04 - acc: 0.9996 - val_loss: 2.6327 - val_acc: 0.3822\n",
            "Epoch 51/80\n",
            "67/67 [==============================] - ETA: 0s - loss: 7.3051e-04 - acc: 0.9996\n",
            "Epoch 00051: saving model to /content/drive/MyDrive/Squad/training_4/cp.ckpt\n",
            "67/67 [==============================] - 14s 205ms/step - loss: 7.3051e-04 - acc: 0.9996 - val_loss: 2.6367 - val_acc: 0.3827\n",
            "Epoch 52/80\n",
            "67/67 [==============================] - ETA: 0s - loss: 5.6526e-04 - acc: 0.9997\n",
            "Epoch 00052: saving model to /content/drive/MyDrive/Squad/training_4/cp.ckpt\n",
            "67/67 [==============================] - 14s 217ms/step - loss: 5.6526e-04 - acc: 0.9997 - val_loss: 2.6410 - val_acc: 0.3827\n",
            "Epoch 53/80\n",
            "67/67 [==============================] - ETA: 0s - loss: 5.5773e-04 - acc: 0.9997\n",
            "Epoch 00053: saving model to /content/drive/MyDrive/Squad/training_4/cp.ckpt\n",
            "67/67 [==============================] - 16s 241ms/step - loss: 5.5773e-04 - acc: 0.9997 - val_loss: 2.6419 - val_acc: 0.3809\n",
            "Epoch 54/80\n",
            "67/67 [==============================] - ETA: 0s - loss: 5.6370e-04 - acc: 0.9997\n",
            "Epoch 00054: saving model to /content/drive/MyDrive/Squad/training_4/cp.ckpt\n",
            "67/67 [==============================] - 14s 218ms/step - loss: 5.6370e-04 - acc: 0.9997 - val_loss: 2.6507 - val_acc: 0.3814\n",
            "Epoch 55/80\n",
            "67/67 [==============================] - ETA: 0s - loss: 6.5737e-04 - acc: 0.9996\n",
            "Epoch 00055: saving model to /content/drive/MyDrive/Squad/training_4/cp.ckpt\n",
            "67/67 [==============================] - 16s 247ms/step - loss: 6.5737e-04 - acc: 0.9996 - val_loss: 2.6522 - val_acc: 0.3827\n",
            "Epoch 56/80\n",
            "67/67 [==============================] - ETA: 0s - loss: 5.4794e-04 - acc: 0.9997\n",
            "Epoch 00056: saving model to /content/drive/MyDrive/Squad/training_4/cp.ckpt\n",
            "67/67 [==============================] - 15s 225ms/step - loss: 5.4794e-04 - acc: 0.9997 - val_loss: 2.6584 - val_acc: 0.3805\n",
            "Epoch 57/80\n",
            "67/67 [==============================] - ETA: 0s - loss: 4.8344e-04 - acc: 0.9998\n",
            "Epoch 00057: saving model to /content/drive/MyDrive/Squad/training_4/cp.ckpt\n",
            "67/67 [==============================] - 13s 202ms/step - loss: 4.8344e-04 - acc: 0.9998 - val_loss: 2.6578 - val_acc: 0.3822\n",
            "Epoch 58/80\n",
            "67/67 [==============================] - ETA: 0s - loss: 4.4966e-04 - acc: 0.9997\n",
            "Epoch 00058: saving model to /content/drive/MyDrive/Squad/training_4/cp.ckpt\n",
            "67/67 [==============================] - 17s 250ms/step - loss: 4.4966e-04 - acc: 0.9997 - val_loss: 2.6658 - val_acc: 0.3822\n",
            "Epoch 59/80\n",
            "67/67 [==============================] - ETA: 0s - loss: 4.8672e-04 - acc: 0.9996\n",
            "Epoch 00059: saving model to /content/drive/MyDrive/Squad/training_4/cp.ckpt\n",
            "67/67 [==============================] - 13s 201ms/step - loss: 4.8672e-04 - acc: 0.9996 - val_loss: 2.6654 - val_acc: 0.3818\n",
            "Epoch 60/80\n",
            "67/67 [==============================] - ETA: 0s - loss: 4.7344e-04 - acc: 0.9996\n",
            "Epoch 00060: saving model to /content/drive/MyDrive/Squad/training_4/cp.ckpt\n",
            "67/67 [==============================] - 16s 248ms/step - loss: 4.7344e-04 - acc: 0.9996 - val_loss: 2.6711 - val_acc: 0.3827\n",
            "Epoch 61/80\n",
            "67/67 [==============================] - ETA: 0s - loss: 4.0782e-04 - acc: 0.9996\n",
            "Epoch 00061: saving model to /content/drive/MyDrive/Squad/training_4/cp.ckpt\n",
            "67/67 [==============================] - 13s 202ms/step - loss: 4.0782e-04 - acc: 0.9996 - val_loss: 2.6752 - val_acc: 0.3827\n",
            "Epoch 62/80\n",
            "67/67 [==============================] - ETA: 0s - loss: 3.9639e-04 - acc: 0.9997\n",
            "Epoch 00062: saving model to /content/drive/MyDrive/Squad/training_4/cp.ckpt\n",
            "67/67 [==============================] - 14s 214ms/step - loss: 3.9639e-04 - acc: 0.9997 - val_loss: 2.6830 - val_acc: 0.3831\n",
            "Epoch 63/80\n",
            "67/67 [==============================] - ETA: 0s - loss: 4.2990e-04 - acc: 0.9997\n",
            "Epoch 00063: saving model to /content/drive/MyDrive/Squad/training_4/cp.ckpt\n",
            "67/67 [==============================] - 17s 257ms/step - loss: 4.2990e-04 - acc: 0.9997 - val_loss: 2.6852 - val_acc: 0.3827\n",
            "Epoch 64/80\n",
            "67/67 [==============================] - ETA: 0s - loss: 3.7187e-04 - acc: 0.9998\n",
            "Epoch 00064: saving model to /content/drive/MyDrive/Squad/training_4/cp.ckpt\n",
            "67/67 [==============================] - 13s 200ms/step - loss: 3.7187e-04 - acc: 0.9998 - val_loss: 2.6842 - val_acc: 0.3818\n",
            "Epoch 65/80\n",
            "67/67 [==============================] - ETA: 0s - loss: 3.7476e-04 - acc: 0.9998\n",
            "Epoch 00065: saving model to /content/drive/MyDrive/Squad/training_4/cp.ckpt\n",
            "67/67 [==============================] - 13s 198ms/step - loss: 3.7476e-04 - acc: 0.9998 - val_loss: 2.6933 - val_acc: 0.3831\n",
            "Epoch 66/80\n",
            "67/67 [==============================] - ETA: 0s - loss: 3.8627e-04 - acc: 0.9997\n",
            "Epoch 00066: saving model to /content/drive/MyDrive/Squad/training_4/cp.ckpt\n",
            "67/67 [==============================] - 15s 223ms/step - loss: 3.8627e-04 - acc: 0.9997 - val_loss: 2.6902 - val_acc: 0.3822\n",
            "Epoch 67/80\n",
            "67/67 [==============================] - ETA: 0s - loss: 3.9937e-04 - acc: 0.9997\n",
            "Epoch 00067: saving model to /content/drive/MyDrive/Squad/training_4/cp.ckpt\n",
            "67/67 [==============================] - 14s 218ms/step - loss: 3.9937e-04 - acc: 0.9997 - val_loss: 2.6980 - val_acc: 0.3827\n",
            "Epoch 68/80\n",
            "67/67 [==============================] - ETA: 0s - loss: 4.0475e-04 - acc: 0.9997\n",
            "Epoch 00068: saving model to /content/drive/MyDrive/Squad/training_4/cp.ckpt\n",
            "67/67 [==============================] - 16s 240ms/step - loss: 4.0475e-04 - acc: 0.9997 - val_loss: 2.7015 - val_acc: 0.3827\n",
            "Epoch 69/80\n",
            "67/67 [==============================] - ETA: 0s - loss: 4.1420e-04 - acc: 0.9996\n",
            "Epoch 00069: saving model to /content/drive/MyDrive/Squad/training_4/cp.ckpt\n",
            "67/67 [==============================] - 13s 199ms/step - loss: 4.1420e-04 - acc: 0.9996 - val_loss: 2.7031 - val_acc: 0.3848\n",
            "Epoch 70/80\n",
            "67/67 [==============================] - ETA: 0s - loss: 3.4548e-04 - acc: 0.9997\n",
            "Epoch 00070: saving model to /content/drive/MyDrive/Squad/training_4/cp.ckpt\n",
            "67/67 [==============================] - 17s 251ms/step - loss: 3.4548e-04 - acc: 0.9997 - val_loss: 2.7053 - val_acc: 0.3835\n",
            "Epoch 71/80\n",
            "67/67 [==============================] - ETA: 0s - loss: 3.8979e-04 - acc: 0.9996\n",
            "Epoch 00071: saving model to /content/drive/MyDrive/Squad/training_4/cp.ckpt\n",
            "67/67 [==============================] - 14s 205ms/step - loss: 3.8979e-04 - acc: 0.9996 - val_loss: 2.7062 - val_acc: 0.3822\n",
            "Epoch 72/80\n",
            "67/67 [==============================] - ETA: 0s - loss: 3.6481e-04 - acc: 0.9996\n",
            "Epoch 00072: saving model to /content/drive/MyDrive/Squad/training_4/cp.ckpt\n",
            "67/67 [==============================] - 14s 214ms/step - loss: 3.6481e-04 - acc: 0.9996 - val_loss: 2.7111 - val_acc: 0.3827\n",
            "Epoch 73/80\n",
            "67/67 [==============================] - ETA: 0s - loss: 3.3326e-04 - acc: 0.9997\n",
            "Epoch 00073: saving model to /content/drive/MyDrive/Squad/training_4/cp.ckpt\n",
            "67/67 [==============================] - 16s 238ms/step - loss: 3.3326e-04 - acc: 0.9997 - val_loss: 2.7187 - val_acc: 0.3848\n",
            "Epoch 74/80\n",
            "67/67 [==============================] - ETA: 0s - loss: 2.9056e-04 - acc: 0.9998\n",
            "Epoch 00074: saving model to /content/drive/MyDrive/Squad/training_4/cp.ckpt\n",
            "67/67 [==============================] - 13s 201ms/step - loss: 2.9056e-04 - acc: 0.9998 - val_loss: 2.7155 - val_acc: 0.3827\n",
            "Epoch 75/80\n",
            "67/67 [==============================] - ETA: 0s - loss: 3.1716e-04 - acc: 0.9997\n",
            "Epoch 00075: saving model to /content/drive/MyDrive/Squad/training_4/cp.ckpt\n",
            "67/67 [==============================] - 14s 205ms/step - loss: 3.1716e-04 - acc: 0.9997 - val_loss: 2.7245 - val_acc: 0.3835\n",
            "Epoch 76/80\n",
            "67/67 [==============================] - ETA: 0s - loss: 2.8601e-04 - acc: 0.9998\n",
            "Epoch 00076: saving model to /content/drive/MyDrive/Squad/training_4/cp.ckpt\n",
            "67/67 [==============================] - 14s 205ms/step - loss: 2.8601e-04 - acc: 0.9998 - val_loss: 2.7247 - val_acc: 0.3835\n",
            "Epoch 77/80\n",
            "67/67 [==============================] - ETA: 0s - loss: 2.9278e-04 - acc: 0.9997\n",
            "Epoch 00077: saving model to /content/drive/MyDrive/Squad/training_4/cp.ckpt\n",
            "67/67 [==============================] - 14s 217ms/step - loss: 2.9278e-04 - acc: 0.9997 - val_loss: 2.7283 - val_acc: 0.3831\n",
            "Epoch 78/80\n",
            "67/67 [==============================] - ETA: 0s - loss: 2.8486e-04 - acc: 0.9997\n",
            "Epoch 00078: saving model to /content/drive/MyDrive/Squad/training_4/cp.ckpt\n",
            "67/67 [==============================] - 17s 253ms/step - loss: 2.8486e-04 - acc: 0.9997 - val_loss: 2.7340 - val_acc: 0.3848\n",
            "Epoch 79/80\n",
            "67/67 [==============================] - ETA: 0s - loss: 2.3946e-04 - acc: 0.9997\n",
            "Epoch 00079: saving model to /content/drive/MyDrive/Squad/training_4/cp.ckpt\n",
            "67/67 [==============================] - 14s 205ms/step - loss: 2.3946e-04 - acc: 0.9997 - val_loss: 2.7340 - val_acc: 0.3840\n",
            "Epoch 80/80\n",
            "67/67 [==============================] - ETA: 0s - loss: 2.9110e-04 - acc: 0.9997\n",
            "Epoch 00080: saving model to /content/drive/MyDrive/Squad/training_4/cp.ckpt\n",
            "67/67 [==============================] - 14s 213ms/step - loss: 2.9110e-04 - acc: 0.9997 - val_loss: 2.7361 - val_acc: 0.3835\n"
          ]
        }
      ]
    },
    {
      "cell_type": "code",
      "metadata": {
        "id": "RrfJWxDoY683",
        "outputId": "b7117ae2-98c8-4a50-fd27-23f028ac6a87",
        "colab": {
          "base_uri": "https://localhost:8080/"
        }
      },
      "source": [
        "print(history.history.keys())"
      ],
      "execution_count": 16,
      "outputs": [
        {
          "output_type": "stream",
          "name": "stdout",
          "text": [
            "dict_keys(['loss', 'acc', 'val_loss', 'val_acc'])\n"
          ]
        }
      ]
    },
    {
      "cell_type": "markdown",
      "metadata": {
        "id": "Fy_GR2UOZEtW"
      },
      "source": [
        "Accuracy plot"
      ]
    },
    {
      "cell_type": "code",
      "metadata": {
        "id": "jyBeJ2ayZMaQ",
        "outputId": "cdf40e9a-d7ea-423c-8d30-18cf5035bc15",
        "colab": {
          "base_uri": "https://localhost:8080/",
          "height": 295
        }
      },
      "source": [
        "plt.plot(history.history['acc'])\n",
        "plt.plot(history.history['val_acc'])\n",
        "plt.title('model accuracy')\n",
        "plt.ylabel('accuracy')\n",
        "plt.xlabel('epoch')\n",
        "plt.legend(['train', 'test'], loc='upper left')\n",
        "plt.show()"
      ],
      "execution_count": 17,
      "outputs": [
        {
          "output_type": "display_data",
          "data": {
            "image/png": "[encoded data removed]",
            "text/plain": [
              "<Figure size 432x288 with 1 Axes>"
            ]
          },
          "metadata": {
            "needs_background": "light"
          }
        }
      ]
    },
    {
      "cell_type": "markdown",
      "metadata": {
        "id": "qW6Al6Q4Zm2L"
      },
      "source": [
        "Loss plot"
      ]
    },
    {
      "cell_type": "code",
      "metadata": {
        "id": "sbf3UjFkZr-U",
        "outputId": "4427d537-0888-4249-da66-10c3c776702e",
        "colab": {
          "base_uri": "https://localhost:8080/",
          "height": 295
        }
      },
      "source": [
        "plt.plot(history.history['loss'])\n",
        "plt.plot(history.history['val_loss'])\n",
        "plt.title('model loss')\n",
        "plt.ylabel('loss')\n",
        "plt.xlabel('epoch')\n",
        "plt.legend(['train', 'test'], loc='upper left')\n",
        "plt.show()"
      ],
      "execution_count": 18,
      "outputs": [
        {
          "output_type": "display_data",
          "data": {
            "image/png": "[encoded data removed]",
            "text/plain": [
              "<Figure size 432x288 with 1 Axes>"
            ]
          },
          "metadata": {
            "needs_background": "light"
          }
        }
      ]
    },
    {
      "cell_type": "markdown",
      "metadata": {
        "id": "--xBppUjigLe"
      },
      "source": [
        "use once trained"
      ]
    },
    {
      "cell_type": "code",
      "metadata": {
        "colab": {
          "base_uri": "https://localhost:8080/"
        },
        "id": "xJCIxKNAgAWL",
        "outputId": "25b6c5cb-b1c0-45a7-faf2-bc906d1dfd09"
      },
      "source": [
        "# Loads the weights\n",
        "model.load_weights(checkpoint_path)\n"
      ],
      "execution_count": 19,
      "outputs": [
        {
          "output_type": "execute_result",
          "data": {
            "text/plain": [
              "<tensorflow.python.training.tracking.util.CheckpointLoadStatus at 0x7f47473ad390>"
            ]
          },
          "metadata": {},
          "execution_count": 19
        }
      ]
    },
    {
      "cell_type": "markdown",
      "metadata": {
        "id": "AQEGpVJ0Q7jd"
      },
      "source": [
        "**BOT**"
      ]
    },
    {
      "cell_type": "code",
      "metadata": {
        "id": "mD3A50sZR6cz"
      },
      "source": [
        "# =============================================================================\n",
        "# Bot\n",
        "# =============================================================================\n",
        "\n",
        "def make_inference_models():\n",
        "    # two inputs for the state vectors returned by encoder\n",
        "    dec_state_input_h = Input(shape=(emedding_size,))\n",
        "    dec_state_input_c = Input(shape=(emedding_size,))\n",
        "    dec_states_inputs = [dec_state_input_h, dec_state_input_c]\n",
        "    # these state vectors are used as an initial state \n",
        "    # for LSTM layer in the inference decoder\n",
        "    # third input is the Embedding layer as explained above   \n",
        "    dec_outputs, h, c = dec_lstm(dec_embedding,\n",
        "                                    initial_state=dec_states_inputs)\n",
        "    dec_states = [h, c]\n",
        "    # Dense layer is used to return OHE predicted word\n",
        "    dec_outputs = dec_dense(dec_outputs)\n",
        "    dec_model = Model(\n",
        "        inputs=[dec_inputs] + dec_states_inputs,\n",
        "        outputs=[dec_outputs] + dec_states)\n",
        "   \n",
        "    # single encoder input is a question, represented as a sequence \n",
        "    # of integers padded with zeros\n",
        "    enc_model = Model(inputs=enc_inputs, outputs=enc_states)\n",
        "   \n",
        "    return enc_model, dec_model\n",
        "\n",
        "enc_model, dec_model = make_inference_models()\n",
        "\n",
        "def str_to_tokens(sentence: str):\n",
        "\n",
        "    sentence = clean_text(sentence)\n",
        "    words = sentence.lower().split()\n",
        "    tokens_list = list()\n",
        "    for current_word in words:\n",
        "        result = tokenizer.word_index.get(current_word, '')\n",
        "        if result != \"\":\n",
        "            tokens_list.append(result)\n",
        "    return pad_sequences([tokens_list],\n",
        "                         maxlen = max_q_length,\n",
        "                         padding = \"post\")"
      ],
      "execution_count": 20,
      "outputs": []
    },
    {
      "cell_type": "code",
      "metadata": {
        "id": "KIFUxqKBSGeN",
        "colab": {
          "base_uri": "https://localhost:8080/"
        },
        "outputId": "9bc69e95-99ab-44dd-878b-4c33ec83fad0"
      },
      "source": [
        "# =============================================================================\n",
        "# chatting loop\n",
        "# =============================================================================\n",
        "\n",
        "for _ in range(2):\n",
        "    # encode the input sequence into state vectors\n",
        "    states_values = enc_model.predict(str_to_tokens(input(\"user : \")))\n",
        "    # start with a target sequence of size 1 - word 'start'   \n",
        "    empty_target_seq = np.zeros((1, 1))\n",
        "    empty_target_seq[0, 0] = tokenizer.word_index[\"<BOS>\"]\n",
        "    stop_condition = False\n",
        "    decoded_translation = \"\"\n",
        "    while not stop_condition:\n",
        "        # feed vectors and word for prediction\n",
        "        dec_outputs, h, c = dec_model.predict([empty_target_seq]\n",
        "                                              + states_values)         \n",
        "        # sample the next word using these predictions\n",
        "        sampled_word_index = np.argmax(dec_outputs[0, -1, :])\n",
        "        sampled_word = None\n",
        "        # append the sampled word to the target sequence\n",
        "        for word, index in tokenizer.word_index.items():\n",
        "            if sampled_word_index == index:\n",
        "                if word != \"<EOS>\":\n",
        "                    decoded_translation += \" {}\".format(word)\n",
        "                sampled_word = word\n",
        "        # repeat until <EOS> or lenght\n",
        "        if sampled_word == \"<EOS>\" \\\n",
        "                or len(decoded_translation.split()) \\\n",
        "                > max_a_length:\n",
        "            stop_condition = True\n",
        "        # prepare next iteration\n",
        "        empty_target_seq = np.zeros((1, 1))\n",
        "        empty_target_seq[0, 0] = sampled_word_index\n",
        "        states_values = [h, c]\n",
        "    print(\"chatbot: \" + decoded_translation)"
      ],
      "execution_count": 21,
      "outputs": [
        {
          "output_type": "stream",
          "name": "stdout",
          "text": [
            "user : who is beyonce\n",
            "chatbot:  michael jackson\n",
            "user : who is beyonces husband\n",
            "chatbot:  1981\n"
          ]
        }
      ]
    }
  ]
}